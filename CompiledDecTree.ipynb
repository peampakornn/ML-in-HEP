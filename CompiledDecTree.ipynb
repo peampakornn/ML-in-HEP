{
 "cells": [
  {
   "cell_type": "code",
   "execution_count": 1,
   "id": "ac10147c-bd17-4736-aaa5-ed7a3a44a0af",
   "metadata": {
    "tags": []
   },
   "outputs": [
    {
     "name": "stdout",
     "output_type": "stream",
     "text": [
      "Requirement already satisfied: scikit-learn in /opt/conda/lib/python3.9/site-packages (0.24.2)\n",
      "Requirement already satisfied: numpy>=1.13.3 in /opt/conda/lib/python3.9/site-packages (from scikit-learn) (1.19.5)\n",
      "Requirement already satisfied: joblib>=0.11 in /opt/conda/lib/python3.9/site-packages (from scikit-learn) (1.0.1)\n",
      "Requirement already satisfied: threadpoolctl>=2.0.0 in /opt/conda/lib/python3.9/site-packages (from scikit-learn) (2.1.0)\n",
      "Requirement already satisfied: scipy>=0.19.1 in /opt/conda/lib/python3.9/site-packages (from scikit-learn) (1.6.3)\n"
     ]
    }
   ],
   "source": [
    "!pip install scikit-learn"
   ]
  },
  {
   "cell_type": "code",
   "execution_count": 2,
   "id": "b3cafc21-6d43-4ff0-9f0f-531beb21187a",
   "metadata": {},
   "outputs": [],
   "source": [
    "import keras\n",
    "import numpy as np\n",
    "import pandas as pd\n",
    "import matplotlib.pyplot as plt"
   ]
  },
  {
   "cell_type": "markdown",
   "id": "d1583494-13f5-4578-9fa4-34910dd215ec",
   "metadata": {},
   "source": [
    "# Preprocessing"
   ]
  },
  {
   "cell_type": "code",
   "execution_count": 3,
   "id": "99284db8-614b-426a-a94b-faee4af2303a",
   "metadata": {},
   "outputs": [
    {
     "data": {
      "text/html": [
       "<div>\n",
       "<style scoped>\n",
       "    .dataframe tbody tr th:only-of-type {\n",
       "        vertical-align: middle;\n",
       "    }\n",
       "\n",
       "    .dataframe tbody tr th {\n",
       "        vertical-align: top;\n",
       "    }\n",
       "\n",
       "    .dataframe thead th {\n",
       "        text-align: right;\n",
       "    }\n",
       "</style>\n",
       "<table border=\"1\" class=\"dataframe\">\n",
       "  <thead>\n",
       "    <tr style=\"text-align: right;\">\n",
       "      <th></th>\n",
       "      <th>Unnamed: 0</th>\n",
       "      <th>mbb</th>\n",
       "      <th>weight</th>\n",
       "      <th>njets</th>\n",
       "      <th>nbjets</th>\n",
       "      <th>ptbb</th>\n",
       "      <th>etabb</th>\n",
       "      <th>phibb</th>\n",
       "      <th>ebb</th>\n",
       "      <th>dRbb</th>\n",
       "      <th>...</th>\n",
       "      <th>dEta23</th>\n",
       "      <th>dPhi23</th>\n",
       "      <th>mj4</th>\n",
       "      <th>ptj4</th>\n",
       "      <th>etaj4</th>\n",
       "      <th>phij4</th>\n",
       "      <th>ej4</th>\n",
       "      <th>btagj4</th>\n",
       "      <th>qglikelihoodj4</th>\n",
       "      <th>label</th>\n",
       "    </tr>\n",
       "  </thead>\n",
       "  <tbody>\n",
       "    <tr>\n",
       "      <th>0</th>\n",
       "      <td>0</td>\n",
       "      <td>128.748718</td>\n",
       "      <td>1.266521</td>\n",
       "      <td>7</td>\n",
       "      <td>2</td>\n",
       "      <td>135.384552</td>\n",
       "      <td>-0.805419</td>\n",
       "      <td>-0.574222</td>\n",
       "      <td>222.708755</td>\n",
       "      <td>1.975177</td>\n",
       "      <td>...</td>\n",
       "      <td>2.923688</td>\n",
       "      <td>2.859488</td>\n",
       "      <td>5.701911</td>\n",
       "      <td>29.570999</td>\n",
       "      <td>0.633291</td>\n",
       "      <td>2.527016</td>\n",
       "      <td>36.154144</td>\n",
       "      <td>0.750850</td>\n",
       "      <td>0.563677</td>\n",
       "      <td>1.0</td>\n",
       "    </tr>\n",
       "    <tr>\n",
       "      <th>1</th>\n",
       "      <td>1</td>\n",
       "      <td>323.834320</td>\n",
       "      <td>1.221307</td>\n",
       "      <td>8</td>\n",
       "      <td>4</td>\n",
       "      <td>78.824593</td>\n",
       "      <td>-1.744408</td>\n",
       "      <td>-0.241483</td>\n",
       "      <td>398.609894</td>\n",
       "      <td>2.956917</td>\n",
       "      <td>...</td>\n",
       "      <td>1.669306</td>\n",
       "      <td>0.536129</td>\n",
       "      <td>5.549069</td>\n",
       "      <td>23.957195</td>\n",
       "      <td>-4.069767</td>\n",
       "      <td>2.107588</td>\n",
       "      <td>701.493103</td>\n",
       "      <td>0.054843</td>\n",
       "      <td>0.040889</td>\n",
       "      <td>1.0</td>\n",
       "    </tr>\n",
       "    <tr>\n",
       "      <th>2</th>\n",
       "      <td>2</td>\n",
       "      <td>288.848236</td>\n",
       "      <td>0.858359</td>\n",
       "      <td>4</td>\n",
       "      <td>3</td>\n",
       "      <td>82.293976</td>\n",
       "      <td>1.627124</td>\n",
       "      <td>1.730240</td>\n",
       "      <td>361.573914</td>\n",
       "      <td>2.707124</td>\n",
       "      <td>...</td>\n",
       "      <td>0.954234</td>\n",
       "      <td>1.812456</td>\n",
       "      <td>4.562911</td>\n",
       "      <td>28.454098</td>\n",
       "      <td>1.619449</td>\n",
       "      <td>-1.027924</td>\n",
       "      <td>74.807343</td>\n",
       "      <td>0.728906</td>\n",
       "      <td>0.884353</td>\n",
       "      <td>1.0</td>\n",
       "    </tr>\n",
       "    <tr>\n",
       "      <th>3</th>\n",
       "      <td>3</td>\n",
       "      <td>107.835846</td>\n",
       "      <td>0.050859</td>\n",
       "      <td>4</td>\n",
       "      <td>3</td>\n",
       "      <td>17.217613</td>\n",
       "      <td>-3.646276</td>\n",
       "      <td>-2.009611</td>\n",
       "      <td>347.376099</td>\n",
       "      <td>2.877990</td>\n",
       "      <td>...</td>\n",
       "      <td>3.567277</td>\n",
       "      <td>2.119354</td>\n",
       "      <td>3.452726</td>\n",
       "      <td>16.632441</td>\n",
       "      <td>-0.966053</td>\n",
       "      <td>-1.661778</td>\n",
       "      <td>25.253466</td>\n",
       "      <td>0.046178</td>\n",
       "      <td>-1.000000</td>\n",
       "      <td>1.0</td>\n",
       "    </tr>\n",
       "    <tr>\n",
       "      <th>4</th>\n",
       "      <td>4</td>\n",
       "      <td>248.304901</td>\n",
       "      <td>0.958807</td>\n",
       "      <td>7</td>\n",
       "      <td>3</td>\n",
       "      <td>28.405352</td>\n",
       "      <td>1.845880</td>\n",
       "      <td>-0.232091</td>\n",
       "      <td>264.869232</td>\n",
       "      <td>3.197687</td>\n",
       "      <td>...</td>\n",
       "      <td>1.064546</td>\n",
       "      <td>0.832365</td>\n",
       "      <td>10.167414</td>\n",
       "      <td>50.971561</td>\n",
       "      <td>1.470771</td>\n",
       "      <td>-2.602962</td>\n",
       "      <td>117.226265</td>\n",
       "      <td>0.663049</td>\n",
       "      <td>0.088564</td>\n",
       "      <td>1.0</td>\n",
       "    </tr>\n",
       "    <tr>\n",
       "      <th>...</th>\n",
       "      <td>...</td>\n",
       "      <td>...</td>\n",
       "      <td>...</td>\n",
       "      <td>...</td>\n",
       "      <td>...</td>\n",
       "      <td>...</td>\n",
       "      <td>...</td>\n",
       "      <td>...</td>\n",
       "      <td>...</td>\n",
       "      <td>...</td>\n",
       "      <td>...</td>\n",
       "      <td>...</td>\n",
       "      <td>...</td>\n",
       "      <td>...</td>\n",
       "      <td>...</td>\n",
       "      <td>...</td>\n",
       "      <td>...</td>\n",
       "      <td>...</td>\n",
       "      <td>...</td>\n",
       "      <td>...</td>\n",
       "      <td>...</td>\n",
       "    </tr>\n",
       "    <tr>\n",
       "      <th>535527</th>\n",
       "      <td>535527</td>\n",
       "      <td>667.028137</td>\n",
       "      <td>1.109031</td>\n",
       "      <td>11</td>\n",
       "      <td>0</td>\n",
       "      <td>157.071304</td>\n",
       "      <td>1.240662</td>\n",
       "      <td>2.938507</td>\n",
       "      <td>729.059326</td>\n",
       "      <td>2.864907</td>\n",
       "      <td>...</td>\n",
       "      <td>0.315239</td>\n",
       "      <td>1.585665</td>\n",
       "      <td>6.828758</td>\n",
       "      <td>27.807114</td>\n",
       "      <td>-0.200469</td>\n",
       "      <td>-1.394060</td>\n",
       "      <td>29.178085</td>\n",
       "      <td>0.006265</td>\n",
       "      <td>0.069917</td>\n",
       "      <td>0.0</td>\n",
       "    </tr>\n",
       "    <tr>\n",
       "      <th>535528</th>\n",
       "      <td>535528</td>\n",
       "      <td>419.362488</td>\n",
       "      <td>1.109031</td>\n",
       "      <td>9</td>\n",
       "      <td>3</td>\n",
       "      <td>156.225861</td>\n",
       "      <td>1.433436</td>\n",
       "      <td>1.757243</td>\n",
       "      <td>543.777222</td>\n",
       "      <td>2.527981</td>\n",
       "      <td>...</td>\n",
       "      <td>0.575097</td>\n",
       "      <td>2.420889</td>\n",
       "      <td>15.599944</td>\n",
       "      <td>76.274765</td>\n",
       "      <td>2.903633</td>\n",
       "      <td>-1.856060</td>\n",
       "      <td>697.902283</td>\n",
       "      <td>0.027318</td>\n",
       "      <td>0.135313</td>\n",
       "      <td>0.0</td>\n",
       "    </tr>\n",
       "    <tr>\n",
       "      <th>535529</th>\n",
       "      <td>535529</td>\n",
       "      <td>607.648499</td>\n",
       "      <td>1.189336</td>\n",
       "      <td>9</td>\n",
       "      <td>1</td>\n",
       "      <td>263.931030</td>\n",
       "      <td>1.292060</td>\n",
       "      <td>-2.004730</td>\n",
       "      <td>797.593994</td>\n",
       "      <td>2.442989</td>\n",
       "      <td>...</td>\n",
       "      <td>1.081903</td>\n",
       "      <td>1.396448</td>\n",
       "      <td>18.860130</td>\n",
       "      <td>143.125443</td>\n",
       "      <td>1.419641</td>\n",
       "      <td>0.369972</td>\n",
       "      <td>313.828522</td>\n",
       "      <td>0.019559</td>\n",
       "      <td>0.061828</td>\n",
       "      <td>0.0</td>\n",
       "    </tr>\n",
       "    <tr>\n",
       "      <th>535530</th>\n",
       "      <td>535530</td>\n",
       "      <td>435.928528</td>\n",
       "      <td>1.266521</td>\n",
       "      <td>10</td>\n",
       "      <td>3</td>\n",
       "      <td>185.856598</td>\n",
       "      <td>-2.017686</td>\n",
       "      <td>-2.084546</td>\n",
       "      <td>834.221619</td>\n",
       "      <td>2.354301</td>\n",
       "      <td>...</td>\n",
       "      <td>1.524903</td>\n",
       "      <td>1.770393</td>\n",
       "      <td>8.116883</td>\n",
       "      <td>44.363911</td>\n",
       "      <td>-1.131178</td>\n",
       "      <td>2.052008</td>\n",
       "      <td>76.338470</td>\n",
       "      <td>0.010020</td>\n",
       "      <td>0.319553</td>\n",
       "      <td>0.0</td>\n",
       "    </tr>\n",
       "    <tr>\n",
       "      <th>535531</th>\n",
       "      <td>535531</td>\n",
       "      <td>640.478699</td>\n",
       "      <td>0.012480</td>\n",
       "      <td>8</td>\n",
       "      <td>1</td>\n",
       "      <td>113.113647</td>\n",
       "      <td>3.460736</td>\n",
       "      <td>2.748201</td>\n",
       "      <td>1912.972656</td>\n",
       "      <td>3.223667</td>\n",
       "      <td>...</td>\n",
       "      <td>2.842847</td>\n",
       "      <td>2.405670</td>\n",
       "      <td>11.715548</td>\n",
       "      <td>69.232140</td>\n",
       "      <td>-0.504456</td>\n",
       "      <td>-0.815683</td>\n",
       "      <td>79.101883</td>\n",
       "      <td>0.003234</td>\n",
       "      <td>0.840745</td>\n",
       "      <td>0.0</td>\n",
       "    </tr>\n",
       "  </tbody>\n",
       "</table>\n",
       "<p>535532 rows × 47 columns</p>\n",
       "</div>"
      ],
      "text/plain": [
       "        Unnamed: 0         mbb    weight  njets  nbjets        ptbb     etabb  \\\n",
       "0                0  128.748718  1.266521      7       2  135.384552 -0.805419   \n",
       "1                1  323.834320  1.221307      8       4   78.824593 -1.744408   \n",
       "2                2  288.848236  0.858359      4       3   82.293976  1.627124   \n",
       "3                3  107.835846  0.050859      4       3   17.217613 -3.646276   \n",
       "4                4  248.304901  0.958807      7       3   28.405352  1.845880   \n",
       "...            ...         ...       ...    ...     ...         ...       ...   \n",
       "535527      535527  667.028137  1.109031     11       0  157.071304  1.240662   \n",
       "535528      535528  419.362488  1.109031      9       3  156.225861  1.433436   \n",
       "535529      535529  607.648499  1.189336      9       1  263.931030  1.292060   \n",
       "535530      535530  435.928528  1.266521     10       3  185.856598 -2.017686   \n",
       "535531      535531  640.478699  0.012480      8       1  113.113647  3.460736   \n",
       "\n",
       "           phibb          ebb      dRbb  ...    dEta23    dPhi23        mj4  \\\n",
       "0      -0.574222   222.708755  1.975177  ...  2.923688  2.859488   5.701911   \n",
       "1      -0.241483   398.609894  2.956917  ...  1.669306  0.536129   5.549069   \n",
       "2       1.730240   361.573914  2.707124  ...  0.954234  1.812456   4.562911   \n",
       "3      -2.009611   347.376099  2.877990  ...  3.567277  2.119354   3.452726   \n",
       "4      -0.232091   264.869232  3.197687  ...  1.064546  0.832365  10.167414   \n",
       "...          ...          ...       ...  ...       ...       ...        ...   \n",
       "535527  2.938507   729.059326  2.864907  ...  0.315239  1.585665   6.828758   \n",
       "535528  1.757243   543.777222  2.527981  ...  0.575097  2.420889  15.599944   \n",
       "535529 -2.004730   797.593994  2.442989  ...  1.081903  1.396448  18.860130   \n",
       "535530 -2.084546   834.221619  2.354301  ...  1.524903  1.770393   8.116883   \n",
       "535531  2.748201  1912.972656  3.223667  ...  2.842847  2.405670  11.715548   \n",
       "\n",
       "              ptj4     etaj4     phij4         ej4    btagj4  qglikelihoodj4  \\\n",
       "0        29.570999  0.633291  2.527016   36.154144  0.750850        0.563677   \n",
       "1        23.957195 -4.069767  2.107588  701.493103  0.054843        0.040889   \n",
       "2        28.454098  1.619449 -1.027924   74.807343  0.728906        0.884353   \n",
       "3        16.632441 -0.966053 -1.661778   25.253466  0.046178       -1.000000   \n",
       "4        50.971561  1.470771 -2.602962  117.226265  0.663049        0.088564   \n",
       "...            ...       ...       ...         ...       ...             ...   \n",
       "535527   27.807114 -0.200469 -1.394060   29.178085  0.006265        0.069917   \n",
       "535528   76.274765  2.903633 -1.856060  697.902283  0.027318        0.135313   \n",
       "535529  143.125443  1.419641  0.369972  313.828522  0.019559        0.061828   \n",
       "535530   44.363911 -1.131178  2.052008   76.338470  0.010020        0.319553   \n",
       "535531   69.232140 -0.504456 -0.815683   79.101883  0.003234        0.840745   \n",
       "\n",
       "        label  \n",
       "0         1.0  \n",
       "1         1.0  \n",
       "2         1.0  \n",
       "3         1.0  \n",
       "4         1.0  \n",
       "...       ...  \n",
       "535527    0.0  \n",
       "535528    0.0  \n",
       "535529    0.0  \n",
       "535530    0.0  \n",
       "535531    0.0  \n",
       "\n",
       "[535532 rows x 47 columns]"
      ]
     },
     "execution_count": 3,
     "metadata": {},
     "output_type": "execute_result"
    }
   ],
   "source": [
    "dataset_df = pd.read_csv('dataset_new.csv')\n",
    "dataset_df"
   ]
  },
  {
   "cell_type": "code",
   "execution_count": 4,
   "id": "652c0342-8eee-4164-b678-011f71852580",
   "metadata": {},
   "outputs": [],
   "source": [
    "from sklearn import preprocessing"
   ]
  },
  {
   "cell_type": "code",
   "execution_count": 5,
   "id": "ef251939-6e57-4646-ad41-9cacf4ae1066",
   "metadata": {},
   "outputs": [
    {
     "data": {
      "text/plain": [
       "array([[-0.65847977],\n",
       "       [ 0.09501579],\n",
       "       [-0.04011391],\n",
       "       [-0.73925332],\n",
       "       [-0.19670785]])"
      ]
     },
     "execution_count": 5,
     "metadata": {},
     "output_type": "execute_result"
    }
   ],
   "source": [
    "scaler = preprocessing.StandardScaler()\n",
    "scaler.fit(dataset_df[['mbb']])\n",
    "z = scaler.transform(dataset_df[['mbb']])\n",
    "z[:5]"
   ]
  },
  {
   "cell_type": "code",
   "execution_count": 6,
   "id": "48c19775-3d75-4480-a3f6-9b2c5e673090",
   "metadata": {
    "tags": []
   },
   "outputs": [
    {
     "name": "stdout",
     "output_type": "stream",
     "text": [
      "mean = 1.6983013186381548e-17\n",
      "std = 0.9999999999999999\n"
     ]
    }
   ],
   "source": [
    "print(f'mean = {z.mean()}')\n",
    "print(f'std = {z.std()}')"
   ]
  },
  {
   "cell_type": "code",
   "execution_count": 7,
   "id": "db772bd2-6a3e-4a5c-9fd3-1f4f478714f0",
   "metadata": {},
   "outputs": [
    {
     "data": {
      "text/plain": [
       "Index(['Unnamed: 0', 'mbb', 'weight', 'njets', 'nbjets', 'ptbb', 'etabb',\n",
       "       'phibb', 'ebb', 'dRbb', 'dEtabb', 'dPhibb', 'mj1', 'ptj1', 'etaj1',\n",
       "       'phij1', 'ej1', 'btagj1', 'qglikelihoodj1', 'mj2', 'ptj2', 'etaj2',\n",
       "       'phij2', 'ej2', 'btagj2', 'qglikelihoodj2', 'mj3', 'ptj3', 'etaj3',\n",
       "       'phij3', 'ej3', 'btagj3', 'qglikelihoodj3', 'dR13', 'dEta13', 'dPhi13',\n",
       "       'dR23', 'dEta23', 'dPhi23', 'mj4', 'ptj4', 'etaj4', 'phij4', 'ej4',\n",
       "       'btagj4', 'qglikelihoodj4', 'label'],\n",
       "      dtype='object')"
      ]
     },
     "execution_count": 7,
     "metadata": {},
     "output_type": "execute_result"
    }
   ],
   "source": [
    "dataset_df.columns"
   ]
  },
  {
   "cell_type": "code",
   "execution_count": 8,
   "id": "7e463a7f-9ce4-46a0-b4da-2c7cc4daf3b1",
   "metadata": {},
   "outputs": [],
   "source": [
    "scaler = preprocessing.StandardScaler()\n",
    "cols = dataset_df[['Unnamed: 0', 'mbb', 'weight', 'njets', 'nbjets', 'ptbb', 'etabb',\n",
    "       'phibb', 'ebb', 'dRbb', 'dEtabb', 'dPhibb', 'mj1', 'ptj1', 'etaj1',\n",
    "       'phij1', 'ej1', 'btagj1', 'qglikelihoodj1', 'mj2', 'ptj2', 'etaj2',\n",
    "       'phij2', 'ej2', 'btagj2', 'qglikelihoodj2', 'mj3', 'ptj3', 'etaj3',\n",
    "       'phij3', 'ej3', 'btagj3', 'qglikelihoodj3', 'dR13', 'dEta13', 'dPhi13',\n",
    "       'dR23', 'dEta23', 'dPhi23', 'mj4', 'ptj4', 'etaj4', 'phij4', 'ej4',\n",
    "       'btagj4', 'qglikelihoodj4', 'label']]\n",
    "scaler.fit(cols)\n",
    "z = scaler.transform(cols)"
   ]
  },
  {
   "cell_type": "code",
   "execution_count": 9,
   "id": "8b7dfe8f-db1d-44fc-954d-7b4deb918467",
   "metadata": {
    "scrolled": true
   },
   "outputs": [],
   "source": [
    "z_df = pd.DataFrame(z, columns=['Unnamed: 0', 'mbb', 'weight', 'njets', 'nbjets', 'ptbb', 'etabb',\n",
    "       'phibb', 'ebb', 'dRbb', 'dEtabb', 'dPhibb', 'mj1', 'ptj1', 'etaj1',\n",
    "       'phij1', 'ej1', 'btagj1', 'qglikelihoodj1', 'mj2', 'ptj2', 'etaj2',\n",
    "       'phij2', 'ej2', 'btagj2', 'qglikelihoodj2', 'mj3', 'ptj3', 'etaj3',\n",
    "       'phij3', 'ej3', 'btagj3', 'qglikelihoodj3', 'dR13', 'dEta13', 'dPhi13',\n",
    "       'dR23', 'dEta23', 'dPhi23', 'mj4', 'ptj4', 'etaj4', 'phij4', 'ej4',\n",
    "       'btagj4', 'qglikelihoodj4', 'label'])"
   ]
  },
  {
   "cell_type": "code",
   "execution_count": 10,
   "id": "995ea26f-8ef1-4272-85db-d2f7c2f91b7a",
   "metadata": {},
   "outputs": [],
   "source": [
    "z_df['label'] = dataset_df['label']"
   ]
  },
  {
   "cell_type": "code",
   "execution_count": 11,
   "id": "10c42cf5-2055-4600-9036-ec996e8f8da1",
   "metadata": {},
   "outputs": [],
   "source": [
    "z_df = z_df.drop('Unnamed: 0', axis=1)"
   ]
  },
  {
   "cell_type": "code",
   "execution_count": 12,
   "id": "130a806a-e6b5-4237-aa54-1a1cc1b36d22",
   "metadata": {},
   "outputs": [
    {
     "data": {
      "text/html": [
       "<div>\n",
       "<style scoped>\n",
       "    .dataframe tbody tr th:only-of-type {\n",
       "        vertical-align: middle;\n",
       "    }\n",
       "\n",
       "    .dataframe tbody tr th {\n",
       "        vertical-align: top;\n",
       "    }\n",
       "\n",
       "    .dataframe thead th {\n",
       "        text-align: right;\n",
       "    }\n",
       "</style>\n",
       "<table border=\"1\" class=\"dataframe\">\n",
       "  <thead>\n",
       "    <tr style=\"text-align: right;\">\n",
       "      <th></th>\n",
       "      <th>mbb</th>\n",
       "      <th>weight</th>\n",
       "      <th>njets</th>\n",
       "      <th>nbjets</th>\n",
       "      <th>ptbb</th>\n",
       "      <th>etabb</th>\n",
       "      <th>phibb</th>\n",
       "      <th>ebb</th>\n",
       "      <th>dRbb</th>\n",
       "      <th>dEtabb</th>\n",
       "      <th>...</th>\n",
       "      <th>dEta23</th>\n",
       "      <th>dPhi23</th>\n",
       "      <th>mj4</th>\n",
       "      <th>ptj4</th>\n",
       "      <th>etaj4</th>\n",
       "      <th>phij4</th>\n",
       "      <th>ej4</th>\n",
       "      <th>btagj4</th>\n",
       "      <th>qglikelihoodj4</th>\n",
       "      <th>label</th>\n",
       "    </tr>\n",
       "  </thead>\n",
       "  <tbody>\n",
       "    <tr>\n",
       "      <th>count</th>\n",
       "      <td>5.355320e+05</td>\n",
       "      <td>5.355320e+05</td>\n",
       "      <td>5.355320e+05</td>\n",
       "      <td>5.355320e+05</td>\n",
       "      <td>5.355320e+05</td>\n",
       "      <td>5.355320e+05</td>\n",
       "      <td>5.355320e+05</td>\n",
       "      <td>5.355320e+05</td>\n",
       "      <td>5.355320e+05</td>\n",
       "      <td>5.355320e+05</td>\n",
       "      <td>...</td>\n",
       "      <td>5.355320e+05</td>\n",
       "      <td>5.355320e+05</td>\n",
       "      <td>5.355320e+05</td>\n",
       "      <td>5.355320e+05</td>\n",
       "      <td>5.355320e+05</td>\n",
       "      <td>5.355320e+05</td>\n",
       "      <td>5.355320e+05</td>\n",
       "      <td>5.355320e+05</td>\n",
       "      <td>5.355320e+05</td>\n",
       "      <td>535532.000000</td>\n",
       "    </tr>\n",
       "    <tr>\n",
       "      <th>mean</th>\n",
       "      <td>6.589362e-15</td>\n",
       "      <td>3.929892e-17</td>\n",
       "      <td>-4.534121e-15</td>\n",
       "      <td>4.011362e-13</td>\n",
       "      <td>4.162837e-16</td>\n",
       "      <td>-1.645478e-17</td>\n",
       "      <td>-4.749522e-17</td>\n",
       "      <td>-8.452416e-16</td>\n",
       "      <td>1.759375e-17</td>\n",
       "      <td>4.801667e-16</td>\n",
       "      <td>...</td>\n",
       "      <td>1.821179e-16</td>\n",
       "      <td>-3.608809e-16</td>\n",
       "      <td>4.793136e-16</td>\n",
       "      <td>1.160473e-15</td>\n",
       "      <td>-3.055014e-17</td>\n",
       "      <td>-1.140735e-18</td>\n",
       "      <td>2.208493e-16</td>\n",
       "      <td>1.642325e-16</td>\n",
       "      <td>-2.058099e-14</td>\n",
       "      <td>0.743677</td>\n",
       "    </tr>\n",
       "    <tr>\n",
       "      <th>std</th>\n",
       "      <td>1.000001e+00</td>\n",
       "      <td>1.000001e+00</td>\n",
       "      <td>1.000001e+00</td>\n",
       "      <td>1.000001e+00</td>\n",
       "      <td>1.000001e+00</td>\n",
       "      <td>1.000001e+00</td>\n",
       "      <td>1.000001e+00</td>\n",
       "      <td>1.000001e+00</td>\n",
       "      <td>1.000001e+00</td>\n",
       "      <td>1.000001e+00</td>\n",
       "      <td>...</td>\n",
       "      <td>1.000001e+00</td>\n",
       "      <td>1.000001e+00</td>\n",
       "      <td>1.000001e+00</td>\n",
       "      <td>1.000001e+00</td>\n",
       "      <td>1.000001e+00</td>\n",
       "      <td>1.000001e+00</td>\n",
       "      <td>1.000001e+00</td>\n",
       "      <td>1.000001e+00</td>\n",
       "      <td>1.000001e+00</td>\n",
       "      <td>0.436602</td>\n",
       "    </tr>\n",
       "    <tr>\n",
       "      <th>min</th>\n",
       "      <td>-1.016456e+00</td>\n",
       "      <td>-2.761393e+00</td>\n",
       "      <td>-1.935288e+00</td>\n",
       "      <td>-2.424276e+00</td>\n",
       "      <td>-1.195100e+00</td>\n",
       "      <td>-3.917459e+00</td>\n",
       "      <td>-1.729780e+00</td>\n",
       "      <td>-1.033562e+00</td>\n",
       "      <td>-5.278323e+00</td>\n",
       "      <td>-1.592355e+00</td>\n",
       "      <td>...</td>\n",
       "      <td>-1.492817e+00</td>\n",
       "      <td>-2.143950e+00</td>\n",
       "      <td>-1.987192e+00</td>\n",
       "      <td>-1.356787e+00</td>\n",
       "      <td>-2.390140e+00</td>\n",
       "      <td>-1.728948e+00</td>\n",
       "      <td>-6.983073e-01</td>\n",
       "      <td>-5.978781e-01</td>\n",
       "      <td>-1.467537e+00</td>\n",
       "      <td>0.000000</td>\n",
       "    </tr>\n",
       "    <tr>\n",
       "      <th>25%</th>\n",
       "      <td>-3.999677e-01</td>\n",
       "      <td>-4.585904e-01</td>\n",
       "      <td>-8.248457e-01</td>\n",
       "      <td>-3.755924e-01</td>\n",
       "      <td>-5.604236e-01</td>\n",
       "      <td>-8.716981e-01</td>\n",
       "      <td>-8.664918e-01</td>\n",
       "      <td>-5.107635e-01</td>\n",
       "      <td>-4.558220e-01</td>\n",
       "      <td>-8.625137e-01</td>\n",
       "      <td>...</td>\n",
       "      <td>-8.028849e-01</td>\n",
       "      <td>-7.408050e-01</td>\n",
       "      <td>-6.133875e-01</td>\n",
       "      <td>-5.315307e-01</td>\n",
       "      <td>-7.089355e-01</td>\n",
       "      <td>-8.641089e-01</td>\n",
       "      <td>-5.320560e-01</td>\n",
       "      <td>-5.295583e-01</td>\n",
       "      <td>-1.467537e+00</td>\n",
       "      <td>0.000000</td>\n",
       "    </tr>\n",
       "    <tr>\n",
       "      <th>50%</th>\n",
       "      <td>-2.096055e-01</td>\n",
       "      <td>3.026259e-01</td>\n",
       "      <td>-8.455098e-02</td>\n",
       "      <td>-3.755924e-01</td>\n",
       "      <td>-2.145474e-01</td>\n",
       "      <td>-3.133101e-03</td>\n",
       "      <td>-2.462382e-03</td>\n",
       "      <td>-2.999525e-01</td>\n",
       "      <td>1.960405e-01</td>\n",
       "      <td>-8.621697e-02</td>\n",
       "      <td>...</td>\n",
       "      <td>-1.385903e-01</td>\n",
       "      <td>4.582546e-02</td>\n",
       "      <td>-2.005756e-01</td>\n",
       "      <td>-2.493427e-01</td>\n",
       "      <td>-6.890555e-04</td>\n",
       "      <td>-2.260788e-03</td>\n",
       "      <td>-3.805283e-01</td>\n",
       "      <td>-4.421269e-01</td>\n",
       "      <td>2.339623e-01</td>\n",
       "      <td>1.000000</td>\n",
       "    </tr>\n",
       "    <tr>\n",
       "      <th>75%</th>\n",
       "      <td>-2.397067e-02</td>\n",
       "      <td>7.202699e-01</td>\n",
       "      <td>6.557437e-01</td>\n",
       "      <td>6.487492e-01</td>\n",
       "      <td>2.585389e-01</td>\n",
       "      <td>8.727202e-01</td>\n",
       "      <td>8.648144e-01</td>\n",
       "      <td>1.381818e-01</td>\n",
       "      <td>6.899686e-01</td>\n",
       "      <td>8.081519e-01</td>\n",
       "      <td>...</td>\n",
       "      <td>6.406930e-01</td>\n",
       "      <td>7.855786e-01</td>\n",
       "      <td>3.378530e-01</td>\n",
       "      <td>1.804706e-01</td>\n",
       "      <td>7.094489e-01</td>\n",
       "      <td>8.615345e-01</td>\n",
       "      <td>9.402631e-02</td>\n",
       "      <td>-2.418902e-01</td>\n",
       "      <td>8.228879e-01</td>\n",
       "      <td>1.000000</td>\n",
       "    </tr>\n",
       "    <tr>\n",
       "      <th>max</th>\n",
       "      <td>1.806598e+01</td>\n",
       "      <td>8.133781e+00</td>\n",
       "      <td>6.578102e+00</td>\n",
       "      <td>5.770457e+00</td>\n",
       "      <td>1.882235e+01</td>\n",
       "      <td>4.614227e+00</td>\n",
       "      <td>1.736078e+00</td>\n",
       "      <td>1.462507e+01</td>\n",
       "      <td>1.867199e+00</td>\n",
       "      <td>1.996118e+00</td>\n",
       "      <td>...</td>\n",
       "      <td>3.920283e+00</td>\n",
       "      <td>1.889612e+00</td>\n",
       "      <td>2.793499e+01</td>\n",
       "      <td>2.626487e+01</td>\n",
       "      <td>2.390311e+00</td>\n",
       "      <td>1.742353e+00</td>\n",
       "      <td>2.099363e+01</td>\n",
       "      <td>2.720950e+00</td>\n",
       "      <td>1.304852e+00</td>\n",
       "      <td>1.000000</td>\n",
       "    </tr>\n",
       "  </tbody>\n",
       "</table>\n",
       "<p>8 rows × 46 columns</p>\n",
       "</div>"
      ],
      "text/plain": [
       "                mbb        weight         njets        nbjets          ptbb  \\\n",
       "count  5.355320e+05  5.355320e+05  5.355320e+05  5.355320e+05  5.355320e+05   \n",
       "mean   6.589362e-15  3.929892e-17 -4.534121e-15  4.011362e-13  4.162837e-16   \n",
       "std    1.000001e+00  1.000001e+00  1.000001e+00  1.000001e+00  1.000001e+00   \n",
       "min   -1.016456e+00 -2.761393e+00 -1.935288e+00 -2.424276e+00 -1.195100e+00   \n",
       "25%   -3.999677e-01 -4.585904e-01 -8.248457e-01 -3.755924e-01 -5.604236e-01   \n",
       "50%   -2.096055e-01  3.026259e-01 -8.455098e-02 -3.755924e-01 -2.145474e-01   \n",
       "75%   -2.397067e-02  7.202699e-01  6.557437e-01  6.487492e-01  2.585389e-01   \n",
       "max    1.806598e+01  8.133781e+00  6.578102e+00  5.770457e+00  1.882235e+01   \n",
       "\n",
       "              etabb         phibb           ebb          dRbb        dEtabb  \\\n",
       "count  5.355320e+05  5.355320e+05  5.355320e+05  5.355320e+05  5.355320e+05   \n",
       "mean  -1.645478e-17 -4.749522e-17 -8.452416e-16  1.759375e-17  4.801667e-16   \n",
       "std    1.000001e+00  1.000001e+00  1.000001e+00  1.000001e+00  1.000001e+00   \n",
       "min   -3.917459e+00 -1.729780e+00 -1.033562e+00 -5.278323e+00 -1.592355e+00   \n",
       "25%   -8.716981e-01 -8.664918e-01 -5.107635e-01 -4.558220e-01 -8.625137e-01   \n",
       "50%   -3.133101e-03 -2.462382e-03 -2.999525e-01  1.960405e-01 -8.621697e-02   \n",
       "75%    8.727202e-01  8.648144e-01  1.381818e-01  6.899686e-01  8.081519e-01   \n",
       "max    4.614227e+00  1.736078e+00  1.462507e+01  1.867199e+00  1.996118e+00   \n",
       "\n",
       "       ...        dEta23        dPhi23           mj4          ptj4  \\\n",
       "count  ...  5.355320e+05  5.355320e+05  5.355320e+05  5.355320e+05   \n",
       "mean   ...  1.821179e-16 -3.608809e-16  4.793136e-16  1.160473e-15   \n",
       "std    ...  1.000001e+00  1.000001e+00  1.000001e+00  1.000001e+00   \n",
       "min    ... -1.492817e+00 -2.143950e+00 -1.987192e+00 -1.356787e+00   \n",
       "25%    ... -8.028849e-01 -7.408050e-01 -6.133875e-01 -5.315307e-01   \n",
       "50%    ... -1.385903e-01  4.582546e-02 -2.005756e-01 -2.493427e-01   \n",
       "75%    ...  6.406930e-01  7.855786e-01  3.378530e-01  1.804706e-01   \n",
       "max    ...  3.920283e+00  1.889612e+00  2.793499e+01  2.626487e+01   \n",
       "\n",
       "              etaj4         phij4           ej4        btagj4  qglikelihoodj4  \\\n",
       "count  5.355320e+05  5.355320e+05  5.355320e+05  5.355320e+05    5.355320e+05   \n",
       "mean  -3.055014e-17 -1.140735e-18  2.208493e-16  1.642325e-16   -2.058099e-14   \n",
       "std    1.000001e+00  1.000001e+00  1.000001e+00  1.000001e+00    1.000001e+00   \n",
       "min   -2.390140e+00 -1.728948e+00 -6.983073e-01 -5.978781e-01   -1.467537e+00   \n",
       "25%   -7.089355e-01 -8.641089e-01 -5.320560e-01 -5.295583e-01   -1.467537e+00   \n",
       "50%   -6.890555e-04 -2.260788e-03 -3.805283e-01 -4.421269e-01    2.339623e-01   \n",
       "75%    7.094489e-01  8.615345e-01  9.402631e-02 -2.418902e-01    8.228879e-01   \n",
       "max    2.390311e+00  1.742353e+00  2.099363e+01  2.720950e+00    1.304852e+00   \n",
       "\n",
       "               label  \n",
       "count  535532.000000  \n",
       "mean        0.743677  \n",
       "std         0.436602  \n",
       "min         0.000000  \n",
       "25%         0.000000  \n",
       "50%         1.000000  \n",
       "75%         1.000000  \n",
       "max         1.000000  \n",
       "\n",
       "[8 rows x 46 columns]"
      ]
     },
     "execution_count": 12,
     "metadata": {},
     "output_type": "execute_result"
    }
   ],
   "source": [
    "z_df.describe()"
   ]
  },
  {
   "cell_type": "code",
   "execution_count": 13,
   "id": "3ab0b199-71b0-4a47-9227-ed83401b45af",
   "metadata": {},
   "outputs": [
    {
     "data": {
      "text/html": [
       "<div>\n",
       "<style scoped>\n",
       "    .dataframe tbody tr th:only-of-type {\n",
       "        vertical-align: middle;\n",
       "    }\n",
       "\n",
       "    .dataframe tbody tr th {\n",
       "        vertical-align: top;\n",
       "    }\n",
       "\n",
       "    .dataframe thead th {\n",
       "        text-align: right;\n",
       "    }\n",
       "</style>\n",
       "<table border=\"1\" class=\"dataframe\">\n",
       "  <thead>\n",
       "    <tr style=\"text-align: right;\">\n",
       "      <th></th>\n",
       "      <th>mbb</th>\n",
       "      <th>weight</th>\n",
       "      <th>njets</th>\n",
       "      <th>nbjets</th>\n",
       "      <th>ptbb</th>\n",
       "      <th>etabb</th>\n",
       "      <th>phibb</th>\n",
       "      <th>ebb</th>\n",
       "      <th>dRbb</th>\n",
       "      <th>dEtabb</th>\n",
       "      <th>...</th>\n",
       "      <th>dEta23</th>\n",
       "      <th>dPhi23</th>\n",
       "      <th>mj4</th>\n",
       "      <th>ptj4</th>\n",
       "      <th>etaj4</th>\n",
       "      <th>phij4</th>\n",
       "      <th>ej4</th>\n",
       "      <th>btagj4</th>\n",
       "      <th>qglikelihoodj4</th>\n",
       "      <th>label</th>\n",
       "    </tr>\n",
       "  </thead>\n",
       "  <tbody>\n",
       "    <tr>\n",
       "      <th>0</th>\n",
       "      <td>-0.658480</td>\n",
       "      <td>0.739334</td>\n",
       "      <td>-0.454698</td>\n",
       "      <td>-0.375592</td>\n",
       "      <td>0.950042</td>\n",
       "      <td>-0.384149</td>\n",
       "      <td>-0.313598</td>\n",
       "      <td>-0.603410</td>\n",
       "      <td>-2.468174</td>\n",
       "      <td>0.578095</td>\n",
       "      <td>...</td>\n",
       "      <td>2.117456</td>\n",
       "      <td>1.527413</td>\n",
       "      <td>-0.179007</td>\n",
       "      <td>-0.072614</td>\n",
       "      <td>0.308682</td>\n",
       "      <td>1.402815</td>\n",
       "      <td>-0.536027</td>\n",
       "      <td>1.894067</td>\n",
       "      <td>0.700024</td>\n",
       "      <td>1.0</td>\n",
       "    </tr>\n",
       "    <tr>\n",
       "      <th>1</th>\n",
       "      <td>0.095016</td>\n",
       "      <td>0.613957</td>\n",
       "      <td>-0.084551</td>\n",
       "      <td>1.673091</td>\n",
       "      <td>0.053554</td>\n",
       "      <td>-0.835726</td>\n",
       "      <td>-0.130056</td>\n",
       "      <td>-0.112776</td>\n",
       "      <td>0.361149</td>\n",
       "      <td>1.002200</td>\n",
       "      <td>...</td>\n",
       "      <td>0.568500</td>\n",
       "      <td>-1.455607</td>\n",
       "      <td>-0.227476</td>\n",
       "      <td>-0.316403</td>\n",
       "      <td>-1.979341</td>\n",
       "      <td>1.171091</td>\n",
       "      <td>2.450398</td>\n",
       "      <td>-0.415864</td>\n",
       "      <td>-0.024662</td>\n",
       "      <td>1.0</td>\n",
       "    </tr>\n",
       "    <tr>\n",
       "      <th>2</th>\n",
       "      <td>-0.040114</td>\n",
       "      <td>-0.392469</td>\n",
       "      <td>-1.565140</td>\n",
       "      <td>0.648749</td>\n",
       "      <td>0.108545</td>\n",
       "      <td>0.785705</td>\n",
       "      <td>0.957567</td>\n",
       "      <td>-0.216079</td>\n",
       "      <td>-0.358741</td>\n",
       "      <td>-1.555370</td>\n",
       "      <td>...</td>\n",
       "      <td>-0.314496</td>\n",
       "      <td>0.183102</td>\n",
       "      <td>-0.540206</td>\n",
       "      <td>-0.121117</td>\n",
       "      <td>0.788445</td>\n",
       "      <td>-0.561205</td>\n",
       "      <td>-0.362529</td>\n",
       "      <td>1.821238</td>\n",
       "      <td>1.144544</td>\n",
       "      <td>1.0</td>\n",
       "    </tr>\n",
       "    <tr>\n",
       "      <th>3</th>\n",
       "      <td>-0.739253</td>\n",
       "      <td>-2.631600</td>\n",
       "      <td>-1.565140</td>\n",
       "      <td>0.648749</td>\n",
       "      <td>-0.922930</td>\n",
       "      <td>-1.750370</td>\n",
       "      <td>-1.105374</td>\n",
       "      <td>-0.255680</td>\n",
       "      <td>0.133686</td>\n",
       "      <td>-1.375709</td>\n",
       "      <td>...</td>\n",
       "      <td>2.912183</td>\n",
       "      <td>0.577136</td>\n",
       "      <td>-0.892267</td>\n",
       "      <td>-0.634494</td>\n",
       "      <td>-0.469394</td>\n",
       "      <td>-0.911394</td>\n",
       "      <td>-0.584955</td>\n",
       "      <td>-0.444620</td>\n",
       "      <td>-1.467537</td>\n",
       "      <td>1.0</td>\n",
       "    </tr>\n",
       "    <tr>\n",
       "      <th>4</th>\n",
       "      <td>-0.196708</td>\n",
       "      <td>-0.113932</td>\n",
       "      <td>-0.454698</td>\n",
       "      <td>0.648749</td>\n",
       "      <td>-0.745602</td>\n",
       "      <td>0.890909</td>\n",
       "      <td>-0.124875</td>\n",
       "      <td>-0.485813</td>\n",
       "      <td>1.055034</td>\n",
       "      <td>1.651592</td>\n",
       "      <td>...</td>\n",
       "      <td>-0.178279</td>\n",
       "      <td>-1.075261</td>\n",
       "      <td>1.237089</td>\n",
       "      <td>0.856743</td>\n",
       "      <td>0.716114</td>\n",
       "      <td>-1.431376</td>\n",
       "      <td>-0.172128</td>\n",
       "      <td>1.602670</td>\n",
       "      <td>0.041425</td>\n",
       "      <td>1.0</td>\n",
       "    </tr>\n",
       "    <tr>\n",
       "      <th>...</th>\n",
       "      <td>...</td>\n",
       "      <td>...</td>\n",
       "      <td>...</td>\n",
       "      <td>...</td>\n",
       "      <td>...</td>\n",
       "      <td>...</td>\n",
       "      <td>...</td>\n",
       "      <td>...</td>\n",
       "      <td>...</td>\n",
       "      <td>...</td>\n",
       "      <td>...</td>\n",
       "      <td>...</td>\n",
       "      <td>...</td>\n",
       "      <td>...</td>\n",
       "      <td>...</td>\n",
       "      <td>...</td>\n",
       "      <td>...</td>\n",
       "      <td>...</td>\n",
       "      <td>...</td>\n",
       "      <td>...</td>\n",
       "      <td>...</td>\n",
       "    </tr>\n",
       "    <tr>\n",
       "      <th>535527</th>\n",
       "      <td>1.420562</td>\n",
       "      <td>0.302626</td>\n",
       "      <td>1.025891</td>\n",
       "      <td>-2.424276</td>\n",
       "      <td>1.293782</td>\n",
       "      <td>0.599848</td>\n",
       "      <td>1.624059</td>\n",
       "      <td>0.808934</td>\n",
       "      <td>0.095980</td>\n",
       "      <td>1.363055</td>\n",
       "      <td>...</td>\n",
       "      <td>-1.103550</td>\n",
       "      <td>-0.108081</td>\n",
       "      <td>0.178338</td>\n",
       "      <td>-0.149214</td>\n",
       "      <td>-0.096939</td>\n",
       "      <td>-0.763486</td>\n",
       "      <td>-0.567339</td>\n",
       "      <td>-0.577085</td>\n",
       "      <td>0.015577</td>\n",
       "      <td>0.0</td>\n",
       "    </tr>\n",
       "    <tr>\n",
       "      <th>535528</th>\n",
       "      <td>0.463982</td>\n",
       "      <td>0.302626</td>\n",
       "      <td>0.285596</td>\n",
       "      <td>0.648749</td>\n",
       "      <td>1.280381</td>\n",
       "      <td>0.692557</td>\n",
       "      <td>0.972462</td>\n",
       "      <td>0.292134</td>\n",
       "      <td>-0.875021</td>\n",
       "      <td>-1.487378</td>\n",
       "      <td>...</td>\n",
       "      <td>-0.782668</td>\n",
       "      <td>0.964285</td>\n",
       "      <td>2.959849</td>\n",
       "      <td>1.955580</td>\n",
       "      <td>1.413197</td>\n",
       "      <td>-1.018730</td>\n",
       "      <td>2.434280</td>\n",
       "      <td>-0.507216</td>\n",
       "      <td>0.106229</td>\n",
       "      <td>0.0</td>\n",
       "    </tr>\n",
       "    <tr>\n",
       "      <th>535529</th>\n",
       "      <td>1.191215</td>\n",
       "      <td>0.525306</td>\n",
       "      <td>0.285596</td>\n",
       "      <td>-1.399934</td>\n",
       "      <td>2.987532</td>\n",
       "      <td>0.624566</td>\n",
       "      <td>-1.102681</td>\n",
       "      <td>1.000095</td>\n",
       "      <td>-1.119963</td>\n",
       "      <td>-0.117159</td>\n",
       "      <td>...</td>\n",
       "      <td>-0.156846</td>\n",
       "      <td>-0.351021</td>\n",
       "      <td>3.993717</td>\n",
       "      <td>4.858689</td>\n",
       "      <td>0.691239</td>\n",
       "      <td>0.211100</td>\n",
       "      <td>0.710336</td>\n",
       "      <td>-0.532966</td>\n",
       "      <td>0.004363</td>\n",
       "      <td>0.0</td>\n",
       "    </tr>\n",
       "    <tr>\n",
       "      <th>535530</th>\n",
       "      <td>0.527967</td>\n",
       "      <td>0.739334</td>\n",
       "      <td>0.655744</td>\n",
       "      <td>0.648749</td>\n",
       "      <td>1.750035</td>\n",
       "      <td>-0.967151</td>\n",
       "      <td>-1.146708</td>\n",
       "      <td>1.102259</td>\n",
       "      <td>-1.375558</td>\n",
       "      <td>-0.511657</td>\n",
       "      <td>...</td>\n",
       "      <td>0.390186</td>\n",
       "      <td>0.129096</td>\n",
       "      <td>0.586827</td>\n",
       "      <td>0.569794</td>\n",
       "      <td>-0.549726</td>\n",
       "      <td>1.140384</td>\n",
       "      <td>-0.355656</td>\n",
       "      <td>-0.564623</td>\n",
       "      <td>0.361620</td>\n",
       "      <td>0.0</td>\n",
       "    </tr>\n",
       "    <tr>\n",
       "      <th>535531</th>\n",
       "      <td>1.318018</td>\n",
       "      <td>-2.738023</td>\n",
       "      <td>-0.084551</td>\n",
       "      <td>-1.399934</td>\n",
       "      <td>0.597043</td>\n",
       "      <td>1.667522</td>\n",
       "      <td>1.519084</td>\n",
       "      <td>4.111177</td>\n",
       "      <td>1.129909</td>\n",
       "      <td>0.616591</td>\n",
       "      <td>...</td>\n",
       "      <td>2.017631</td>\n",
       "      <td>0.944744</td>\n",
       "      <td>1.728032</td>\n",
       "      <td>1.649741</td>\n",
       "      <td>-0.244828</td>\n",
       "      <td>-0.443947</td>\n",
       "      <td>-0.343252</td>\n",
       "      <td>-0.587144</td>\n",
       "      <td>1.084094</td>\n",
       "      <td>0.0</td>\n",
       "    </tr>\n",
       "  </tbody>\n",
       "</table>\n",
       "<p>535532 rows × 46 columns</p>\n",
       "</div>"
      ],
      "text/plain": [
       "             mbb    weight     njets    nbjets      ptbb     etabb     phibb  \\\n",
       "0      -0.658480  0.739334 -0.454698 -0.375592  0.950042 -0.384149 -0.313598   \n",
       "1       0.095016  0.613957 -0.084551  1.673091  0.053554 -0.835726 -0.130056   \n",
       "2      -0.040114 -0.392469 -1.565140  0.648749  0.108545  0.785705  0.957567   \n",
       "3      -0.739253 -2.631600 -1.565140  0.648749 -0.922930 -1.750370 -1.105374   \n",
       "4      -0.196708 -0.113932 -0.454698  0.648749 -0.745602  0.890909 -0.124875   \n",
       "...          ...       ...       ...       ...       ...       ...       ...   \n",
       "535527  1.420562  0.302626  1.025891 -2.424276  1.293782  0.599848  1.624059   \n",
       "535528  0.463982  0.302626  0.285596  0.648749  1.280381  0.692557  0.972462   \n",
       "535529  1.191215  0.525306  0.285596 -1.399934  2.987532  0.624566 -1.102681   \n",
       "535530  0.527967  0.739334  0.655744  0.648749  1.750035 -0.967151 -1.146708   \n",
       "535531  1.318018 -2.738023 -0.084551 -1.399934  0.597043  1.667522  1.519084   \n",
       "\n",
       "             ebb      dRbb    dEtabb  ...    dEta23    dPhi23       mj4  \\\n",
       "0      -0.603410 -2.468174  0.578095  ...  2.117456  1.527413 -0.179007   \n",
       "1      -0.112776  0.361149  1.002200  ...  0.568500 -1.455607 -0.227476   \n",
       "2      -0.216079 -0.358741 -1.555370  ... -0.314496  0.183102 -0.540206   \n",
       "3      -0.255680  0.133686 -1.375709  ...  2.912183  0.577136 -0.892267   \n",
       "4      -0.485813  1.055034  1.651592  ... -0.178279 -1.075261  1.237089   \n",
       "...          ...       ...       ...  ...       ...       ...       ...   \n",
       "535527  0.808934  0.095980  1.363055  ... -1.103550 -0.108081  0.178338   \n",
       "535528  0.292134 -0.875021 -1.487378  ... -0.782668  0.964285  2.959849   \n",
       "535529  1.000095 -1.119963 -0.117159  ... -0.156846 -0.351021  3.993717   \n",
       "535530  1.102259 -1.375558 -0.511657  ...  0.390186  0.129096  0.586827   \n",
       "535531  4.111177  1.129909  0.616591  ...  2.017631  0.944744  1.728032   \n",
       "\n",
       "            ptj4     etaj4     phij4       ej4    btagj4  qglikelihoodj4  \\\n",
       "0      -0.072614  0.308682  1.402815 -0.536027  1.894067        0.700024   \n",
       "1      -0.316403 -1.979341  1.171091  2.450398 -0.415864       -0.024662   \n",
       "2      -0.121117  0.788445 -0.561205 -0.362529  1.821238        1.144544   \n",
       "3      -0.634494 -0.469394 -0.911394 -0.584955 -0.444620       -1.467537   \n",
       "4       0.856743  0.716114 -1.431376 -0.172128  1.602670        0.041425   \n",
       "...          ...       ...       ...       ...       ...             ...   \n",
       "535527 -0.149214 -0.096939 -0.763486 -0.567339 -0.577085        0.015577   \n",
       "535528  1.955580  1.413197 -1.018730  2.434280 -0.507216        0.106229   \n",
       "535529  4.858689  0.691239  0.211100  0.710336 -0.532966        0.004363   \n",
       "535530  0.569794 -0.549726  1.140384 -0.355656 -0.564623        0.361620   \n",
       "535531  1.649741 -0.244828 -0.443947 -0.343252 -0.587144        1.084094   \n",
       "\n",
       "        label  \n",
       "0         1.0  \n",
       "1         1.0  \n",
       "2         1.0  \n",
       "3         1.0  \n",
       "4         1.0  \n",
       "...       ...  \n",
       "535527    0.0  \n",
       "535528    0.0  \n",
       "535529    0.0  \n",
       "535530    0.0  \n",
       "535531    0.0  \n",
       "\n",
       "[535532 rows x 46 columns]"
      ]
     },
     "execution_count": 13,
     "metadata": {},
     "output_type": "execute_result"
    }
   ],
   "source": [
    "z_df"
   ]
  },
  {
   "cell_type": "markdown",
   "id": "668855ff-fa70-4b3d-b455-015e185ef2ad",
   "metadata": {},
   "source": [
    "# Splitting Dataset"
   ]
  },
  {
   "cell_type": "code",
   "execution_count": 14,
   "id": "0f39b5d0-61cc-4d24-b888-2a851ddcabe5",
   "metadata": {},
   "outputs": [],
   "source": [
    "from sklearn.model_selection import train_test_split"
   ]
  },
  {
   "cell_type": "code",
   "execution_count": 15,
   "id": "d2de2856-a336-4043-a17e-de1420fe4ee8",
   "metadata": {},
   "outputs": [],
   "source": [
    "input_columns = ['mbb','nbjets','dEtabb','ej1','ej2','btagj2','qglikelihoodj2','mj3','btagj3','mj4']\n",
    "train_df, test_df = train_test_split(z_df, test_size=0.3, random_state=42, stratify=dataset_df['label'].to_numpy())\n",
    "\n",
    "X_test = test_df[input_columns]\n",
    "\n",
    "y_test = test_df['label']"
   ]
  },
  {
   "cell_type": "code",
   "execution_count": 16,
   "id": "127bb4a7-694e-4532-ab3b-c06d33d1eaf3",
   "metadata": {},
   "outputs": [
    {
     "data": {
      "text/plain": [
       "1.0    278784\n",
       "0.0     96088\n",
       "Name: label, dtype: int64"
      ]
     },
     "execution_count": 16,
     "metadata": {},
     "output_type": "execute_result"
    }
   ],
   "source": [
    "train_df['label'].value_counts()"
   ]
  },
  {
   "cell_type": "code",
   "execution_count": 17,
   "id": "c997b07e-5888-4ddd-9cba-3881f8bcb96d",
   "metadata": {},
   "outputs": [
    {
     "data": {
      "text/plain": [
       "1.0    119479\n",
       "0.0     41181\n",
       "Name: label, dtype: int64"
      ]
     },
     "execution_count": 17,
     "metadata": {},
     "output_type": "execute_result"
    }
   ],
   "source": [
    "test_df['label'].value_counts()"
   ]
  },
  {
   "cell_type": "code",
   "execution_count": 18,
   "id": "a213c802-347e-4219-be0b-5a5e5b254d5a",
   "metadata": {},
   "outputs": [
    {
     "data": {
      "text/plain": [
       "0.0    96088\n",
       "1.0    96088\n",
       "Name: label, dtype: int64"
      ]
     },
     "execution_count": 18,
     "metadata": {},
     "output_type": "execute_result"
    }
   ],
   "source": [
    "class_1, class_0 = train_df.label.value_counts()\n",
    "c1 = train_df[train_df['label']==1]\n",
    "c0 = train_df[train_df['label']==0]\n",
    "c1_sam = c1.sample(class_0)\n",
    "undersampled_train = pd.concat([c0,c1_sam], axis=0)\n",
    "undersampled_train['label'].value_counts()"
   ]
  },
  {
   "cell_type": "code",
   "execution_count": 19,
   "id": "788792d6-685f-45eb-a1f0-3216dfcbb3cc",
   "metadata": {},
   "outputs": [],
   "source": [
    "undersampled_X_train = undersampled_train[input_columns]\n",
    "undersampled_y_train = undersampled_train['label']"
   ]
  },
  {
   "cell_type": "code",
   "execution_count": 20,
   "id": "9e76fa3a-2122-4310-b94e-e50a0520d368",
   "metadata": {},
   "outputs": [
    {
     "data": {
      "text/html": [
       "<div>\n",
       "<style scoped>\n",
       "    .dataframe tbody tr th:only-of-type {\n",
       "        vertical-align: middle;\n",
       "    }\n",
       "\n",
       "    .dataframe tbody tr th {\n",
       "        vertical-align: top;\n",
       "    }\n",
       "\n",
       "    .dataframe thead th {\n",
       "        text-align: right;\n",
       "    }\n",
       "</style>\n",
       "<table border=\"1\" class=\"dataframe\">\n",
       "  <thead>\n",
       "    <tr style=\"text-align: right;\">\n",
       "      <th></th>\n",
       "      <th>mbb</th>\n",
       "      <th>nbjets</th>\n",
       "      <th>dEtabb</th>\n",
       "      <th>ej1</th>\n",
       "      <th>ej2</th>\n",
       "      <th>btagj2</th>\n",
       "      <th>qglikelihoodj2</th>\n",
       "      <th>mj3</th>\n",
       "      <th>btagj3</th>\n",
       "      <th>mj4</th>\n",
       "    </tr>\n",
       "  </thead>\n",
       "  <tbody>\n",
       "    <tr>\n",
       "      <th>307368</th>\n",
       "      <td>-0.293092</td>\n",
       "      <td>-1.399934</td>\n",
       "      <td>-1.164322</td>\n",
       "      <td>-0.368506</td>\n",
       "      <td>-0.643846</td>\n",
       "      <td>-1.231180</td>\n",
       "      <td>0.944152</td>\n",
       "      <td>-0.299791</td>\n",
       "      <td>-0.397182</td>\n",
       "      <td>-0.924555</td>\n",
       "    </tr>\n",
       "    <tr>\n",
       "      <th>218703</th>\n",
       "      <td>-0.567660</td>\n",
       "      <td>0.648749</td>\n",
       "      <td>-1.450077</td>\n",
       "      <td>-0.678710</td>\n",
       "      <td>-0.589223</td>\n",
       "      <td>1.010318</td>\n",
       "      <td>0.914896</td>\n",
       "      <td>0.143445</td>\n",
       "      <td>1.157533</td>\n",
       "      <td>1.048689</td>\n",
       "    </tr>\n",
       "    <tr>\n",
       "      <th>36980</th>\n",
       "      <td>-0.260809</td>\n",
       "      <td>0.648749</td>\n",
       "      <td>-0.965664</td>\n",
       "      <td>-0.464705</td>\n",
       "      <td>-0.229329</td>\n",
       "      <td>0.735606</td>\n",
       "      <td>0.909467</td>\n",
       "      <td>-0.341280</td>\n",
       "      <td>1.056970</td>\n",
       "      <td>0.221841</td>\n",
       "    </tr>\n",
       "    <tr>\n",
       "      <th>374722</th>\n",
       "      <td>-0.226847</td>\n",
       "      <td>0.648749</td>\n",
       "      <td>-0.680806</td>\n",
       "      <td>0.276983</td>\n",
       "      <td>-0.019601</td>\n",
       "      <td>0.977008</td>\n",
       "      <td>-1.726404</td>\n",
       "      <td>0.297897</td>\n",
       "      <td>1.216364</td>\n",
       "      <td>2.277950</td>\n",
       "    </tr>\n",
       "    <tr>\n",
       "      <th>356374</th>\n",
       "      <td>-0.247583</td>\n",
       "      <td>1.673091</td>\n",
       "      <td>-0.283063</td>\n",
       "      <td>-0.627557</td>\n",
       "      <td>0.142458</td>\n",
       "      <td>-1.310946</td>\n",
       "      <td>-1.574791</td>\n",
       "      <td>-0.496739</td>\n",
       "      <td>1.164525</td>\n",
       "      <td>0.494300</td>\n",
       "    </tr>\n",
       "  </tbody>\n",
       "</table>\n",
       "</div>"
      ],
      "text/plain": [
       "             mbb    nbjets    dEtabb       ej1       ej2    btagj2  \\\n",
       "307368 -0.293092 -1.399934 -1.164322 -0.368506 -0.643846 -1.231180   \n",
       "218703 -0.567660  0.648749 -1.450077 -0.678710 -0.589223  1.010318   \n",
       "36980  -0.260809  0.648749 -0.965664 -0.464705 -0.229329  0.735606   \n",
       "374722 -0.226847  0.648749 -0.680806  0.276983 -0.019601  0.977008   \n",
       "356374 -0.247583  1.673091 -0.283063 -0.627557  0.142458 -1.310946   \n",
       "\n",
       "        qglikelihoodj2       mj3    btagj3       mj4  \n",
       "307368        0.944152 -0.299791 -0.397182 -0.924555  \n",
       "218703        0.914896  0.143445  1.157533  1.048689  \n",
       "36980         0.909467 -0.341280  1.056970  0.221841  \n",
       "374722       -1.726404  0.297897  1.216364  2.277950  \n",
       "356374       -1.574791 -0.496739  1.164525  0.494300  "
      ]
     },
     "execution_count": 20,
     "metadata": {},
     "output_type": "execute_result"
    }
   ],
   "source": [
    "undersampled_X_train.tail(5) "
   ]
  },
  {
   "cell_type": "markdown",
   "id": "44059ebb-63ec-4b47-a1f8-d9786ee91724",
   "metadata": {},
   "source": [
    "# Creating Decision Tree"
   ]
  },
  {
   "cell_type": "markdown",
   "id": "ebceb856-80a8-4dd9-b780-a7830b86ed33",
   "metadata": {},
   "source": [
    "## Decision Tree"
   ]
  },
  {
   "cell_type": "code",
   "execution_count": 21,
   "id": "23421670-ba84-4753-a71a-b299d5c7e6c2",
   "metadata": {},
   "outputs": [],
   "source": [
    "#Importing Stuff\n",
    "from sklearn.tree import DecisionTreeClassifier\n",
    "from sklearn import metrics\n",
    "from sklearn.metrics import accuracy_score\n",
    "from sklearn.metrics import mean_squared_error as MSE\n",
    "from sklearn.datasets import load_iris\n",
    "from sklearn import tree"
   ]
  },
  {
   "cell_type": "code",
   "execution_count": 22,
   "id": "12f67414-dfad-4e9f-8997-15cf96581e9c",
   "metadata": {},
   "outputs": [],
   "source": [
    "clf = DecisionTreeClassifier()"
   ]
  },
  {
   "cell_type": "code",
   "execution_count": 23,
   "id": "7283af6e-bdf0-4c98-ae77-58db65f7306d",
   "metadata": {},
   "outputs": [],
   "source": [
    "dt = DecisionTreeClassifier(max_depth=6, random_state=1)"
   ]
  },
  {
   "cell_type": "code",
   "execution_count": 24,
   "id": "42b62238-1bd4-43c3-9834-3d3d367b8026",
   "metadata": {},
   "outputs": [],
   "source": [
    "clf = clf.fit(undersampled_X_train, undersampled_y_train)"
   ]
  },
  {
   "cell_type": "code",
   "execution_count": 83,
   "id": "6ac6dba6-5c7f-418f-b834-802b3cb6cba8",
   "metadata": {},
   "outputs": [],
   "source": [
    "y_pred = clf.predict(X_test)"
   ]
  },
  {
   "cell_type": "code",
   "execution_count": 84,
   "id": "2291a795-f30f-47c1-a8f7-37a0e3573bcc",
   "metadata": {},
   "outputs": [
    {
     "data": {
      "text/plain": [
       "array([1., 1., 1., ..., 0., 1., 1.])"
      ]
     },
     "execution_count": 84,
     "metadata": {},
     "output_type": "execute_result"
    }
   ],
   "source": [
    "y_pred"
   ]
  },
  {
   "cell_type": "markdown",
   "id": "e3934a54-f1a3-4566-82f5-4f8d32951824",
   "metadata": {},
   "source": [
    "#### Accuracy"
   ]
  },
  {
   "cell_type": "code",
   "execution_count": 85,
   "id": "2b91558b-f53c-484b-8038-ad228e4ebab2",
   "metadata": {},
   "outputs": [
    {
     "name": "stdout",
     "output_type": "stream",
     "text": [
      "Accuracy: 0.8876384912237022\n"
     ]
    }
   ],
   "source": [
    "print(\"Accuracy:\",metrics.accuracy_score(y_test, y_pred))"
   ]
  },
  {
   "cell_type": "code",
   "execution_count": 86,
   "id": "62166908-82fe-47e4-ac2e-2fc82bf9785c",
   "metadata": {},
   "outputs": [
    {
     "name": "stdout",
     "output_type": "stream",
     "text": [
      "Test set RMSE of rf: 0.3352036825\n"
     ]
    }
   ],
   "source": [
    "rmse_test = MSE(y_test, y_pred)**(1/2)\n",
    "print('Test set RMSE of rf: {:.10f}'.format(rmse_test))"
   ]
  },
  {
   "cell_type": "code",
   "execution_count": 102,
   "id": "fd3c9652-7b87-4062-90d6-4f3660fecd7d",
   "metadata": {},
   "outputs": [],
   "source": [
    "dt_roc_auc_score = roc_auc_score(y_test, y_pred)"
   ]
  },
  {
   "cell_type": "code",
   "execution_count": 104,
   "id": "de994667-85a5-405f-b326-bdd2aa8ad793",
   "metadata": {},
   "outputs": [
    {
     "name": "stdout",
     "output_type": "stream",
     "text": [
      "ROC AUC Score: 0.8351574595\n"
     ]
    }
   ],
   "source": [
    "print('ROC AUC Score: {:.10f}'.format(dt_roc_auc_score))"
   ]
  },
  {
   "cell_type": "code",
   "execution_count": 29,
   "id": "a3258dc2-7192-4e26-963f-887f0b7b0b55",
   "metadata": {},
   "outputs": [],
   "source": [
    "import matplotlib.pyplot as plt\n",
    "from sklearn import datasets, metrics, model_selection, svm"
   ]
  },
  {
   "cell_type": "code",
   "execution_count": 30,
   "id": "46b20edf-666d-4b59-9974-3ce826586d09",
   "metadata": {},
   "outputs": [
    {
     "data": {
      "image/png": "[encoded data removed]",
      "text/plain": [
       "<Figure size 432x288 with 1 Axes>"
      ]
     },
     "metadata": {
      "needs_background": "light"
     },
     "output_type": "display_data"
    }
   ],
   "source": [
    "metrics.plot_roc_curve(clf, X_test, y_test)\n",
    "plt.title(\"Decision Tree ROC Curve\")\n",
    "plt.xlabel(\"False Positive Rate\")\n",
    "plt.ylabel(\"True Positive Rate\")\n",
    "plt.grid(True)"
   ]
  },
  {
   "cell_type": "markdown",
   "id": "c331fb07-08e4-4bbe-906f-77f49892cd7c",
   "metadata": {},
   "source": [
    "## Bagging (Random Forest)"
   ]
  },
  {
   "cell_type": "code",
   "execution_count": 31,
   "id": "308efe81-04c1-488c-aaf3-dd7b183f383c",
   "metadata": {},
   "outputs": [],
   "source": [
    "from sklearn.ensemble import RandomForestRegressor"
   ]
  },
  {
   "cell_type": "code",
   "execution_count": 32,
   "id": "aa272b2a-8ed5-473d-ac5b-c506261f0247",
   "metadata": {},
   "outputs": [],
   "source": [
    "SEED = 1"
   ]
  },
  {
   "cell_type": "code",
   "execution_count": 33,
   "id": "f3c77242-1d9e-45a4-a6a7-49902c274b7d",
   "metadata": {},
   "outputs": [],
   "source": [
    "X_train_f, X_test_f, y_train_f, y_test_f = train_test_split(undersampled_X_train, undersampled_y_train, test_size=0.3,\n",
    "                                                   stratify=undersampled_y_train, random_state=SEED)"
   ]
  },
  {
   "cell_type": "code",
   "execution_count": 34,
   "id": "02ab3f5a-3eea-4085-80e7-9cd77be2ad95",
   "metadata": {},
   "outputs": [],
   "source": [
    "rf = RandomForestRegressor(n_estimators=400, min_samples_leaf=0.12, random_state=SEED)"
   ]
  },
  {
   "cell_type": "code",
   "execution_count": 35,
   "id": "7d28401e-775b-43c2-8532-111ec414a48c",
   "metadata": {},
   "outputs": [
    {
     "data": {
      "text/plain": [
       "RandomForestRegressor(min_samples_leaf=0.12, n_estimators=400, random_state=1)"
      ]
     },
     "execution_count": 35,
     "metadata": {},
     "output_type": "execute_result"
    }
   ],
   "source": [
    "rf.fit(X_train_f, y_train_f)"
   ]
  },
  {
   "cell_type": "code",
   "execution_count": 36,
   "id": "195530b6-ce8f-4764-a26b-a9710aeb4479",
   "metadata": {},
   "outputs": [],
   "source": [
    "y_pred_rdfr = rf.predict(X_test_f)"
   ]
  },
  {
   "cell_type": "code",
   "execution_count": 37,
   "id": "ba3e0a37-0043-4102-8e0a-89e7b71e8ea7",
   "metadata": {},
   "outputs": [],
   "source": [
    "#print(\"Accuracy:\",metrics.accuracy_score(y_test_f, y_pred_rdfr))"
   ]
  },
  {
   "cell_type": "markdown",
   "id": "679e60fb-3f90-4179-953c-1eff6accd677",
   "metadata": {},
   "source": [
    "#### Accuracy"
   ]
  },
  {
   "cell_type": "code",
   "execution_count": 38,
   "id": "6c6032fb-c6b8-4772-a87f-9fe7996ea3ca",
   "metadata": {},
   "outputs": [
    {
     "ename": "ValueError",
     "evalue": "Classification metrics can't handle a mix of binary and continuous targets",
     "output_type": "error",
     "traceback": [
      "\u001b[0;31m---------------------------------------------------------------------------\u001b[0m",
      "\u001b[0;31mValueError\u001b[0m                                Traceback (most recent call last)",
      "\u001b[0;32m<ipython-input-38-2086491ae6de>\u001b[0m in \u001b[0;36m<module>\u001b[0;34m\u001b[0m\n\u001b[0;32m----> 1\u001b[0;31m \u001b[0mprint\u001b[0m\u001b[0;34m(\u001b[0m\u001b[0;34m\"Accuracy:\"\u001b[0m\u001b[0;34m,\u001b[0m\u001b[0mmetrics\u001b[0m\u001b[0;34m.\u001b[0m\u001b[0maccuracy_score\u001b[0m\u001b[0;34m(\u001b[0m\u001b[0my_test_f\u001b[0m\u001b[0;34m,\u001b[0m \u001b[0my_pred_rdfr\u001b[0m\u001b[0;34m)\u001b[0m\u001b[0;34m)\u001b[0m\u001b[0;34m\u001b[0m\u001b[0;34m\u001b[0m\u001b[0m\n\u001b[0m",
      "\u001b[0;32m/opt/conda/lib/python3.9/site-packages/sklearn/utils/validation.py\u001b[0m in \u001b[0;36minner_f\u001b[0;34m(*args, **kwargs)\u001b[0m\n\u001b[1;32m     61\u001b[0m             \u001b[0mextra_args\u001b[0m \u001b[0;34m=\u001b[0m \u001b[0mlen\u001b[0m\u001b[0;34m(\u001b[0m\u001b[0margs\u001b[0m\u001b[0;34m)\u001b[0m \u001b[0;34m-\u001b[0m \u001b[0mlen\u001b[0m\u001b[0;34m(\u001b[0m\u001b[0mall_args\u001b[0m\u001b[0;34m)\u001b[0m\u001b[0;34m\u001b[0m\u001b[0;34m\u001b[0m\u001b[0m\n\u001b[1;32m     62\u001b[0m             \u001b[0;32mif\u001b[0m \u001b[0mextra_args\u001b[0m \u001b[0;34m<=\u001b[0m \u001b[0;36m0\u001b[0m\u001b[0;34m:\u001b[0m\u001b[0;34m\u001b[0m\u001b[0;34m\u001b[0m\u001b[0m\n\u001b[0;32m---> 63\u001b[0;31m                 \u001b[0;32mreturn\u001b[0m \u001b[0mf\u001b[0m\u001b[0;34m(\u001b[0m\u001b[0;34m*\u001b[0m\u001b[0margs\u001b[0m\u001b[0;34m,\u001b[0m \u001b[0;34m**\u001b[0m\u001b[0mkwargs\u001b[0m\u001b[0;34m)\u001b[0m\u001b[0;34m\u001b[0m\u001b[0;34m\u001b[0m\u001b[0m\n\u001b[0m\u001b[1;32m     64\u001b[0m \u001b[0;34m\u001b[0m\u001b[0m\n\u001b[1;32m     65\u001b[0m             \u001b[0;31m# extra_args > 0\u001b[0m\u001b[0;34m\u001b[0m\u001b[0;34m\u001b[0m\u001b[0;34m\u001b[0m\u001b[0m\n",
      "\u001b[0;32m/opt/conda/lib/python3.9/site-packages/sklearn/metrics/_classification.py\u001b[0m in \u001b[0;36maccuracy_score\u001b[0;34m(y_true, y_pred, normalize, sample_weight)\u001b[0m\n\u001b[1;32m    200\u001b[0m \u001b[0;34m\u001b[0m\u001b[0m\n\u001b[1;32m    201\u001b[0m     \u001b[0;31m# Compute accuracy for each possible representation\u001b[0m\u001b[0;34m\u001b[0m\u001b[0;34m\u001b[0m\u001b[0;34m\u001b[0m\u001b[0m\n\u001b[0;32m--> 202\u001b[0;31m     \u001b[0my_type\u001b[0m\u001b[0;34m,\u001b[0m \u001b[0my_true\u001b[0m\u001b[0;34m,\u001b[0m \u001b[0my_pred\u001b[0m \u001b[0;34m=\u001b[0m \u001b[0m_check_targets\u001b[0m\u001b[0;34m(\u001b[0m\u001b[0my_true\u001b[0m\u001b[0;34m,\u001b[0m \u001b[0my_pred\u001b[0m\u001b[0;34m)\u001b[0m\u001b[0;34m\u001b[0m\u001b[0;34m\u001b[0m\u001b[0m\n\u001b[0m\u001b[1;32m    203\u001b[0m     \u001b[0mcheck_consistent_length\u001b[0m\u001b[0;34m(\u001b[0m\u001b[0my_true\u001b[0m\u001b[0;34m,\u001b[0m \u001b[0my_pred\u001b[0m\u001b[0;34m,\u001b[0m \u001b[0msample_weight\u001b[0m\u001b[0;34m)\u001b[0m\u001b[0;34m\u001b[0m\u001b[0;34m\u001b[0m\u001b[0m\n\u001b[1;32m    204\u001b[0m     \u001b[0;32mif\u001b[0m \u001b[0my_type\u001b[0m\u001b[0;34m.\u001b[0m\u001b[0mstartswith\u001b[0m\u001b[0;34m(\u001b[0m\u001b[0;34m'multilabel'\u001b[0m\u001b[0;34m)\u001b[0m\u001b[0;34m:\u001b[0m\u001b[0;34m\u001b[0m\u001b[0;34m\u001b[0m\u001b[0m\n",
      "\u001b[0;32m/opt/conda/lib/python3.9/site-packages/sklearn/metrics/_classification.py\u001b[0m in \u001b[0;36m_check_targets\u001b[0;34m(y_true, y_pred)\u001b[0m\n\u001b[1;32m     90\u001b[0m \u001b[0;34m\u001b[0m\u001b[0m\n\u001b[1;32m     91\u001b[0m     \u001b[0;32mif\u001b[0m \u001b[0mlen\u001b[0m\u001b[0;34m(\u001b[0m\u001b[0my_type\u001b[0m\u001b[0;34m)\u001b[0m \u001b[0;34m>\u001b[0m \u001b[0;36m1\u001b[0m\u001b[0;34m:\u001b[0m\u001b[0;34m\u001b[0m\u001b[0;34m\u001b[0m\u001b[0m\n\u001b[0;32m---> 92\u001b[0;31m         raise ValueError(\"Classification metrics can't handle a mix of {0} \"\n\u001b[0m\u001b[1;32m     93\u001b[0m                          \"and {1} targets\".format(type_true, type_pred))\n\u001b[1;32m     94\u001b[0m \u001b[0;34m\u001b[0m\u001b[0m\n",
      "\u001b[0;31mValueError\u001b[0m: Classification metrics can't handle a mix of binary and continuous targets"
     ]
    }
   ],
   "source": [
    "print(\"Accuracy:\",metrics.accuracy_score(y_test_f, y_pred_rdfr))"
   ]
  },
  {
   "cell_type": "code",
   "execution_count": 39,
   "id": "995778c6-846e-4b68-bc26-206107f812b2",
   "metadata": {},
   "outputs": [
    {
     "data": {
      "text/plain": [
       "44790"
      ]
     },
     "execution_count": 39,
     "metadata": {},
     "output_type": "execute_result"
    }
   ],
   "source": [
    "accuracy_score(y_test_f, y_pred_rdfr.round(), normalize=False)"
   ]
  },
  {
   "cell_type": "code",
   "execution_count": 40,
   "id": "ff30b6b5-77d1-47aa-a0e3-b2cc6219afe0",
   "metadata": {},
   "outputs": [
    {
     "name": "stdout",
     "output_type": "stream",
     "text": [
      "Test set RMSE of rf: 0.3818259601\n"
     ]
    }
   ],
   "source": [
    "rmse_test = MSE(y_test_f, y_pred_rdfr)**(1/2)\n",
    "print('Test set RMSE of rf: {:.10f}'.format(rmse_test))"
   ]
  },
  {
   "cell_type": "code",
   "execution_count": 41,
   "id": "88f4df2b-4294-4e88-9d26-ed05fda175af",
   "metadata": {},
   "outputs": [
    {
     "ename": "NameError",
     "evalue": "name 'roc_auc_score' is not defined",
     "output_type": "error",
     "traceback": [
      "\u001b[0;31m---------------------------------------------------------------------------\u001b[0m",
      "\u001b[0;31mNameError\u001b[0m                                 Traceback (most recent call last)",
      "\u001b[0;32m<ipython-input-41-aa506481a040>\u001b[0m in \u001b[0;36m<module>\u001b[0;34m\u001b[0m\n\u001b[0;32m----> 1\u001b[0;31m \u001b[0mrf_roc_auc_score\u001b[0m \u001b[0;34m=\u001b[0m \u001b[0mroc_auc_score\u001b[0m\u001b[0;34m(\u001b[0m\u001b[0my_test_f\u001b[0m\u001b[0;34m,\u001b[0m \u001b[0my_pred_rdfr\u001b[0m\u001b[0;34m)\u001b[0m\u001b[0;34m\u001b[0m\u001b[0;34m\u001b[0m\u001b[0m\n\u001b[0m",
      "\u001b[0;31mNameError\u001b[0m: name 'roc_auc_score' is not defined"
     ]
    }
   ],
   "source": [
    "rf_roc_auc_score = roc_auc_score(y_test_f, y_pred_rdfr)"
   ]
  },
  {
   "cell_type": "code",
   "execution_count": 42,
   "id": "f4c22f19-74ee-4abf-82bc-ab4780a4a616",
   "metadata": {},
   "outputs": [
    {
     "ename": "NameError",
     "evalue": "name 'rf_roc_auc_score' is not defined",
     "output_type": "error",
     "traceback": [
      "\u001b[0;31m---------------------------------------------------------------------------\u001b[0m",
      "\u001b[0;31mNameError\u001b[0m                                 Traceback (most recent call last)",
      "\u001b[0;32m<ipython-input-42-9c1a17d81745>\u001b[0m in \u001b[0;36m<module>\u001b[0;34m\u001b[0m\n\u001b[0;32m----> 1\u001b[0;31m \u001b[0mprint\u001b[0m\u001b[0;34m(\u001b[0m\u001b[0;34m'ROC AUC Score: {:.10f}'\u001b[0m\u001b[0;34m.\u001b[0m\u001b[0mformat\u001b[0m\u001b[0;34m(\u001b[0m\u001b[0mrf_roc_auc_score\u001b[0m\u001b[0;34m)\u001b[0m\u001b[0;34m)\u001b[0m\u001b[0;34m\u001b[0m\u001b[0;34m\u001b[0m\u001b[0m\n\u001b[0m",
      "\u001b[0;31mNameError\u001b[0m: name 'rf_roc_auc_score' is not defined"
     ]
    }
   ],
   "source": [
    "print('ROC AUC Score: {:.10f}'.format(rf_roc_auc_score))"
   ]
  },
  {
   "cell_type": "code",
   "execution_count": 43,
   "id": "944ba71e-2f29-4122-8ea9-2fe253b391a6",
   "metadata": {},
   "outputs": [
    {
     "ename": "ValueError",
     "evalue": "RandomForestRegressor should be a binary classifier",
     "output_type": "error",
     "traceback": [
      "\u001b[0;31m---------------------------------------------------------------------------\u001b[0m",
      "\u001b[0;31mValueError\u001b[0m                                Traceback (most recent call last)",
      "\u001b[0;32m<ipython-input-43-f3c800968125>\u001b[0m in \u001b[0;36m<module>\u001b[0;34m\u001b[0m\n\u001b[0;32m----> 1\u001b[0;31m \u001b[0mmetrics\u001b[0m\u001b[0;34m.\u001b[0m\u001b[0mplot_roc_curve\u001b[0m\u001b[0;34m(\u001b[0m\u001b[0mrf\u001b[0m\u001b[0;34m,\u001b[0m \u001b[0mX_test_f\u001b[0m\u001b[0;34m,\u001b[0m \u001b[0my_test_f\u001b[0m\u001b[0;34m)\u001b[0m\u001b[0;34m\u001b[0m\u001b[0;34m\u001b[0m\u001b[0m\n\u001b[0m\u001b[1;32m      2\u001b[0m \u001b[0mplt\u001b[0m\u001b[0;34m.\u001b[0m\u001b[0mtitle\u001b[0m\u001b[0;34m(\u001b[0m\u001b[0;34m\"Random Forest ROC Curve\"\u001b[0m\u001b[0;34m)\u001b[0m\u001b[0;34m\u001b[0m\u001b[0;34m\u001b[0m\u001b[0m\n\u001b[1;32m      3\u001b[0m \u001b[0mplt\u001b[0m\u001b[0;34m.\u001b[0m\u001b[0mxlabel\u001b[0m\u001b[0;34m(\u001b[0m\u001b[0;34m\"False Positive Rate\"\u001b[0m\u001b[0;34m)\u001b[0m\u001b[0;34m\u001b[0m\u001b[0;34m\u001b[0m\u001b[0m\n\u001b[1;32m      4\u001b[0m \u001b[0mplt\u001b[0m\u001b[0;34m.\u001b[0m\u001b[0mylabel\u001b[0m\u001b[0;34m(\u001b[0m\u001b[0;34m\"True Positive Rate\"\u001b[0m\u001b[0;34m)\u001b[0m\u001b[0;34m\u001b[0m\u001b[0;34m\u001b[0m\u001b[0m\n\u001b[1;32m      5\u001b[0m \u001b[0mplt\u001b[0m\u001b[0;34m.\u001b[0m\u001b[0mgrid\u001b[0m\u001b[0;34m(\u001b[0m\u001b[0;32mTrue\u001b[0m\u001b[0;34m)\u001b[0m\u001b[0;34m\u001b[0m\u001b[0;34m\u001b[0m\u001b[0m\n",
      "\u001b[0;32m/opt/conda/lib/python3.9/site-packages/sklearn/utils/validation.py\u001b[0m in \u001b[0;36minner_f\u001b[0;34m(*args, **kwargs)\u001b[0m\n\u001b[1;32m     61\u001b[0m             \u001b[0mextra_args\u001b[0m \u001b[0;34m=\u001b[0m \u001b[0mlen\u001b[0m\u001b[0;34m(\u001b[0m\u001b[0margs\u001b[0m\u001b[0;34m)\u001b[0m \u001b[0;34m-\u001b[0m \u001b[0mlen\u001b[0m\u001b[0;34m(\u001b[0m\u001b[0mall_args\u001b[0m\u001b[0;34m)\u001b[0m\u001b[0;34m\u001b[0m\u001b[0;34m\u001b[0m\u001b[0m\n\u001b[1;32m     62\u001b[0m             \u001b[0;32mif\u001b[0m \u001b[0mextra_args\u001b[0m \u001b[0;34m<=\u001b[0m \u001b[0;36m0\u001b[0m\u001b[0;34m:\u001b[0m\u001b[0;34m\u001b[0m\u001b[0;34m\u001b[0m\u001b[0m\n\u001b[0;32m---> 63\u001b[0;31m                 \u001b[0;32mreturn\u001b[0m \u001b[0mf\u001b[0m\u001b[0;34m(\u001b[0m\u001b[0;34m*\u001b[0m\u001b[0margs\u001b[0m\u001b[0;34m,\u001b[0m \u001b[0;34m**\u001b[0m\u001b[0mkwargs\u001b[0m\u001b[0;34m)\u001b[0m\u001b[0;34m\u001b[0m\u001b[0;34m\u001b[0m\u001b[0m\n\u001b[0m\u001b[1;32m     64\u001b[0m \u001b[0;34m\u001b[0m\u001b[0m\n\u001b[1;32m     65\u001b[0m             \u001b[0;31m# extra_args > 0\u001b[0m\u001b[0;34m\u001b[0m\u001b[0;34m\u001b[0m\u001b[0;34m\u001b[0m\u001b[0m\n",
      "\u001b[0;32m/opt/conda/lib/python3.9/site-packages/sklearn/metrics/_plot/roc_curve.py\u001b[0m in \u001b[0;36mplot_roc_curve\u001b[0;34m(estimator, X, y, sample_weight, drop_intermediate, response_method, name, ax, pos_label, **kwargs)\u001b[0m\n\u001b[1;32m    210\u001b[0m     \u001b[0mcheck_matplotlib_support\u001b[0m\u001b[0;34m(\u001b[0m\u001b[0;34m'plot_roc_curve'\u001b[0m\u001b[0;34m)\u001b[0m\u001b[0;34m\u001b[0m\u001b[0;34m\u001b[0m\u001b[0m\n\u001b[1;32m    211\u001b[0m \u001b[0;34m\u001b[0m\u001b[0m\n\u001b[0;32m--> 212\u001b[0;31m     y_pred, pos_label = _get_response(\n\u001b[0m\u001b[1;32m    213\u001b[0m         X, estimator, response_method, pos_label=pos_label)\n\u001b[1;32m    214\u001b[0m \u001b[0;34m\u001b[0m\u001b[0m\n",
      "\u001b[0;32m/opt/conda/lib/python3.9/site-packages/sklearn/metrics/_plot/base.py\u001b[0m in \u001b[0;36m_get_response\u001b[0;34m(X, estimator, response_method, pos_label)\u001b[0m\n\u001b[1;32m     84\u001b[0m \u001b[0;34m\u001b[0m\u001b[0m\n\u001b[1;32m     85\u001b[0m     \u001b[0;32mif\u001b[0m \u001b[0;32mnot\u001b[0m \u001b[0mis_classifier\u001b[0m\u001b[0;34m(\u001b[0m\u001b[0mestimator\u001b[0m\u001b[0;34m)\u001b[0m\u001b[0;34m:\u001b[0m\u001b[0;34m\u001b[0m\u001b[0;34m\u001b[0m\u001b[0m\n\u001b[0;32m---> 86\u001b[0;31m         \u001b[0;32mraise\u001b[0m \u001b[0mValueError\u001b[0m\u001b[0;34m(\u001b[0m\u001b[0mclassification_error\u001b[0m\u001b[0;34m)\u001b[0m\u001b[0;34m\u001b[0m\u001b[0;34m\u001b[0m\u001b[0m\n\u001b[0m\u001b[1;32m     87\u001b[0m \u001b[0;34m\u001b[0m\u001b[0m\n\u001b[1;32m     88\u001b[0m     prediction_method = _check_classifier_response_method(\n",
      "\u001b[0;31mValueError\u001b[0m: RandomForestRegressor should be a binary classifier"
     ]
    }
   ],
   "source": [
    "metrics.plot_roc_curve(rf, X_test_f, y_test_f)\n",
    "plt.title(\"Random Forest ROC Curve\")\n",
    "plt.xlabel(\"False Positive Rate\")\n",
    "plt.ylabel(\"True Positive Rate\")\n",
    "plt.grid(True)"
   ]
  },
  {
   "cell_type": "markdown",
   "id": "0ef1c8c5-eab0-4886-865c-8fcd4461346f",
   "metadata": {},
   "source": [
    "## Boosting (Adaboost)"
   ]
  },
  {
   "cell_type": "code",
   "execution_count": 44,
   "id": "456d819f-b229-4c9b-b9e7-f0dfe5e3e153",
   "metadata": {},
   "outputs": [],
   "source": [
    "from sklearn.ensemble import AdaBoostClassifier\n",
    "from sklearn.tree import DecisionTreeClassifier\n",
    "from sklearn.metrics import roc_auc_score\n",
    "from sklearn.model_selection import train_test_split"
   ]
  },
  {
   "cell_type": "code",
   "execution_count": 45,
   "id": "11b2e855-1716-46c3-8ff8-957bc9d1c68c",
   "metadata": {},
   "outputs": [],
   "source": [
    "SEED = 1"
   ]
  },
  {
   "cell_type": "code",
   "execution_count": 46,
   "id": "fca541bf-fec6-4b7e-8eb6-49287ded4a06",
   "metadata": {},
   "outputs": [],
   "source": [
    "X_train_a, X_test_a, y_train_a, y_test_a = train_test_split(undersampled_X_train, undersampled_y_train, test_size=0.3,\n",
    "                                                   stratify=undersampled_y_train, random_state=SEED)"
   ]
  },
  {
   "cell_type": "code",
   "execution_count": 47,
   "id": "123c85b9-0895-46f3-9f0a-2a50ddfaf684",
   "metadata": {},
   "outputs": [],
   "source": [
    "dt_ada = DecisionTreeClassifier(max_depth=1, random_state=SEED)"
   ]
  },
  {
   "cell_type": "code",
   "execution_count": 48,
   "id": "6bd06901-0f67-456d-8f68-7df624e8e1fc",
   "metadata": {},
   "outputs": [],
   "source": [
    "clf = AdaBoostClassifier(base_estimator=dt_ada, n_estimators=100)"
   ]
  },
  {
   "cell_type": "code",
   "execution_count": 49,
   "id": "e1e05af0-6911-4a71-9372-7489095e5390",
   "metadata": {},
   "outputs": [
    {
     "data": {
      "text/plain": [
       "AdaBoostClassifier(base_estimator=DecisionTreeClassifier(max_depth=1,\n",
       "                                                         random_state=1),\n",
       "                   n_estimators=100)"
      ]
     },
     "execution_count": 49,
     "metadata": {},
     "output_type": "execute_result"
    }
   ],
   "source": [
    "clf.fit(X_train_a, y_train_a)"
   ]
  },
  {
   "cell_type": "code",
   "execution_count": 50,
   "id": "ea1bd1fa-7359-4de9-b15e-e22d38e2e1f7",
   "metadata": {
    "tags": []
   },
   "outputs": [],
   "source": [
    "y_pred_proba = clf.predict_proba(X_test)[:,1]"
   ]
  },
  {
   "cell_type": "markdown",
   "id": "9e687c68-8f82-4601-a571-37dc8ff547df",
   "metadata": {},
   "source": [
    "#### Accuracy"
   ]
  },
  {
   "cell_type": "code",
   "execution_count": 51,
   "id": "4da23abe-4e99-4f7f-a41f-eeda7e3aec79",
   "metadata": {},
   "outputs": [],
   "source": [
    "#print(\"Accuracy:\",metrics.accuracy_score(y_test, y_pred))"
   ]
  },
  {
   "cell_type": "code",
   "execution_count": 52,
   "id": "af153b3e-104f-4c47-a01f-f0737d078a83",
   "metadata": {},
   "outputs": [],
   "source": [
    "adb_clf_roc_auc_score = roc_auc_score(y_test, y_pred_proba)"
   ]
  },
  {
   "cell_type": "code",
   "execution_count": 53,
   "id": "a46b467d-c803-4cc5-a446-b18c8ea7abb1",
   "metadata": {},
   "outputs": [
    {
     "name": "stdout",
     "output_type": "stream",
     "text": [
      "ROC AUC Score: 0.9381223565\n"
     ]
    }
   ],
   "source": [
    "print('ROC AUC Score: {:.10f}'.format(adb_clf_roc_auc_score))"
   ]
  },
  {
   "cell_type": "code",
   "execution_count": 54,
   "id": "d038cd67-a740-46c3-b5f5-5ea15f3eb9e1",
   "metadata": {},
   "outputs": [
    {
     "data": {
      "image/png": "[encoded data removed]",
      "text/plain": [
       "<Figure size 432x288 with 1 Axes>"
      ]
     },
     "metadata": {
      "needs_background": "light"
     },
     "output_type": "display_data"
    }
   ],
   "source": [
    "metrics.plot_roc_curve(clf, X_test_a, y_test_a)\n",
    "plt.title(\"Boosted Decision Tree ROC Curve\")\n",
    "plt.xlabel(\"False Positive Rate\")\n",
    "plt.ylabel(\"True Positive Rate\")\n",
    "plt.grid(True)"
   ]
  },
  {
   "cell_type": "markdown",
   "id": "4835b894-4889-4871-9ed7-da552f73dd5a",
   "metadata": {},
   "source": [
    "# Feature Importance"
   ]
  },
  {
   "cell_type": "code",
   "execution_count": 55,
   "id": "0c543259-e690-4544-9950-83e0b35ee47c",
   "metadata": {},
   "outputs": [
    {
     "data": {
      "text/plain": [
       "array([0.4 , 0.04, 0.02, 0.03, 0.06, 0.2 , 0.03, 0.03, 0.15, 0.04])"
      ]
     },
     "execution_count": 55,
     "metadata": {},
     "output_type": "execute_result"
    }
   ],
   "source": [
    "tree = clf.fit(X_test, y_test)\n",
    "tree.feature_importances_"
   ]
  },
  {
   "cell_type": "code",
   "execution_count": 56,
   "id": "082f8271-cb53-4f4d-86a4-4e05894716fc",
   "metadata": {},
   "outputs": [
    {
     "data": {
      "text/html": [
       "<div>\n",
       "<style scoped>\n",
       "    .dataframe tbody tr th:only-of-type {\n",
       "        vertical-align: middle;\n",
       "    }\n",
       "\n",
       "    .dataframe tbody tr th {\n",
       "        vertical-align: top;\n",
       "    }\n",
       "\n",
       "    .dataframe thead th {\n",
       "        text-align: right;\n",
       "    }\n",
       "</style>\n",
       "<table border=\"1\" class=\"dataframe\">\n",
       "  <thead>\n",
       "    <tr style=\"text-align: right;\">\n",
       "      <th></th>\n",
       "      <th>feature importance</th>\n",
       "    </tr>\n",
       "  </thead>\n",
       "  <tbody>\n",
       "    <tr>\n",
       "      <th>0</th>\n",
       "      <td>0.40</td>\n",
       "    </tr>\n",
       "    <tr>\n",
       "      <th>1</th>\n",
       "      <td>0.04</td>\n",
       "    </tr>\n",
       "    <tr>\n",
       "      <th>2</th>\n",
       "      <td>0.02</td>\n",
       "    </tr>\n",
       "    <tr>\n",
       "      <th>3</th>\n",
       "      <td>0.03</td>\n",
       "    </tr>\n",
       "    <tr>\n",
       "      <th>4</th>\n",
       "      <td>0.06</td>\n",
       "    </tr>\n",
       "    <tr>\n",
       "      <th>5</th>\n",
       "      <td>0.20</td>\n",
       "    </tr>\n",
       "    <tr>\n",
       "      <th>6</th>\n",
       "      <td>0.03</td>\n",
       "    </tr>\n",
       "    <tr>\n",
       "      <th>7</th>\n",
       "      <td>0.03</td>\n",
       "    </tr>\n",
       "    <tr>\n",
       "      <th>8</th>\n",
       "      <td>0.15</td>\n",
       "    </tr>\n",
       "    <tr>\n",
       "      <th>9</th>\n",
       "      <td>0.04</td>\n",
       "    </tr>\n",
       "  </tbody>\n",
       "</table>\n",
       "</div>"
      ],
      "text/plain": [
       "   feature importance\n",
       "0                0.40\n",
       "1                0.04\n",
       "2                0.02\n",
       "3                0.03\n",
       "4                0.06\n",
       "5                0.20\n",
       "6                0.03\n",
       "7                0.03\n",
       "8                0.15\n",
       "9                0.04"
      ]
     },
     "execution_count": 56,
     "metadata": {},
     "output_type": "execute_result"
    }
   ],
   "source": [
    "feat_imp = pd.DataFrame(tree.feature_importances_, columns=['feature importance'])\n",
    "feat_imp"
   ]
  },
  {
   "cell_type": "markdown",
   "id": "31bf4d03-79f1-4dab-8c5c-2af59ac0d087",
   "metadata": {},
   "source": [
    "# GridSearchCV (Normal Decision Tree)"
   ]
  },
  {
   "cell_type": "code",
   "execution_count": 59,
   "id": "9d771eef-6abb-4ae9-a8a5-51ce4b64e635",
   "metadata": {},
   "outputs": [],
   "source": [
    "from sklearn.model_selection import GridSearchCV\n",
    "from sklearn.model_selection import cross_val_score"
   ]
  },
  {
   "cell_type": "code",
   "execution_count": 106,
   "id": "4fca36c2-10ac-43a6-840b-9b47ca375702",
   "metadata": {},
   "outputs": [],
   "source": [
    "X_train_ad, X_test_ad, y_train_ad, y_test_ad = train_test_split(undersampled_X_train, undersampled_y_train, test_size=0.3,\n",
    "                                                   stratify=undersampled_y_train, random_state=SEED)"
   ]
  },
  {
   "cell_type": "code",
   "execution_count": 73,
   "id": "093d24cd-96cd-45fb-b661-aaeef48cb22c",
   "metadata": {},
   "outputs": [],
   "source": [
    "tree_para = {'criterion':['gini','entropy'], 'max_depth':[2,4,6,8,10,12,14,16], 'random_state':[2,4,6,8,10,12,14,16]}"
   ]
  },
  {
   "cell_type": "code",
   "execution_count": 74,
   "id": "f2d287b0-c817-430d-9830-25feb1710c56",
   "metadata": {},
   "outputs": [],
   "source": [
    "cvclf = GridSearchCV(dt, tree_para, cv=5)"
   ]
  },
  {
   "cell_type": "code",
   "execution_count": 75,
   "id": "f70f3196-9935-40d7-8a16-81a634458cb0",
   "metadata": {},
   "outputs": [
    {
     "data": {
      "text/plain": [
       "GridSearchCV(cv=5,\n",
       "             estimator=DecisionTreeClassifier(max_depth=6, random_state=1),\n",
       "             param_grid={'criterion': ['gini', 'entropy'],\n",
       "                         'max_depth': [2, 4, 6, 8, 10, 12, 14, 16],\n",
       "                         'random_state': [2, 4, 6, 8, 10, 12, 14, 16]})"
      ]
     },
     "execution_count": 75,
     "metadata": {},
     "output_type": "execute_result"
    }
   ],
   "source": [
    "cvclf.fit(X_train_a, y_train_a)"
   ]
  },
  {
   "cell_type": "code",
   "execution_count": 76,
   "id": "fc4a840d-057d-4df1-909a-11167776cad7",
   "metadata": {},
   "outputs": [
    {
     "data": {
      "text/plain": [
       "{'criterion': 'entropy', 'max_depth': 8, 'random_state': 16}"
      ]
     },
     "execution_count": 76,
     "metadata": {},
     "output_type": "execute_result"
    }
   ],
   "source": [
    "cvclf.best_params_"
   ]
  },
  {
   "cell_type": "markdown",
   "id": "27ccb490-92a0-4fbe-825c-d5ec1d9252af",
   "metadata": {},
   "source": [
    "### Test"
   ]
  },
  {
   "cell_type": "code",
   "execution_count": 107,
   "id": "8f3b62f2-212f-4a22-8917-9001a2279cce",
   "metadata": {},
   "outputs": [],
   "source": [
    "cv_tree = DecisionTreeClassifier(criterion='entropy', max_depth=8, random_state=16)\n",
    "cv_tree.fit(X_train_ad, y_train_ad)\n",
    "y_pred_cvd = cv_tree.predict(X_test_ad)\n"
   ]
  },
  {
   "cell_type": "code",
   "execution_count": 108,
   "id": "c6b5eacf-4caa-4fb6-9840-9d5177f3a63c",
   "metadata": {},
   "outputs": [
    {
     "name": "stdout",
     "output_type": "stream",
     "text": [
      "Accuracy: 0.8604062234402373\n"
     ]
    }
   ],
   "source": [
    "print(\"Accuracy:\",metrics.accuracy_score(y_test_ad, y_pred_cvd))"
   ]
  },
  {
   "cell_type": "code",
   "execution_count": 109,
   "id": "d73bef81-46e7-410a-93dd-d0ba41454e89",
   "metadata": {},
   "outputs": [],
   "source": [
    "c_clf_roc_auc_score = roc_auc_score(y_test_ad, y_pred_cvd)"
   ]
  },
  {
   "cell_type": "code",
   "execution_count": 112,
   "id": "35f5ef2f-588a-4b6f-b38f-19f62b9373e7",
   "metadata": {},
   "outputs": [
    {
     "name": "stdout",
     "output_type": "stream",
     "text": [
      "ROC AUC Score: 0.86040639849542432938\n"
     ]
    }
   ],
   "source": [
    "print('ROC AUC Score: {:.20f}'.format(c_clf_roc_auc_score))"
   ]
  },
  {
   "cell_type": "code",
   "execution_count": 111,
   "id": "81a1bf30-c891-4649-8453-f87a27786375",
   "metadata": {},
   "outputs": [
    {
     "data": {
      "text/plain": [
       "0.8604063984954243"
      ]
     },
     "execution_count": 111,
     "metadata": {},
     "output_type": "execute_result"
    }
   ],
   "source": [
    "roc_auc_score(y_test_ad, y_pred_cvd)"
   ]
  },
  {
   "cell_type": "code",
   "execution_count": null,
   "id": "2bb2ab32-e325-464f-b734-061ec9db9a8d",
   "metadata": {},
   "outputs": [],
   "source": []
  }
 ],
 "metadata": {
  "kernelspec": {
   "display_name": "Python 3",
   "language": "python",
   "name": "python3"
  },
  "language_info": {
   "codemirror_mode": {
    "name": "ipython",
    "version": 3
   },
   "file_extension": ".py",
   "mimetype": "text/x-python",
   "name": "python",
   "nbconvert_exporter": "python",
   "pygments_lexer": "ipython3",
   "version": "3.9.2"
  }
 },
 "nbformat": 4,
 "nbformat_minor": 5
}

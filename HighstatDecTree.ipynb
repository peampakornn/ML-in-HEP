{
 "cells": [
  {
   "cell_type": "code",
   "execution_count": 1,
   "id": "71b8e018-5eb1-4711-a8e9-6809cf2058b4",
   "metadata": {},
   "outputs": [
    {
     "name": "stdout",
     "output_type": "stream",
     "text": [
      "\u001b[31mERROR: Could not find a version that satisfies the requirement tenserflow (from versions: none)\u001b[0m\n",
      "\u001b[31mERROR: No matching distribution found for tenserflow\u001b[0m\n",
      "Note: you may need to restart the kernel to use updated packages.\n"
     ]
    }
   ],
   "source": [
    "#pip install tenserflow --upgrade\n",
    "pip install tensorflow --upgrade"
   ]
  },
  {
   "cell_type": "markdown",
   "id": "99bea1d3-d184-4c69-b939-aae00e8c7900",
   "metadata": {},
   "source": [
    "**We will be working with scikit-learn, which does not really need TensorFlow.\n",
    "You don't need to install it for now.**"
   ]
  },
  {
   "cell_type": "code",
   "execution_count": null,
   "id": "d6c31b01-fdf7-4730-8e60-cdddedb258bd",
   "metadata": {},
   "outputs": [],
   "source": []
  },
  {
   "cell_type": "markdown",
   "id": "df7d49f8-891a-461f-b252-12bf0f665f5a",
   "metadata": {},
   "source": [
    "## Reading Uproot"
   ]
  },
  {
   "cell_type": "code",
   "execution_count": 1,
   "id": "df614659-2091-4d4f-b65d-c2f19003fe87",
   "metadata": {},
   "outputs": [],
   "source": [
    "import uproot\n",
    "import awkward\n",
    "import numpy as np\n",
    "import pandas as pd"
   ]
  },
  {
   "cell_type": "markdown",
   "id": "18b13803-b49c-431d-8858-2e2321b5d6ba",
   "metadata": {},
   "source": [
    "**Here we specify only columns that we want, to reduce memory usage.\n",
    "The original code would ask for 45 (!) columns of data, while using only 10 columns in BDT training.**"
   ]
  },
  {
   "cell_type": "code",
   "execution_count": 2,
   "id": "ecf3d199-c3c2-4172-9ca4-deed07aa9e2a",
   "metadata": {},
   "outputs": [],
   "source": [
    "input_columns = ['mbb','nbjets','dEtabb','mj1','btagj1','qglikelihoodj1','mj2','btagj2','qglikelihoodj2','btagj3']\n",
    "import_columns = input_columns + [\"weight\"]"
   ]
  },
  {
   "cell_type": "markdown",
   "id": "aa722d58-9927-4845-b919-e0e6870c685d",
   "metadata": {},
   "source": [
    "### Signal Section"
   ]
  },
  {
   "cell_type": "code",
   "execution_count": 3,
   "id": "14c0c125-b8d2-46c3-9b12-52fda4d44872",
   "metadata": {},
   "outputs": [
    {
     "data": {
      "text/plain": [
       "<ReadOnlyDirectory '/' at 0x7fe2f43544f0>"
      ]
     },
     "execution_count": 3,
     "metadata": {},
     "output_type": "execute_result"
    }
   ],
   "source": [
    "signal = uproot.open('ForML_SUSYGluGluToBBHToBB_M-300_2017.root')\n",
    "signal"
   ]
  },
  {
   "cell_type": "code",
   "execution_count": 4,
   "id": "ebd68d42-f60f-40da-897a-1307b17b0577",
   "metadata": {},
   "outputs": [
    {
     "data": {
      "text/plain": [
       "<TTree 'mssmhbb' (45 branches) at 0x7fe2b279ee80>"
      ]
     },
     "execution_count": 4,
     "metadata": {},
     "output_type": "execute_result"
    }
   ],
   "source": [
    "signal_tree = signal['mssmhbb']\n",
    "signal_tree"
   ]
  },
  {
   "cell_type": "code",
   "execution_count": 5,
   "id": "0114a076-7dce-4149-861e-66e4836c61d1",
   "metadata": {},
   "outputs": [],
   "source": [
    "signal_b = signal_tree.arrays()"
   ]
  },
  {
   "cell_type": "markdown",
   "id": "6cb1daf5-0e32-4cd6-b85f-e6b2c27a806d",
   "metadata": {},
   "source": [
    "**To reduce even further memory consumption, we can declare columns to use, impose cut, and specify library to use right here.**"
   ]
  },
  {
   "cell_type": "code",
   "execution_count": 6,
   "id": "fa14f5cb-463f-4649-b9cc-ca6aaf50563b",
   "metadata": {},
   "outputs": [
    {
     "data": {
      "text/html": [
       "<div>\n",
       "<style scoped>\n",
       "    .dataframe tbody tr th:only-of-type {\n",
       "        vertical-align: middle;\n",
       "    }\n",
       "\n",
       "    .dataframe tbody tr th {\n",
       "        vertical-align: top;\n",
       "    }\n",
       "\n",
       "    .dataframe thead th {\n",
       "        text-align: right;\n",
       "    }\n",
       "</style>\n",
       "<table border=\"1\" class=\"dataframe\">\n",
       "  <thead>\n",
       "    <tr style=\"text-align: right;\">\n",
       "      <th></th>\n",
       "      <th>mbb</th>\n",
       "      <th>nbjets</th>\n",
       "      <th>dEtabb</th>\n",
       "      <th>mj1</th>\n",
       "      <th>btagj1</th>\n",
       "      <th>qglikelihoodj1</th>\n",
       "      <th>mj2</th>\n",
       "      <th>btagj2</th>\n",
       "      <th>qglikelihoodj2</th>\n",
       "      <th>btagj3</th>\n",
       "    </tr>\n",
       "  </thead>\n",
       "  <tbody>\n",
       "    <tr>\n",
       "      <th>0</th>\n",
       "      <td>247.502716</td>\n",
       "      <td>3</td>\n",
       "      <td>0.481564</td>\n",
       "      <td>15.517390</td>\n",
       "      <td>0.887491</td>\n",
       "      <td>0.999479</td>\n",
       "      <td>16.113611</td>\n",
       "      <td>0.939928</td>\n",
       "      <td>0.703348</td>\n",
       "      <td>0.915599</td>\n",
       "    </tr>\n",
       "    <tr>\n",
       "      <th>3</th>\n",
       "      <td>149.893295</td>\n",
       "      <td>3</td>\n",
       "      <td>0.161677</td>\n",
       "      <td>9.632886</td>\n",
       "      <td>0.999974</td>\n",
       "      <td>0.069399</td>\n",
       "      <td>15.820998</td>\n",
       "      <td>0.006925</td>\n",
       "      <td>0.007535</td>\n",
       "      <td>0.995224</td>\n",
       "    </tr>\n",
       "    <tr>\n",
       "      <th>6</th>\n",
       "      <td>315.735199</td>\n",
       "      <td>2</td>\n",
       "      <td>0.358081</td>\n",
       "      <td>25.032156</td>\n",
       "      <td>0.157399</td>\n",
       "      <td>0.903754</td>\n",
       "      <td>20.700012</td>\n",
       "      <td>0.010202</td>\n",
       "      <td>0.014573</td>\n",
       "      <td>0.997033</td>\n",
       "    </tr>\n",
       "    <tr>\n",
       "      <th>7</th>\n",
       "      <td>286.116486</td>\n",
       "      <td>5</td>\n",
       "      <td>0.315241</td>\n",
       "      <td>14.416768</td>\n",
       "      <td>0.999981</td>\n",
       "      <td>0.947396</td>\n",
       "      <td>28.254524</td>\n",
       "      <td>0.932847</td>\n",
       "      <td>0.025025</td>\n",
       "      <td>0.800665</td>\n",
       "    </tr>\n",
       "    <tr>\n",
       "      <th>9</th>\n",
       "      <td>233.878204</td>\n",
       "      <td>4</td>\n",
       "      <td>0.288374</td>\n",
       "      <td>19.564425</td>\n",
       "      <td>0.549932</td>\n",
       "      <td>0.012586</td>\n",
       "      <td>15.799347</td>\n",
       "      <td>0.922862</td>\n",
       "      <td>0.009288</td>\n",
       "      <td>0.758133</td>\n",
       "    </tr>\n",
       "    <tr>\n",
       "      <th>...</th>\n",
       "      <td>...</td>\n",
       "      <td>...</td>\n",
       "      <td>...</td>\n",
       "      <td>...</td>\n",
       "      <td>...</td>\n",
       "      <td>...</td>\n",
       "      <td>...</td>\n",
       "      <td>...</td>\n",
       "      <td>...</td>\n",
       "      <td>...</td>\n",
       "    </tr>\n",
       "    <tr>\n",
       "      <th>1886561</th>\n",
       "      <td>232.293991</td>\n",
       "      <td>1</td>\n",
       "      <td>0.663890</td>\n",
       "      <td>11.275383</td>\n",
       "      <td>0.055933</td>\n",
       "      <td>0.985068</td>\n",
       "      <td>13.545302</td>\n",
       "      <td>0.955079</td>\n",
       "      <td>0.031266</td>\n",
       "      <td>0.021039</td>\n",
       "    </tr>\n",
       "    <tr>\n",
       "      <th>1886562</th>\n",
       "      <td>189.542206</td>\n",
       "      <td>1</td>\n",
       "      <td>0.491767</td>\n",
       "      <td>18.958754</td>\n",
       "      <td>0.136861</td>\n",
       "      <td>0.878480</td>\n",
       "      <td>8.465266</td>\n",
       "      <td>0.957051</td>\n",
       "      <td>0.995948</td>\n",
       "      <td>0.007203</td>\n",
       "    </tr>\n",
       "    <tr>\n",
       "      <th>1886565</th>\n",
       "      <td>177.349838</td>\n",
       "      <td>3</td>\n",
       "      <td>0.254090</td>\n",
       "      <td>19.264492</td>\n",
       "      <td>0.008957</td>\n",
       "      <td>0.081572</td>\n",
       "      <td>6.688364</td>\n",
       "      <td>0.206645</td>\n",
       "      <td>0.971596</td>\n",
       "      <td>0.996494</td>\n",
       "    </tr>\n",
       "    <tr>\n",
       "      <th>1886567</th>\n",
       "      <td>260.582703</td>\n",
       "      <td>4</td>\n",
       "      <td>0.119817</td>\n",
       "      <td>18.562035</td>\n",
       "      <td>0.979573</td>\n",
       "      <td>0.999715</td>\n",
       "      <td>12.421498</td>\n",
       "      <td>0.498276</td>\n",
       "      <td>0.789132</td>\n",
       "      <td>0.871037</td>\n",
       "    </tr>\n",
       "    <tr>\n",
       "      <th>1886568</th>\n",
       "      <td>302.822021</td>\n",
       "      <td>3</td>\n",
       "      <td>0.080543</td>\n",
       "      <td>20.685659</td>\n",
       "      <td>0.894362</td>\n",
       "      <td>0.939155</td>\n",
       "      <td>15.887212</td>\n",
       "      <td>0.999815</td>\n",
       "      <td>0.142514</td>\n",
       "      <td>0.309635</td>\n",
       "    </tr>\n",
       "  </tbody>\n",
       "</table>\n",
       "<p>1211605 rows × 10 columns</p>\n",
       "</div>"
      ],
      "text/plain": [
       "                mbb  nbjets    dEtabb        mj1    btagj1  qglikelihoodj1  \\\n",
       "0        247.502716       3  0.481564  15.517390  0.887491        0.999479   \n",
       "3        149.893295       3  0.161677   9.632886  0.999974        0.069399   \n",
       "6        315.735199       2  0.358081  25.032156  0.157399        0.903754   \n",
       "7        286.116486       5  0.315241  14.416768  0.999981        0.947396   \n",
       "9        233.878204       4  0.288374  19.564425  0.549932        0.012586   \n",
       "...             ...     ...       ...        ...       ...             ...   \n",
       "1886561  232.293991       1  0.663890  11.275383  0.055933        0.985068   \n",
       "1886562  189.542206       1  0.491767  18.958754  0.136861        0.878480   \n",
       "1886565  177.349838       3  0.254090  19.264492  0.008957        0.081572   \n",
       "1886567  260.582703       4  0.119817  18.562035  0.979573        0.999715   \n",
       "1886568  302.822021       3  0.080543  20.685659  0.894362        0.939155   \n",
       "\n",
       "               mj2    btagj2  qglikelihoodj2    btagj3  \n",
       "0        16.113611  0.939928        0.703348  0.915599  \n",
       "3        15.820998  0.006925        0.007535  0.995224  \n",
       "6        20.700012  0.010202        0.014573  0.997033  \n",
       "7        28.254524  0.932847        0.025025  0.800665  \n",
       "9        15.799347  0.922862        0.009288  0.758133  \n",
       "...            ...       ...             ...       ...  \n",
       "1886561  13.545302  0.955079        0.031266  0.021039  \n",
       "1886562   8.465266  0.957051        0.995948  0.007203  \n",
       "1886565   6.688364  0.206645        0.971596  0.996494  \n",
       "1886567  12.421498  0.498276        0.789132  0.871037  \n",
       "1886568  15.887212  0.999815        0.142514  0.309635  \n",
       "\n",
       "[1211605 rows x 10 columns]"
      ]
     },
     "execution_count": 6,
     "metadata": {},
     "output_type": "execute_result"
    }
   ],
   "source": [
    "#signal_df = awkward.to_pandas(signal_b)\n",
    "signal_df = signal_tree.arrays(input_columns, library=\"pd\", cut=\"weight>0\")\n",
    "signal_df"
   ]
  },
  {
   "cell_type": "code",
   "execution_count": 7,
   "id": "4e308489-9363-44e5-9c41-109c63d6ff9f",
   "metadata": {},
   "outputs": [],
   "source": [
    "signal_df['label'] = np.ones(len(signal_df))"
   ]
  },
  {
   "cell_type": "code",
   "execution_count": 8,
   "id": "94a354ff-d8b1-4339-92de-b894d967ad8c",
   "metadata": {},
   "outputs": [
    {
     "data": {
      "text/html": [
       "<div>\n",
       "<style scoped>\n",
       "    .dataframe tbody tr th:only-of-type {\n",
       "        vertical-align: middle;\n",
       "    }\n",
       "\n",
       "    .dataframe tbody tr th {\n",
       "        vertical-align: top;\n",
       "    }\n",
       "\n",
       "    .dataframe thead th {\n",
       "        text-align: right;\n",
       "    }\n",
       "</style>\n",
       "<table border=\"1\" class=\"dataframe\">\n",
       "  <thead>\n",
       "    <tr style=\"text-align: right;\">\n",
       "      <th></th>\n",
       "      <th>mbb</th>\n",
       "      <th>nbjets</th>\n",
       "      <th>dEtabb</th>\n",
       "      <th>mj1</th>\n",
       "      <th>btagj1</th>\n",
       "      <th>qglikelihoodj1</th>\n",
       "      <th>mj2</th>\n",
       "      <th>btagj2</th>\n",
       "      <th>qglikelihoodj2</th>\n",
       "      <th>btagj3</th>\n",
       "      <th>label</th>\n",
       "    </tr>\n",
       "  </thead>\n",
       "  <tbody>\n",
       "    <tr>\n",
       "      <th>0</th>\n",
       "      <td>247.502716</td>\n",
       "      <td>3</td>\n",
       "      <td>0.481564</td>\n",
       "      <td>15.517390</td>\n",
       "      <td>0.887491</td>\n",
       "      <td>0.999479</td>\n",
       "      <td>16.113611</td>\n",
       "      <td>0.939928</td>\n",
       "      <td>0.703348</td>\n",
       "      <td>0.915599</td>\n",
       "      <td>1.0</td>\n",
       "    </tr>\n",
       "    <tr>\n",
       "      <th>3</th>\n",
       "      <td>149.893295</td>\n",
       "      <td>3</td>\n",
       "      <td>0.161677</td>\n",
       "      <td>9.632886</td>\n",
       "      <td>0.999974</td>\n",
       "      <td>0.069399</td>\n",
       "      <td>15.820998</td>\n",
       "      <td>0.006925</td>\n",
       "      <td>0.007535</td>\n",
       "      <td>0.995224</td>\n",
       "      <td>1.0</td>\n",
       "    </tr>\n",
       "    <tr>\n",
       "      <th>6</th>\n",
       "      <td>315.735199</td>\n",
       "      <td>2</td>\n",
       "      <td>0.358081</td>\n",
       "      <td>25.032156</td>\n",
       "      <td>0.157399</td>\n",
       "      <td>0.903754</td>\n",
       "      <td>20.700012</td>\n",
       "      <td>0.010202</td>\n",
       "      <td>0.014573</td>\n",
       "      <td>0.997033</td>\n",
       "      <td>1.0</td>\n",
       "    </tr>\n",
       "    <tr>\n",
       "      <th>7</th>\n",
       "      <td>286.116486</td>\n",
       "      <td>5</td>\n",
       "      <td>0.315241</td>\n",
       "      <td>14.416768</td>\n",
       "      <td>0.999981</td>\n",
       "      <td>0.947396</td>\n",
       "      <td>28.254524</td>\n",
       "      <td>0.932847</td>\n",
       "      <td>0.025025</td>\n",
       "      <td>0.800665</td>\n",
       "      <td>1.0</td>\n",
       "    </tr>\n",
       "    <tr>\n",
       "      <th>9</th>\n",
       "      <td>233.878204</td>\n",
       "      <td>4</td>\n",
       "      <td>0.288374</td>\n",
       "      <td>19.564425</td>\n",
       "      <td>0.549932</td>\n",
       "      <td>0.012586</td>\n",
       "      <td>15.799347</td>\n",
       "      <td>0.922862</td>\n",
       "      <td>0.009288</td>\n",
       "      <td>0.758133</td>\n",
       "      <td>1.0</td>\n",
       "    </tr>\n",
       "    <tr>\n",
       "      <th>...</th>\n",
       "      <td>...</td>\n",
       "      <td>...</td>\n",
       "      <td>...</td>\n",
       "      <td>...</td>\n",
       "      <td>...</td>\n",
       "      <td>...</td>\n",
       "      <td>...</td>\n",
       "      <td>...</td>\n",
       "      <td>...</td>\n",
       "      <td>...</td>\n",
       "      <td>...</td>\n",
       "    </tr>\n",
       "    <tr>\n",
       "      <th>1886561</th>\n",
       "      <td>232.293991</td>\n",
       "      <td>1</td>\n",
       "      <td>0.663890</td>\n",
       "      <td>11.275383</td>\n",
       "      <td>0.055933</td>\n",
       "      <td>0.985068</td>\n",
       "      <td>13.545302</td>\n",
       "      <td>0.955079</td>\n",
       "      <td>0.031266</td>\n",
       "      <td>0.021039</td>\n",
       "      <td>1.0</td>\n",
       "    </tr>\n",
       "    <tr>\n",
       "      <th>1886562</th>\n",
       "      <td>189.542206</td>\n",
       "      <td>1</td>\n",
       "      <td>0.491767</td>\n",
       "      <td>18.958754</td>\n",
       "      <td>0.136861</td>\n",
       "      <td>0.878480</td>\n",
       "      <td>8.465266</td>\n",
       "      <td>0.957051</td>\n",
       "      <td>0.995948</td>\n",
       "      <td>0.007203</td>\n",
       "      <td>1.0</td>\n",
       "    </tr>\n",
       "    <tr>\n",
       "      <th>1886565</th>\n",
       "      <td>177.349838</td>\n",
       "      <td>3</td>\n",
       "      <td>0.254090</td>\n",
       "      <td>19.264492</td>\n",
       "      <td>0.008957</td>\n",
       "      <td>0.081572</td>\n",
       "      <td>6.688364</td>\n",
       "      <td>0.206645</td>\n",
       "      <td>0.971596</td>\n",
       "      <td>0.996494</td>\n",
       "      <td>1.0</td>\n",
       "    </tr>\n",
       "    <tr>\n",
       "      <th>1886567</th>\n",
       "      <td>260.582703</td>\n",
       "      <td>4</td>\n",
       "      <td>0.119817</td>\n",
       "      <td>18.562035</td>\n",
       "      <td>0.979573</td>\n",
       "      <td>0.999715</td>\n",
       "      <td>12.421498</td>\n",
       "      <td>0.498276</td>\n",
       "      <td>0.789132</td>\n",
       "      <td>0.871037</td>\n",
       "      <td>1.0</td>\n",
       "    </tr>\n",
       "    <tr>\n",
       "      <th>1886568</th>\n",
       "      <td>302.822021</td>\n",
       "      <td>3</td>\n",
       "      <td>0.080543</td>\n",
       "      <td>20.685659</td>\n",
       "      <td>0.894362</td>\n",
       "      <td>0.939155</td>\n",
       "      <td>15.887212</td>\n",
       "      <td>0.999815</td>\n",
       "      <td>0.142514</td>\n",
       "      <td>0.309635</td>\n",
       "      <td>1.0</td>\n",
       "    </tr>\n",
       "  </tbody>\n",
       "</table>\n",
       "<p>1211605 rows × 11 columns</p>\n",
       "</div>"
      ],
      "text/plain": [
       "                mbb  nbjets    dEtabb        mj1    btagj1  qglikelihoodj1  \\\n",
       "0        247.502716       3  0.481564  15.517390  0.887491        0.999479   \n",
       "3        149.893295       3  0.161677   9.632886  0.999974        0.069399   \n",
       "6        315.735199       2  0.358081  25.032156  0.157399        0.903754   \n",
       "7        286.116486       5  0.315241  14.416768  0.999981        0.947396   \n",
       "9        233.878204       4  0.288374  19.564425  0.549932        0.012586   \n",
       "...             ...     ...       ...        ...       ...             ...   \n",
       "1886561  232.293991       1  0.663890  11.275383  0.055933        0.985068   \n",
       "1886562  189.542206       1  0.491767  18.958754  0.136861        0.878480   \n",
       "1886565  177.349838       3  0.254090  19.264492  0.008957        0.081572   \n",
       "1886567  260.582703       4  0.119817  18.562035  0.979573        0.999715   \n",
       "1886568  302.822021       3  0.080543  20.685659  0.894362        0.939155   \n",
       "\n",
       "               mj2    btagj2  qglikelihoodj2    btagj3  label  \n",
       "0        16.113611  0.939928        0.703348  0.915599    1.0  \n",
       "3        15.820998  0.006925        0.007535  0.995224    1.0  \n",
       "6        20.700012  0.010202        0.014573  0.997033    1.0  \n",
       "7        28.254524  0.932847        0.025025  0.800665    1.0  \n",
       "9        15.799347  0.922862        0.009288  0.758133    1.0  \n",
       "...            ...       ...             ...       ...    ...  \n",
       "1886561  13.545302  0.955079        0.031266  0.021039    1.0  \n",
       "1886562   8.465266  0.957051        0.995948  0.007203    1.0  \n",
       "1886565   6.688364  0.206645        0.971596  0.996494    1.0  \n",
       "1886567  12.421498  0.498276        0.789132  0.871037    1.0  \n",
       "1886568  15.887212  0.999815        0.142514  0.309635    1.0  \n",
       "\n",
       "[1211605 rows x 11 columns]"
      ]
     },
     "execution_count": 8,
     "metadata": {},
     "output_type": "execute_result"
    }
   ],
   "source": [
    "signal_df"
   ]
  },
  {
   "cell_type": "markdown",
   "id": "0f07ced9-ef74-4e00-b4b6-ce0620f758e5",
   "metadata": {},
   "source": [
    "### Background Section"
   ]
  },
  {
   "cell_type": "code",
   "execution_count": 9,
   "id": "d3725a87-1ec1-4a59-95f3-6677ee03904f",
   "metadata": {},
   "outputs": [
    {
     "data": {
      "text/plain": [
       "<ReadOnlyDirectory '/' at 0x7fe29d368970>"
      ]
     },
     "execution_count": 9,
     "metadata": {},
     "output_type": "execute_result"
    }
   ],
   "source": [
    "bg = uproot.open('ForML_QCD-bEnriched100toInf_2017.root')\n",
    "bg"
   ]
  },
  {
   "cell_type": "code",
   "execution_count": 10,
   "id": "97a75045-dd42-46e8-81bb-d782aa90e024",
   "metadata": {},
   "outputs": [
    {
     "data": {
      "text/plain": [
       "<TTree 'mssmhbb' (45 branches) at 0x7fe29d36be50>"
      ]
     },
     "execution_count": 10,
     "metadata": {},
     "output_type": "execute_result"
    }
   ],
   "source": [
    "bg_tree = bg['mssmhbb']\n",
    "bg_tree"
   ]
  },
  {
   "cell_type": "markdown",
   "id": "a3fec104-a155-4209-9cbf-5c9be977b765",
   "metadata": {},
   "source": [
    "**Same here. We declare columns to use, impose cut, and specify library to use.**"
   ]
  },
  {
   "cell_type": "code",
   "execution_count": 11,
   "id": "3686926e-9c7b-4e7c-81a4-b126fefe4a17",
   "metadata": {},
   "outputs": [],
   "source": [
    "bg_df = bg_tree.arrays(input_columns, library=\"pd\", cut=\"weight>0\")"
   ]
  },
  {
   "cell_type": "code",
   "execution_count": 12,
   "id": "cc5059c5-679c-4324-9e15-7f3f0f7cf81c",
   "metadata": {},
   "outputs": [
    {
     "data": {
      "text/html": [
       "<div>\n",
       "<style scoped>\n",
       "    .dataframe tbody tr th:only-of-type {\n",
       "        vertical-align: middle;\n",
       "    }\n",
       "\n",
       "    .dataframe tbody tr th {\n",
       "        vertical-align: top;\n",
       "    }\n",
       "\n",
       "    .dataframe thead th {\n",
       "        text-align: right;\n",
       "    }\n",
       "</style>\n",
       "<table border=\"1\" class=\"dataframe\">\n",
       "  <thead>\n",
       "    <tr style=\"text-align: right;\">\n",
       "      <th></th>\n",
       "      <th>mbb</th>\n",
       "      <th>nbjets</th>\n",
       "      <th>dEtabb</th>\n",
       "      <th>mj1</th>\n",
       "      <th>btagj1</th>\n",
       "      <th>qglikelihoodj1</th>\n",
       "      <th>mj2</th>\n",
       "      <th>btagj2</th>\n",
       "      <th>qglikelihoodj2</th>\n",
       "      <th>btagj3</th>\n",
       "    </tr>\n",
       "  </thead>\n",
       "  <tbody>\n",
       "    <tr>\n",
       "      <th>0</th>\n",
       "      <td>839.851990</td>\n",
       "      <td>2</td>\n",
       "      <td>0.903867</td>\n",
       "      <td>47.202030</td>\n",
       "      <td>0.007290</td>\n",
       "      <td>0.898416</td>\n",
       "      <td>27.763237</td>\n",
       "      <td>0.004753</td>\n",
       "      <td>0.725501</td>\n",
       "      <td>0.896091</td>\n",
       "    </tr>\n",
       "    <tr>\n",
       "      <th>1</th>\n",
       "      <td>593.326172</td>\n",
       "      <td>1</td>\n",
       "      <td>0.159204</td>\n",
       "      <td>51.766693</td>\n",
       "      <td>0.060591</td>\n",
       "      <td>0.550139</td>\n",
       "      <td>37.580788</td>\n",
       "      <td>0.855804</td>\n",
       "      <td>0.004402</td>\n",
       "      <td>0.011087</td>\n",
       "    </tr>\n",
       "    <tr>\n",
       "      <th>2</th>\n",
       "      <td>1125.043091</td>\n",
       "      <td>1</td>\n",
       "      <td>0.564897</td>\n",
       "      <td>52.646896</td>\n",
       "      <td>0.233416</td>\n",
       "      <td>0.836007</td>\n",
       "      <td>45.971062</td>\n",
       "      <td>0.986359</td>\n",
       "      <td>0.645028</td>\n",
       "      <td>0.003396</td>\n",
       "    </tr>\n",
       "    <tr>\n",
       "      <th>3</th>\n",
       "      <td>977.405579</td>\n",
       "      <td>2</td>\n",
       "      <td>1.069406</td>\n",
       "      <td>36.704182</td>\n",
       "      <td>0.010305</td>\n",
       "      <td>0.086959</td>\n",
       "      <td>68.589371</td>\n",
       "      <td>0.751920</td>\n",
       "      <td>0.096787</td>\n",
       "      <td>0.006122</td>\n",
       "    </tr>\n",
       "    <tr>\n",
       "      <th>4</th>\n",
       "      <td>704.207764</td>\n",
       "      <td>1</td>\n",
       "      <td>0.838814</td>\n",
       "      <td>30.532864</td>\n",
       "      <td>0.986222</td>\n",
       "      <td>0.986777</td>\n",
       "      <td>44.535969</td>\n",
       "      <td>0.010805</td>\n",
       "      <td>0.189988</td>\n",
       "      <td>0.012700</td>\n",
       "    </tr>\n",
       "    <tr>\n",
       "      <th>...</th>\n",
       "      <td>...</td>\n",
       "      <td>...</td>\n",
       "      <td>...</td>\n",
       "      <td>...</td>\n",
       "      <td>...</td>\n",
       "      <td>...</td>\n",
       "      <td>...</td>\n",
       "      <td>...</td>\n",
       "      <td>...</td>\n",
       "      <td>...</td>\n",
       "    </tr>\n",
       "    <tr>\n",
       "      <th>1768823</th>\n",
       "      <td>266.083893</td>\n",
       "      <td>2</td>\n",
       "      <td>0.445583</td>\n",
       "      <td>14.320042</td>\n",
       "      <td>0.807782</td>\n",
       "      <td>0.997595</td>\n",
       "      <td>14.629135</td>\n",
       "      <td>0.951980</td>\n",
       "      <td>0.889236</td>\n",
       "      <td>0.009725</td>\n",
       "    </tr>\n",
       "    <tr>\n",
       "      <th>1768824</th>\n",
       "      <td>488.347321</td>\n",
       "      <td>2</td>\n",
       "      <td>0.836240</td>\n",
       "      <td>24.758856</td>\n",
       "      <td>0.998733</td>\n",
       "      <td>0.922524</td>\n",
       "      <td>22.241922</td>\n",
       "      <td>0.019798</td>\n",
       "      <td>0.997299</td>\n",
       "      <td>0.754902</td>\n",
       "    </tr>\n",
       "    <tr>\n",
       "      <th>1768825</th>\n",
       "      <td>588.891113</td>\n",
       "      <td>2</td>\n",
       "      <td>1.448876</td>\n",
       "      <td>30.616278</td>\n",
       "      <td>0.919558</td>\n",
       "      <td>0.074416</td>\n",
       "      <td>24.448633</td>\n",
       "      <td>0.003178</td>\n",
       "      <td>0.682961</td>\n",
       "      <td>0.003369</td>\n",
       "    </tr>\n",
       "    <tr>\n",
       "      <th>1768826</th>\n",
       "      <td>812.211426</td>\n",
       "      <td>3</td>\n",
       "      <td>0.716825</td>\n",
       "      <td>28.918648</td>\n",
       "      <td>0.784604</td>\n",
       "      <td>0.629851</td>\n",
       "      <td>20.607466</td>\n",
       "      <td>0.965310</td>\n",
       "      <td>0.999602</td>\n",
       "      <td>0.025040</td>\n",
       "    </tr>\n",
       "    <tr>\n",
       "      <th>1768827</th>\n",
       "      <td>640.478699</td>\n",
       "      <td>1</td>\n",
       "      <td>0.923350</td>\n",
       "      <td>28.708633</td>\n",
       "      <td>0.089425</td>\n",
       "      <td>0.959165</td>\n",
       "      <td>27.891092</td>\n",
       "      <td>0.185721</td>\n",
       "      <td>0.759465</td>\n",
       "      <td>0.999837</td>\n",
       "    </tr>\n",
       "  </tbody>\n",
       "</table>\n",
       "<p>1768217 rows × 10 columns</p>\n",
       "</div>"
      ],
      "text/plain": [
       "                 mbb  nbjets    dEtabb        mj1    btagj1  qglikelihoodj1  \\\n",
       "0         839.851990       2  0.903867  47.202030  0.007290        0.898416   \n",
       "1         593.326172       1  0.159204  51.766693  0.060591        0.550139   \n",
       "2        1125.043091       1  0.564897  52.646896  0.233416        0.836007   \n",
       "3         977.405579       2  1.069406  36.704182  0.010305        0.086959   \n",
       "4         704.207764       1  0.838814  30.532864  0.986222        0.986777   \n",
       "...              ...     ...       ...        ...       ...             ...   \n",
       "1768823   266.083893       2  0.445583  14.320042  0.807782        0.997595   \n",
       "1768824   488.347321       2  0.836240  24.758856  0.998733        0.922524   \n",
       "1768825   588.891113       2  1.448876  30.616278  0.919558        0.074416   \n",
       "1768826   812.211426       3  0.716825  28.918648  0.784604        0.629851   \n",
       "1768827   640.478699       1  0.923350  28.708633  0.089425        0.959165   \n",
       "\n",
       "               mj2    btagj2  qglikelihoodj2    btagj3  \n",
       "0        27.763237  0.004753        0.725501  0.896091  \n",
       "1        37.580788  0.855804        0.004402  0.011087  \n",
       "2        45.971062  0.986359        0.645028  0.003396  \n",
       "3        68.589371  0.751920        0.096787  0.006122  \n",
       "4        44.535969  0.010805        0.189988  0.012700  \n",
       "...            ...       ...             ...       ...  \n",
       "1768823  14.629135  0.951980        0.889236  0.009725  \n",
       "1768824  22.241922  0.019798        0.997299  0.754902  \n",
       "1768825  24.448633  0.003178        0.682961  0.003369  \n",
       "1768826  20.607466  0.965310        0.999602  0.025040  \n",
       "1768827  27.891092  0.185721        0.759465  0.999837  \n",
       "\n",
       "[1768217 rows x 10 columns]"
      ]
     },
     "execution_count": 12,
     "metadata": {},
     "output_type": "execute_result"
    }
   ],
   "source": [
    "#bg_df = awkward.to_pandas(bg_b)\n",
    "bg_df"
   ]
  },
  {
   "cell_type": "code",
   "execution_count": 13,
   "id": "c4787aac-0527-4bd7-ba6b-fe44cb6c56b5",
   "metadata": {},
   "outputs": [
    {
     "data": {
      "text/html": [
       "<div>\n",
       "<style scoped>\n",
       "    .dataframe tbody tr th:only-of-type {\n",
       "        vertical-align: middle;\n",
       "    }\n",
       "\n",
       "    .dataframe tbody tr th {\n",
       "        vertical-align: top;\n",
       "    }\n",
       "\n",
       "    .dataframe thead th {\n",
       "        text-align: right;\n",
       "    }\n",
       "</style>\n",
       "<table border=\"1\" class=\"dataframe\">\n",
       "  <thead>\n",
       "    <tr style=\"text-align: right;\">\n",
       "      <th></th>\n",
       "      <th>mbb</th>\n",
       "      <th>nbjets</th>\n",
       "      <th>dEtabb</th>\n",
       "      <th>mj1</th>\n",
       "      <th>btagj1</th>\n",
       "      <th>qglikelihoodj1</th>\n",
       "      <th>mj2</th>\n",
       "      <th>btagj2</th>\n",
       "      <th>qglikelihoodj2</th>\n",
       "      <th>btagj3</th>\n",
       "    </tr>\n",
       "  </thead>\n",
       "  <tbody>\n",
       "    <tr>\n",
       "      <th>count</th>\n",
       "      <td>1.768217e+06</td>\n",
       "      <td>1.768217e+06</td>\n",
       "      <td>1.768217e+06</td>\n",
       "      <td>1.768217e+06</td>\n",
       "      <td>1.768217e+06</td>\n",
       "      <td>1.768217e+06</td>\n",
       "      <td>1.768217e+06</td>\n",
       "      <td>1.768217e+06</td>\n",
       "      <td>1.768217e+06</td>\n",
       "      <td>1.768217e+06</td>\n",
       "    </tr>\n",
       "    <tr>\n",
       "      <th>mean</th>\n",
       "      <td>3.358000e+02</td>\n",
       "      <td>1.448951e+00</td>\n",
       "      <td>7.133053e-01</td>\n",
       "      <td>2.124046e+01</td>\n",
       "      <td>3.289628e-01</td>\n",
       "      <td>5.857061e-01</td>\n",
       "      <td>1.757776e+01</td>\n",
       "      <td>3.608654e-01</td>\n",
       "      <td>5.515730e-01</td>\n",
       "      <td>3.145530e-01</td>\n",
       "    </tr>\n",
       "    <tr>\n",
       "      <th>std</th>\n",
       "      <td>3.819782e+02</td>\n",
       "      <td>7.899845e-01</td>\n",
       "      <td>4.272108e-01</td>\n",
       "      <td>1.765180e+01</td>\n",
       "      <td>4.197182e-01</td>\n",
       "      <td>3.785409e-01</td>\n",
       "      <td>1.600367e+01</td>\n",
       "      <td>4.247367e-01</td>\n",
       "      <td>3.755212e-01</td>\n",
       "      <td>4.072812e-01</td>\n",
       "    </tr>\n",
       "    <tr>\n",
       "      <th>min</th>\n",
       "      <td>3.278471e+01</td>\n",
       "      <td>0.000000e+00</td>\n",
       "      <td>1.788139e-07</td>\n",
       "      <td>1.481127e+00</td>\n",
       "      <td>1.036276e-03</td>\n",
       "      <td>-1.000000e+00</td>\n",
       "      <td>1.147641e+00</td>\n",
       "      <td>9.504703e-04</td>\n",
       "      <td>-1.000000e+00</td>\n",
       "      <td>8.934142e-04</td>\n",
       "    </tr>\n",
       "    <tr>\n",
       "      <th>25%</th>\n",
       "      <td>1.371564e+02</td>\n",
       "      <td>1.000000e+00</td>\n",
       "      <td>3.427410e-01</td>\n",
       "      <td>1.159776e+01</td>\n",
       "      <td>7.088990e-03</td>\n",
       "      <td>1.822649e-01</td>\n",
       "      <td>9.311631e+00</td>\n",
       "      <td>8.220548e-03</td>\n",
       "      <td>1.600542e-01</td>\n",
       "      <td>8.504381e-03</td>\n",
       "    </tr>\n",
       "    <tr>\n",
       "      <th>50%</th>\n",
       "      <td>1.973220e+02</td>\n",
       "      <td>1.000000e+00</td>\n",
       "      <td>6.979246e-01</td>\n",
       "      <td>1.571634e+01</td>\n",
       "      <td>3.122515e-02</td>\n",
       "      <td>6.925443e-01</td>\n",
       "      <td>1.246269e+01</td>\n",
       "      <td>5.236202e-02</td>\n",
       "      <td>6.068768e-01</td>\n",
       "      <td>3.387724e-02</td>\n",
       "    </tr>\n",
       "    <tr>\n",
       "      <th>75%</th>\n",
       "      <td>3.830674e+02</td>\n",
       "      <td>2.000000e+00</td>\n",
       "      <td>1.073988e+00</td>\n",
       "      <td>2.407808e+01</td>\n",
       "      <td>8.647126e-01</td>\n",
       "      <td>9.653652e-01</td>\n",
       "      <td>1.942485e+01</td>\n",
       "      <td>9.084619e-01</td>\n",
       "      <td>9.394864e-01</td>\n",
       "      <td>7.806414e-01</td>\n",
       "    </tr>\n",
       "    <tr>\n",
       "      <th>max</th>\n",
       "      <td>7.253069e+03</td>\n",
       "      <td>8.000000e+00</td>\n",
       "      <td>1.499999e+00</td>\n",
       "      <td>4.159088e+02</td>\n",
       "      <td>9.999996e-01</td>\n",
       "      <td>1.000000e+00</td>\n",
       "      <td>4.038049e+02</td>\n",
       "      <td>9.999996e-01</td>\n",
       "      <td>1.000000e+00</td>\n",
       "      <td>9.999993e-01</td>\n",
       "    </tr>\n",
       "  </tbody>\n",
       "</table>\n",
       "</div>"
      ],
      "text/plain": [
       "                mbb        nbjets        dEtabb           mj1        btagj1  \\\n",
       "count  1.768217e+06  1.768217e+06  1.768217e+06  1.768217e+06  1.768217e+06   \n",
       "mean   3.358000e+02  1.448951e+00  7.133053e-01  2.124046e+01  3.289628e-01   \n",
       "std    3.819782e+02  7.899845e-01  4.272108e-01  1.765180e+01  4.197182e-01   \n",
       "min    3.278471e+01  0.000000e+00  1.788139e-07  1.481127e+00  1.036276e-03   \n",
       "25%    1.371564e+02  1.000000e+00  3.427410e-01  1.159776e+01  7.088990e-03   \n",
       "50%    1.973220e+02  1.000000e+00  6.979246e-01  1.571634e+01  3.122515e-02   \n",
       "75%    3.830674e+02  2.000000e+00  1.073988e+00  2.407808e+01  8.647126e-01   \n",
       "max    7.253069e+03  8.000000e+00  1.499999e+00  4.159088e+02  9.999996e-01   \n",
       "\n",
       "       qglikelihoodj1           mj2        btagj2  qglikelihoodj2  \\\n",
       "count    1.768217e+06  1.768217e+06  1.768217e+06    1.768217e+06   \n",
       "mean     5.857061e-01  1.757776e+01  3.608654e-01    5.515730e-01   \n",
       "std      3.785409e-01  1.600367e+01  4.247367e-01    3.755212e-01   \n",
       "min     -1.000000e+00  1.147641e+00  9.504703e-04   -1.000000e+00   \n",
       "25%      1.822649e-01  9.311631e+00  8.220548e-03    1.600542e-01   \n",
       "50%      6.925443e-01  1.246269e+01  5.236202e-02    6.068768e-01   \n",
       "75%      9.653652e-01  1.942485e+01  9.084619e-01    9.394864e-01   \n",
       "max      1.000000e+00  4.038049e+02  9.999996e-01    1.000000e+00   \n",
       "\n",
       "             btagj3  \n",
       "count  1.768217e+06  \n",
       "mean   3.145530e-01  \n",
       "std    4.072812e-01  \n",
       "min    8.934142e-04  \n",
       "25%    8.504381e-03  \n",
       "50%    3.387724e-02  \n",
       "75%    7.806414e-01  \n",
       "max    9.999993e-01  "
      ]
     },
     "execution_count": 13,
     "metadata": {},
     "output_type": "execute_result"
    }
   ],
   "source": [
    "bg_df.describe()"
   ]
  },
  {
   "cell_type": "code",
   "execution_count": 14,
   "id": "d7370513-46c4-4e98-a4a2-2f31fea26bc7",
   "metadata": {},
   "outputs": [
    {
     "data": {
      "text/html": [
       "<div>\n",
       "<style scoped>\n",
       "    .dataframe tbody tr th:only-of-type {\n",
       "        vertical-align: middle;\n",
       "    }\n",
       "\n",
       "    .dataframe tbody tr th {\n",
       "        vertical-align: top;\n",
       "    }\n",
       "\n",
       "    .dataframe thead th {\n",
       "        text-align: right;\n",
       "    }\n",
       "</style>\n",
       "<table border=\"1\" class=\"dataframe\">\n",
       "  <thead>\n",
       "    <tr style=\"text-align: right;\">\n",
       "      <th></th>\n",
       "      <th>mbb</th>\n",
       "      <th>nbjets</th>\n",
       "      <th>dEtabb</th>\n",
       "      <th>mj1</th>\n",
       "      <th>btagj1</th>\n",
       "      <th>qglikelihoodj1</th>\n",
       "      <th>mj2</th>\n",
       "      <th>btagj2</th>\n",
       "      <th>qglikelihoodj2</th>\n",
       "      <th>btagj3</th>\n",
       "      <th>label</th>\n",
       "    </tr>\n",
       "  </thead>\n",
       "  <tbody>\n",
       "    <tr>\n",
       "      <th>0</th>\n",
       "      <td>839.851990</td>\n",
       "      <td>2</td>\n",
       "      <td>0.903867</td>\n",
       "      <td>47.202030</td>\n",
       "      <td>0.007290</td>\n",
       "      <td>0.898416</td>\n",
       "      <td>27.763237</td>\n",
       "      <td>0.004753</td>\n",
       "      <td>0.725501</td>\n",
       "      <td>0.896091</td>\n",
       "      <td>0.0</td>\n",
       "    </tr>\n",
       "    <tr>\n",
       "      <th>1</th>\n",
       "      <td>593.326172</td>\n",
       "      <td>1</td>\n",
       "      <td>0.159204</td>\n",
       "      <td>51.766693</td>\n",
       "      <td>0.060591</td>\n",
       "      <td>0.550139</td>\n",
       "      <td>37.580788</td>\n",
       "      <td>0.855804</td>\n",
       "      <td>0.004402</td>\n",
       "      <td>0.011087</td>\n",
       "      <td>0.0</td>\n",
       "    </tr>\n",
       "    <tr>\n",
       "      <th>2</th>\n",
       "      <td>1125.043091</td>\n",
       "      <td>1</td>\n",
       "      <td>0.564897</td>\n",
       "      <td>52.646896</td>\n",
       "      <td>0.233416</td>\n",
       "      <td>0.836007</td>\n",
       "      <td>45.971062</td>\n",
       "      <td>0.986359</td>\n",
       "      <td>0.645028</td>\n",
       "      <td>0.003396</td>\n",
       "      <td>0.0</td>\n",
       "    </tr>\n",
       "    <tr>\n",
       "      <th>3</th>\n",
       "      <td>977.405579</td>\n",
       "      <td>2</td>\n",
       "      <td>1.069406</td>\n",
       "      <td>36.704182</td>\n",
       "      <td>0.010305</td>\n",
       "      <td>0.086959</td>\n",
       "      <td>68.589371</td>\n",
       "      <td>0.751920</td>\n",
       "      <td>0.096787</td>\n",
       "      <td>0.006122</td>\n",
       "      <td>0.0</td>\n",
       "    </tr>\n",
       "    <tr>\n",
       "      <th>4</th>\n",
       "      <td>704.207764</td>\n",
       "      <td>1</td>\n",
       "      <td>0.838814</td>\n",
       "      <td>30.532864</td>\n",
       "      <td>0.986222</td>\n",
       "      <td>0.986777</td>\n",
       "      <td>44.535969</td>\n",
       "      <td>0.010805</td>\n",
       "      <td>0.189988</td>\n",
       "      <td>0.012700</td>\n",
       "      <td>0.0</td>\n",
       "    </tr>\n",
       "    <tr>\n",
       "      <th>...</th>\n",
       "      <td>...</td>\n",
       "      <td>...</td>\n",
       "      <td>...</td>\n",
       "      <td>...</td>\n",
       "      <td>...</td>\n",
       "      <td>...</td>\n",
       "      <td>...</td>\n",
       "      <td>...</td>\n",
       "      <td>...</td>\n",
       "      <td>...</td>\n",
       "      <td>...</td>\n",
       "    </tr>\n",
       "    <tr>\n",
       "      <th>1768823</th>\n",
       "      <td>266.083893</td>\n",
       "      <td>2</td>\n",
       "      <td>0.445583</td>\n",
       "      <td>14.320042</td>\n",
       "      <td>0.807782</td>\n",
       "      <td>0.997595</td>\n",
       "      <td>14.629135</td>\n",
       "      <td>0.951980</td>\n",
       "      <td>0.889236</td>\n",
       "      <td>0.009725</td>\n",
       "      <td>0.0</td>\n",
       "    </tr>\n",
       "    <tr>\n",
       "      <th>1768824</th>\n",
       "      <td>488.347321</td>\n",
       "      <td>2</td>\n",
       "      <td>0.836240</td>\n",
       "      <td>24.758856</td>\n",
       "      <td>0.998733</td>\n",
       "      <td>0.922524</td>\n",
       "      <td>22.241922</td>\n",
       "      <td>0.019798</td>\n",
       "      <td>0.997299</td>\n",
       "      <td>0.754902</td>\n",
       "      <td>0.0</td>\n",
       "    </tr>\n",
       "    <tr>\n",
       "      <th>1768825</th>\n",
       "      <td>588.891113</td>\n",
       "      <td>2</td>\n",
       "      <td>1.448876</td>\n",
       "      <td>30.616278</td>\n",
       "      <td>0.919558</td>\n",
       "      <td>0.074416</td>\n",
       "      <td>24.448633</td>\n",
       "      <td>0.003178</td>\n",
       "      <td>0.682961</td>\n",
       "      <td>0.003369</td>\n",
       "      <td>0.0</td>\n",
       "    </tr>\n",
       "    <tr>\n",
       "      <th>1768826</th>\n",
       "      <td>812.211426</td>\n",
       "      <td>3</td>\n",
       "      <td>0.716825</td>\n",
       "      <td>28.918648</td>\n",
       "      <td>0.784604</td>\n",
       "      <td>0.629851</td>\n",
       "      <td>20.607466</td>\n",
       "      <td>0.965310</td>\n",
       "      <td>0.999602</td>\n",
       "      <td>0.025040</td>\n",
       "      <td>0.0</td>\n",
       "    </tr>\n",
       "    <tr>\n",
       "      <th>1768827</th>\n",
       "      <td>640.478699</td>\n",
       "      <td>1</td>\n",
       "      <td>0.923350</td>\n",
       "      <td>28.708633</td>\n",
       "      <td>0.089425</td>\n",
       "      <td>0.959165</td>\n",
       "      <td>27.891092</td>\n",
       "      <td>0.185721</td>\n",
       "      <td>0.759465</td>\n",
       "      <td>0.999837</td>\n",
       "      <td>0.0</td>\n",
       "    </tr>\n",
       "  </tbody>\n",
       "</table>\n",
       "<p>1768217 rows × 11 columns</p>\n",
       "</div>"
      ],
      "text/plain": [
       "                 mbb  nbjets    dEtabb        mj1    btagj1  qglikelihoodj1  \\\n",
       "0         839.851990       2  0.903867  47.202030  0.007290        0.898416   \n",
       "1         593.326172       1  0.159204  51.766693  0.060591        0.550139   \n",
       "2        1125.043091       1  0.564897  52.646896  0.233416        0.836007   \n",
       "3         977.405579       2  1.069406  36.704182  0.010305        0.086959   \n",
       "4         704.207764       1  0.838814  30.532864  0.986222        0.986777   \n",
       "...              ...     ...       ...        ...       ...             ...   \n",
       "1768823   266.083893       2  0.445583  14.320042  0.807782        0.997595   \n",
       "1768824   488.347321       2  0.836240  24.758856  0.998733        0.922524   \n",
       "1768825   588.891113       2  1.448876  30.616278  0.919558        0.074416   \n",
       "1768826   812.211426       3  0.716825  28.918648  0.784604        0.629851   \n",
       "1768827   640.478699       1  0.923350  28.708633  0.089425        0.959165   \n",
       "\n",
       "               mj2    btagj2  qglikelihoodj2    btagj3  label  \n",
       "0        27.763237  0.004753        0.725501  0.896091    0.0  \n",
       "1        37.580788  0.855804        0.004402  0.011087    0.0  \n",
       "2        45.971062  0.986359        0.645028  0.003396    0.0  \n",
       "3        68.589371  0.751920        0.096787  0.006122    0.0  \n",
       "4        44.535969  0.010805        0.189988  0.012700    0.0  \n",
       "...            ...       ...             ...       ...    ...  \n",
       "1768823  14.629135  0.951980        0.889236  0.009725    0.0  \n",
       "1768824  22.241922  0.019798        0.997299  0.754902    0.0  \n",
       "1768825  24.448633  0.003178        0.682961  0.003369    0.0  \n",
       "1768826  20.607466  0.965310        0.999602  0.025040    0.0  \n",
       "1768827  27.891092  0.185721        0.759465  0.999837    0.0  \n",
       "\n",
       "[1768217 rows x 11 columns]"
      ]
     },
     "execution_count": 14,
     "metadata": {},
     "output_type": "execute_result"
    }
   ],
   "source": [
    "bg_df['label'] = np.zeros(len(bg_df))\n",
    "bg_df"
   ]
  },
  {
   "cell_type": "code",
   "execution_count": 15,
   "id": "e274603a-8953-468d-a3b5-8ce57afaf5af",
   "metadata": {},
   "outputs": [
    {
     "data": {
      "text/html": [
       "<div>\n",
       "<style scoped>\n",
       "    .dataframe tbody tr th:only-of-type {\n",
       "        vertical-align: middle;\n",
       "    }\n",
       "\n",
       "    .dataframe tbody tr th {\n",
       "        vertical-align: top;\n",
       "    }\n",
       "\n",
       "    .dataframe thead th {\n",
       "        text-align: right;\n",
       "    }\n",
       "</style>\n",
       "<table border=\"1\" class=\"dataframe\">\n",
       "  <thead>\n",
       "    <tr style=\"text-align: right;\">\n",
       "      <th></th>\n",
       "      <th>mbb</th>\n",
       "      <th>nbjets</th>\n",
       "      <th>dEtabb</th>\n",
       "      <th>mj1</th>\n",
       "      <th>btagj1</th>\n",
       "      <th>qglikelihoodj1</th>\n",
       "      <th>mj2</th>\n",
       "      <th>btagj2</th>\n",
       "      <th>qglikelihoodj2</th>\n",
       "      <th>btagj3</th>\n",
       "      <th>label</th>\n",
       "    </tr>\n",
       "  </thead>\n",
       "  <tbody>\n",
       "    <tr>\n",
       "      <th>0</th>\n",
       "      <td>247.502716</td>\n",
       "      <td>3</td>\n",
       "      <td>0.481564</td>\n",
       "      <td>15.517390</td>\n",
       "      <td>0.887491</td>\n",
       "      <td>0.999479</td>\n",
       "      <td>16.113611</td>\n",
       "      <td>0.939928</td>\n",
       "      <td>0.703348</td>\n",
       "      <td>0.915599</td>\n",
       "      <td>1.0</td>\n",
       "    </tr>\n",
       "    <tr>\n",
       "      <th>1</th>\n",
       "      <td>149.893295</td>\n",
       "      <td>3</td>\n",
       "      <td>0.161677</td>\n",
       "      <td>9.632886</td>\n",
       "      <td>0.999974</td>\n",
       "      <td>0.069399</td>\n",
       "      <td>15.820998</td>\n",
       "      <td>0.006925</td>\n",
       "      <td>0.007535</td>\n",
       "      <td>0.995224</td>\n",
       "      <td>1.0</td>\n",
       "    </tr>\n",
       "    <tr>\n",
       "      <th>2</th>\n",
       "      <td>315.735199</td>\n",
       "      <td>2</td>\n",
       "      <td>0.358081</td>\n",
       "      <td>25.032156</td>\n",
       "      <td>0.157399</td>\n",
       "      <td>0.903754</td>\n",
       "      <td>20.700012</td>\n",
       "      <td>0.010202</td>\n",
       "      <td>0.014573</td>\n",
       "      <td>0.997033</td>\n",
       "      <td>1.0</td>\n",
       "    </tr>\n",
       "    <tr>\n",
       "      <th>3</th>\n",
       "      <td>286.116486</td>\n",
       "      <td>5</td>\n",
       "      <td>0.315241</td>\n",
       "      <td>14.416768</td>\n",
       "      <td>0.999981</td>\n",
       "      <td>0.947396</td>\n",
       "      <td>28.254524</td>\n",
       "      <td>0.932847</td>\n",
       "      <td>0.025025</td>\n",
       "      <td>0.800665</td>\n",
       "      <td>1.0</td>\n",
       "    </tr>\n",
       "    <tr>\n",
       "      <th>4</th>\n",
       "      <td>233.878204</td>\n",
       "      <td>4</td>\n",
       "      <td>0.288374</td>\n",
       "      <td>19.564425</td>\n",
       "      <td>0.549932</td>\n",
       "      <td>0.012586</td>\n",
       "      <td>15.799347</td>\n",
       "      <td>0.922862</td>\n",
       "      <td>0.009288</td>\n",
       "      <td>0.758133</td>\n",
       "      <td>1.0</td>\n",
       "    </tr>\n",
       "    <tr>\n",
       "      <th>...</th>\n",
       "      <td>...</td>\n",
       "      <td>...</td>\n",
       "      <td>...</td>\n",
       "      <td>...</td>\n",
       "      <td>...</td>\n",
       "      <td>...</td>\n",
       "      <td>...</td>\n",
       "      <td>...</td>\n",
       "      <td>...</td>\n",
       "      <td>...</td>\n",
       "      <td>...</td>\n",
       "    </tr>\n",
       "    <tr>\n",
       "      <th>2979817</th>\n",
       "      <td>266.083893</td>\n",
       "      <td>2</td>\n",
       "      <td>0.445583</td>\n",
       "      <td>14.320042</td>\n",
       "      <td>0.807782</td>\n",
       "      <td>0.997595</td>\n",
       "      <td>14.629135</td>\n",
       "      <td>0.951980</td>\n",
       "      <td>0.889236</td>\n",
       "      <td>0.009725</td>\n",
       "      <td>0.0</td>\n",
       "    </tr>\n",
       "    <tr>\n",
       "      <th>2979818</th>\n",
       "      <td>488.347321</td>\n",
       "      <td>2</td>\n",
       "      <td>0.836240</td>\n",
       "      <td>24.758856</td>\n",
       "      <td>0.998733</td>\n",
       "      <td>0.922524</td>\n",
       "      <td>22.241922</td>\n",
       "      <td>0.019798</td>\n",
       "      <td>0.997299</td>\n",
       "      <td>0.754902</td>\n",
       "      <td>0.0</td>\n",
       "    </tr>\n",
       "    <tr>\n",
       "      <th>2979819</th>\n",
       "      <td>588.891113</td>\n",
       "      <td>2</td>\n",
       "      <td>1.448876</td>\n",
       "      <td>30.616278</td>\n",
       "      <td>0.919558</td>\n",
       "      <td>0.074416</td>\n",
       "      <td>24.448633</td>\n",
       "      <td>0.003178</td>\n",
       "      <td>0.682961</td>\n",
       "      <td>0.003369</td>\n",
       "      <td>0.0</td>\n",
       "    </tr>\n",
       "    <tr>\n",
       "      <th>2979820</th>\n",
       "      <td>812.211426</td>\n",
       "      <td>3</td>\n",
       "      <td>0.716825</td>\n",
       "      <td>28.918648</td>\n",
       "      <td>0.784604</td>\n",
       "      <td>0.629851</td>\n",
       "      <td>20.607466</td>\n",
       "      <td>0.965310</td>\n",
       "      <td>0.999602</td>\n",
       "      <td>0.025040</td>\n",
       "      <td>0.0</td>\n",
       "    </tr>\n",
       "    <tr>\n",
       "      <th>2979821</th>\n",
       "      <td>640.478699</td>\n",
       "      <td>1</td>\n",
       "      <td>0.923350</td>\n",
       "      <td>28.708633</td>\n",
       "      <td>0.089425</td>\n",
       "      <td>0.959165</td>\n",
       "      <td>27.891092</td>\n",
       "      <td>0.185721</td>\n",
       "      <td>0.759465</td>\n",
       "      <td>0.999837</td>\n",
       "      <td>0.0</td>\n",
       "    </tr>\n",
       "  </tbody>\n",
       "</table>\n",
       "<p>2979822 rows × 11 columns</p>\n",
       "</div>"
      ],
      "text/plain": [
       "                mbb  nbjets    dEtabb        mj1    btagj1  qglikelihoodj1  \\\n",
       "0        247.502716       3  0.481564  15.517390  0.887491        0.999479   \n",
       "1        149.893295       3  0.161677   9.632886  0.999974        0.069399   \n",
       "2        315.735199       2  0.358081  25.032156  0.157399        0.903754   \n",
       "3        286.116486       5  0.315241  14.416768  0.999981        0.947396   \n",
       "4        233.878204       4  0.288374  19.564425  0.549932        0.012586   \n",
       "...             ...     ...       ...        ...       ...             ...   \n",
       "2979817  266.083893       2  0.445583  14.320042  0.807782        0.997595   \n",
       "2979818  488.347321       2  0.836240  24.758856  0.998733        0.922524   \n",
       "2979819  588.891113       2  1.448876  30.616278  0.919558        0.074416   \n",
       "2979820  812.211426       3  0.716825  28.918648  0.784604        0.629851   \n",
       "2979821  640.478699       1  0.923350  28.708633  0.089425        0.959165   \n",
       "\n",
       "               mj2    btagj2  qglikelihoodj2    btagj3  label  \n",
       "0        16.113611  0.939928        0.703348  0.915599    1.0  \n",
       "1        15.820998  0.006925        0.007535  0.995224    1.0  \n",
       "2        20.700012  0.010202        0.014573  0.997033    1.0  \n",
       "3        28.254524  0.932847        0.025025  0.800665    1.0  \n",
       "4        15.799347  0.922862        0.009288  0.758133    1.0  \n",
       "...            ...       ...             ...       ...    ...  \n",
       "2979817  14.629135  0.951980        0.889236  0.009725    0.0  \n",
       "2979818  22.241922  0.019798        0.997299  0.754902    0.0  \n",
       "2979819  24.448633  0.003178        0.682961  0.003369    0.0  \n",
       "2979820  20.607466  0.965310        0.999602  0.025040    0.0  \n",
       "2979821  27.891092  0.185721        0.759465  0.999837    0.0  \n",
       "\n",
       "[2979822 rows x 11 columns]"
      ]
     },
     "execution_count": 15,
     "metadata": {},
     "output_type": "execute_result"
    }
   ],
   "source": [
    "dataset_df = pd.concat([signal_df,bg_df], ignore_index=True)\n",
    "dataset_df"
   ]
  },
  {
   "cell_type": "code",
   "execution_count": 16,
   "id": "9794a694-1edb-4ad3-ae14-eb54b4911305",
   "metadata": {},
   "outputs": [
    {
     "data": {
      "text/plain": [
       "0.0    1768217\n",
       "1.0    1211605\n",
       "Name: label, dtype: int64"
      ]
     },
     "execution_count": 16,
     "metadata": {},
     "output_type": "execute_result"
    }
   ],
   "source": [
    "dataset_df['label'].value_counts()"
   ]
  },
  {
   "cell_type": "code",
   "execution_count": null,
   "id": "74af2aa1-9f1c-458d-b1ad-398bb6989083",
   "metadata": {},
   "outputs": [],
   "source": []
  },
  {
   "cell_type": "markdown",
   "id": "b0f35f92-ada8-4f44-87fa-8df8d127c845",
   "metadata": {},
   "source": [
    "# Data Preprocessing"
   ]
  },
  {
   "cell_type": "markdown",
   "id": "134a7305-cef7-4f4a-8b4b-039d0b057471",
   "metadata": {},
   "source": [
    "**I don't really think we should be using standard scaler, since BDT does not use gradients.**"
   ]
  },
  {
   "cell_type": "code",
   "execution_count": 17,
   "id": "eb9f4dfa-3cb4-4ed3-8d26-5b9ef20feeda",
   "metadata": {},
   "outputs": [],
   "source": [
    "from sklearn.preprocessing import StandardScaler"
   ]
  },
  {
   "cell_type": "code",
   "execution_count": 18,
   "id": "717749cc-6891-4736-af05-d6af50769fa2",
   "metadata": {},
   "outputs": [],
   "source": [
    "scaler = StandardScaler()\n",
    "data_for_scaling = dataset_df[input_columns]\n",
    "dataset_st_np = scaler.fit_transform(data_for_scaling)\n",
    "dataset_st_df = pd.DataFrame(dataset_st_np, columns = input_columns)"
   ]
  },
  {
   "cell_type": "code",
   "execution_count": 19,
   "id": "e2fa22ce-a644-42be-914c-9b180d439c12",
   "metadata": {},
   "outputs": [],
   "source": [
    "dataset_st_df['label'] = dataset_df['label']"
   ]
  },
  {
   "cell_type": "markdown",
   "id": "9acff486-7033-4cc7-8f5a-8ec52714a7be",
   "metadata": {},
   "source": [
    "**We already moved this to the beginning of this notebook.**"
   ]
  },
  {
   "cell_type": "code",
   "execution_count": 20,
   "id": "7f26a780-4a08-43e6-81a6-da1c9151ee21",
   "metadata": {},
   "outputs": [],
   "source": [
    "input_columns = ['mbb','nbjets','dEtabb','mj1','btagj1','qglikelihoodj1','mj2','btagj2','qglikelihoodj2','btagj3']"
   ]
  },
  {
   "cell_type": "code",
   "execution_count": 21,
   "id": "905be687-0efc-40a5-9bab-e247c8ffbe00",
   "metadata": {},
   "outputs": [],
   "source": [
    "from sklearn.model_selection import train_test_split"
   ]
  },
  {
   "cell_type": "code",
   "execution_count": 22,
   "id": "8d00db02-c868-4d2d-a306-ea18c1d876ef",
   "metadata": {},
   "outputs": [],
   "source": [
    "train_df, test_df = train_test_split(dataset_st_df, test_size=0.3, random_state=42, stratify=dataset_st_df['label'].to_numpy())"
   ]
  },
  {
   "cell_type": "code",
   "execution_count": 23,
   "id": "be046c30-8228-4cdc-808b-140c8283944e",
   "metadata": {},
   "outputs": [],
   "source": [
    "X_test = test_df[input_columns]\n",
    "y_test = test_df['label']"
   ]
  },
  {
   "cell_type": "code",
   "execution_count": 24,
   "id": "8d69ffe2-efda-442b-b558-1d1c906e9b4a",
   "metadata": {},
   "outputs": [
    {
     "data": {
      "text/plain": [
       "0.0    1237752\n",
       "1.0     848123\n",
       "Name: label, dtype: int64"
      ]
     },
     "execution_count": 24,
     "metadata": {},
     "output_type": "execute_result"
    }
   ],
   "source": [
    "train_df['label'].value_counts()"
   ]
  },
  {
   "cell_type": "code",
   "execution_count": 25,
   "id": "792adb7d-d74f-4911-8086-f9acc7c74075",
   "metadata": {},
   "outputs": [],
   "source": [
    "class_1, class_0 = train_df.label.value_counts()\n",
    "c1 = train_df[train_df['label']==1]\n",
    "c0 = train_df[train_df['label']==0]\n",
    "c1_sam = c1.sample(class_0)\n",
    "undersampled_train = pd.concat([c0,c1_sam], axis=0)\n",
    "X_train = undersampled_train[input_columns]\n",
    "y_train = undersampled_train['label']"
   ]
  },
  {
   "cell_type": "markdown",
   "id": "35651479-6733-44dd-bfc3-336c66b92c91",
   "metadata": {},
   "source": [
    "### Creating Decision Tree"
   ]
  },
  {
   "cell_type": "code",
   "execution_count": 26,
   "id": "e4768546-be92-4979-9c68-d52a32292db6",
   "metadata": {},
   "outputs": [],
   "source": [
    "#Importing Stuff\n",
    "from sklearn.tree import DecisionTreeClassifier\n",
    "from sklearn import metrics\n",
    "from sklearn.metrics import accuracy_score, roc_auc_score\n",
    "from sklearn.metrics import mean_squared_error as MSE\n",
    "from sklearn.datasets import load_iris\n",
    "from sklearn import tree"
   ]
  },
  {
   "cell_type": "code",
   "execution_count": 27,
   "id": "683a178a-fff2-45e1-8e39-d4d88d96c3b0",
   "metadata": {},
   "outputs": [],
   "source": [
    "SEED = 1"
   ]
  },
  {
   "cell_type": "code",
   "execution_count": 28,
   "id": "45fed3de-d1b3-46c3-98aa-e07285a8d2c7",
   "metadata": {},
   "outputs": [],
   "source": [
    "X_train_clf, X_test_clf, y_train_clf, y_test_clf = train_test_split(X_train, y_train, test_size=0.3,\n",
    "                                                   stratify=y_train, random_state=SEED)"
   ]
  },
  {
   "cell_type": "code",
   "execution_count": 29,
   "id": "31528423-dee0-460d-83b6-72d769c51197",
   "metadata": {},
   "outputs": [],
   "source": [
    "clf = DecisionTreeClassifier()"
   ]
  },
  {
   "cell_type": "code",
   "execution_count": 30,
   "id": "0f0451b6-166f-4f2d-99de-388e9df5494f",
   "metadata": {},
   "outputs": [],
   "source": [
    "clf = clf.fit(X_train_clf, y_train_clf)"
   ]
  },
  {
   "cell_type": "code",
   "execution_count": 31,
   "id": "103194ff-189d-49a6-8eb6-d833e4e9d08c",
   "metadata": {},
   "outputs": [],
   "source": [
    "y_pred_clf = clf.predict(X_test_clf)"
   ]
  },
  {
   "cell_type": "code",
   "execution_count": 32,
   "id": "92a8427b-16ca-461f-85a1-b760c16ccc35",
   "metadata": {},
   "outputs": [
    {
     "data": {
      "text/plain": [
       "array([0., 0., 1., ..., 0., 1., 0.])"
      ]
     },
     "execution_count": 32,
     "metadata": {},
     "output_type": "execute_result"
    }
   ],
   "source": [
    "y_pred_clf"
   ]
  },
  {
   "cell_type": "markdown",
   "id": "c2830e1f-186c-419f-9299-2f392041c856",
   "metadata": {},
   "source": [
    "#### Accuracy"
   ]
  },
  {
   "cell_type": "code",
   "execution_count": 33,
   "id": "bf77843b-584d-4d32-87ff-c8033d78d35e",
   "metadata": {},
   "outputs": [
    {
     "name": "stdout",
     "output_type": "stream",
     "text": [
      "Accuracy: 0.8011563483299587\n"
     ]
    }
   ],
   "source": [
    "print(\"Accuracy:\",metrics.accuracy_score(y_test_clf, y_pred_clf))"
   ]
  },
  {
   "cell_type": "code",
   "execution_count": 34,
   "id": "6794bbda-f0eb-4e11-944c-091e26474858",
   "metadata": {},
   "outputs": [],
   "source": [
    "roc_auc_score_clf = roc_auc_score(y_test_clf, y_pred_clf)"
   ]
  },
  {
   "cell_type": "code",
   "execution_count": 35,
   "id": "d427cbd3-fa92-456e-ac6c-1ce9ad58d799",
   "metadata": {},
   "outputs": [
    {
     "name": "stdout",
     "output_type": "stream",
     "text": [
      "ROC AUC Score: 0.79451272600796063461\n"
     ]
    }
   ],
   "source": [
    "print('ROC AUC Score: {:.20f}'.format(roc_auc_score_clf))"
   ]
  },
  {
   "cell_type": "code",
   "execution_count": null,
   "id": "2a510e2f-9073-42b2-b75a-cf500fe281e4",
   "metadata": {},
   "outputs": [
    {
     "data": {
      "text/plain": [
       "<module 'matplotlib.pyplot' from '/usr/local/lib/python3.8/dist-packages/matplotlib/pyplot.py'>"
      ]
     },
     "execution_count": 36,
     "metadata": {},
     "output_type": "execute_result"
    }
   ],
   "source": [
    "import matplotlib.pyplot as plt\n",
    "from importlib import reload\n",
    "reload(plt)"
   ]
  },
  {
   "cell_type": "markdown",
   "id": "d9895636-9b68-44e9-b682-c6a766dcd726",
   "metadata": {},
   "source": [
    "**To avoid deprecation of `plot_roc_curve`, we can use `roc_curve` function like this instead.**\n",
    "\n",
    "**Deprecation means a function is removed in a new version of a library.**"
   ]
  },
  {
   "cell_type": "code",
   "execution_count": 43,
   "id": "e3e34bfb-419c-4d5c-8f19-633ed49202dc",
   "metadata": {},
   "outputs": [
    {
     "data": {
      "image/png": "[encoded data removed]",
      "text/plain": [
       "<Figure size 432x288 with 1 Axes>"
      ]
     },
     "metadata": {
      "needs_background": "light"
     },
     "output_type": "display_data"
    }
   ],
   "source": [
    "fpr, tpr, _ = metrics.roc_curve(y_test_clf, clf.predict(X_test_clf))\n",
    "plt.plot(fpr, tpr)\n",
    "plt.title(\"Boosted Decision Tree ROC Curve\")\n",
    "plt.xlabel(\"False Positive Rate\")\n",
    "plt.ylabel(\"True Positive Rate\")\n",
    "plt.grid(True)"
   ]
  },
  {
   "cell_type": "markdown",
   "id": "fc58fbb0-1837-4924-93bc-f2d74398b86b",
   "metadata": {},
   "source": [
    "### CLF Tuning"
   ]
  },
  {
   "cell_type": "code",
   "execution_count": 44,
   "id": "2d3d87bf-f694-4156-a96f-d14a7cc6a32d",
   "metadata": {},
   "outputs": [],
   "source": [
    "from sklearn.pipeline import Pipeline\n",
    "from sklearn.model_selection import GridSearchCV"
   ]
  },
  {
   "cell_type": "code",
   "execution_count": 45,
   "id": "d7a8c502-264b-41d3-8b21-f6d148cc08d9",
   "metadata": {},
   "outputs": [],
   "source": [
    "pipe = Pipeline(steps=[('clf', clf)])"
   ]
  },
  {
   "cell_type": "code",
   "execution_count": 46,
   "id": "77d1eb9a-d8e7-4914-9aaa-d6382f1912dc",
   "metadata": {},
   "outputs": [],
   "source": [
    "n_components = list(range(1,X_train_clf.shape[1]+1,1))"
   ]
  },
  {
   "cell_type": "code",
   "execution_count": 47,
   "id": "1c898510-e0e8-4c66-a855-49d34db82302",
   "metadata": {},
   "outputs": [],
   "source": [
    "criterion = ['gini', 'entropy']\n",
    "max_depth = [2, 4, 6, 8, 10, 12]"
   ]
  },
  {
   "cell_type": "code",
   "execution_count": 48,
   "id": "ada613fa-b182-4852-a334-96ad32a0cc27",
   "metadata": {},
   "outputs": [
    {
     "ename": "NameError",
     "evalue": "name 'parameters' is not defined",
     "output_type": "error",
     "traceback": [
      "\u001b[0;31m---------------------------------------------------------------------------\u001b[0m",
      "\u001b[0;31mNameError\u001b[0m                                 Traceback (most recent call last)",
      "Input \u001b[0;32mIn [48]\u001b[0m, in \u001b[0;36m<cell line: 1>\u001b[0;34m()\u001b[0m\n\u001b[0;32m----> 1\u001b[0m clf_GS \u001b[38;5;241m=\u001b[39m GridSearchCV(pipe, parameters)\n\u001b[1;32m      2\u001b[0m clf_GS\u001b[38;5;241m.\u001b[39mfit(X_train_clf, y_train_clf)\n",
      "\u001b[0;31mNameError\u001b[0m: name 'parameters' is not defined"
     ]
    }
   ],
   "source": [
    "clf_GS = GridSearchCV(pipe, parameters)\n",
    "clf_GS.fit(X_train_clf, y_train_clf)"
   ]
  },
  {
   "cell_type": "code",
   "execution_count": 49,
   "id": "ff139ac2-d676-4261-863f-3faddcb75f7a",
   "metadata": {},
   "outputs": [
    {
     "ename": "NameError",
     "evalue": "name 'clf_GS' is not defined",
     "output_type": "error",
     "traceback": [
      "\u001b[0;31m---------------------------------------------------------------------------\u001b[0m",
      "\u001b[0;31mNameError\u001b[0m                                 Traceback (most recent call last)",
      "Input \u001b[0;32mIn [49]\u001b[0m, in \u001b[0;36m<cell line: 1>\u001b[0;34m()\u001b[0m\n\u001b[0;32m----> 1\u001b[0m \u001b[38;5;28mprint\u001b[39m(\u001b[38;5;124m'\u001b[39m\u001b[38;5;124mBest Criterion:\u001b[39m\u001b[38;5;124m'\u001b[39m, clf_GS\u001b[38;5;241m.\u001b[39mbest_estimator\u001b[38;5;241m.\u001b[39mget_params([\u001b[38;5;124m'\u001b[39m\u001b[38;5;124mdec_tree__criterion\u001b[39m\u001b[38;5;124m'\u001b[39m]))\n",
      "\u001b[0;31mNameError\u001b[0m: name 'clf_GS' is not defined"
     ]
    }
   ],
   "source": [
    "print('Best Criterion:', clf_GS.best_estimator.get_params(['dec_tree__criterion']))\n"
   ]
  },
  {
   "cell_type": "markdown",
   "id": "06c5c93d-78cd-4c7d-a54b-a2018d0aad08",
   "metadata": {},
   "source": [
    "### Creating Random Forest Classification"
   ]
  },
  {
   "cell_type": "code",
   "execution_count": 50,
   "id": "3ba3f198-bc19-4d19-8c3e-fdd1ba572e47",
   "metadata": {},
   "outputs": [],
   "source": [
    "from sklearn.ensemble import RandomForestClassifier"
   ]
  },
  {
   "cell_type": "code",
   "execution_count": 51,
   "id": "c0d1c1f9-82d2-473f-846d-8bb1fa0552d4",
   "metadata": {},
   "outputs": [],
   "source": [
    "SEED = 1"
   ]
  },
  {
   "cell_type": "code",
   "execution_count": 52,
   "id": "0ba8f8db-656d-4dd5-9360-19c130a16cc0",
   "metadata": {},
   "outputs": [],
   "source": [
    "X_train_rf, X_test_rf, y_train_rf, y_test_rf = train_test_split(X_train, y_train, test_size=0.3, stratify=y_train, random_state=SEED)"
   ]
  },
  {
   "cell_type": "code",
   "execution_count": 53,
   "id": "6e6c00fd-cdd8-4919-8731-893bb0acce4d",
   "metadata": {},
   "outputs": [],
   "source": [
    "rf = RandomForestClassifier(random_state=SEED)"
   ]
  },
  {
   "cell_type": "code",
   "execution_count": 54,
   "id": "923e013a-d75e-4d45-8535-10ea871d5251",
   "metadata": {},
   "outputs": [
    {
     "ename": "KeyboardInterrupt",
     "evalue": "",
     "output_type": "error",
     "traceback": [
      "\u001b[0;31m---------------------------------------------------------------------------\u001b[0m",
      "\u001b[0;31mKeyboardInterrupt\u001b[0m                         Traceback (most recent call last)",
      "Input \u001b[0;32mIn [54]\u001b[0m, in \u001b[0;36m<cell line: 1>\u001b[0;34m()\u001b[0m\n\u001b[0;32m----> 1\u001b[0m rf\u001b[38;5;241m.\u001b[39mfit(X_train_rf, y_train_rf)\n",
      "File \u001b[0;32m/usr/local/lib/python3.8/dist-packages/sklearn/ensemble/_forest.py:450\u001b[0m, in \u001b[0;36mBaseForest.fit\u001b[0;34m(self, X, y, sample_weight)\u001b[0m\n\u001b[1;32m    439\u001b[0m trees \u001b[38;5;241m=\u001b[39m [\n\u001b[1;32m    440\u001b[0m     \u001b[38;5;28mself\u001b[39m\u001b[38;5;241m.\u001b[39m_make_estimator(append\u001b[38;5;241m=\u001b[39m\u001b[38;5;28;01mFalse\u001b[39;00m, random_state\u001b[38;5;241m=\u001b[39mrandom_state)\n\u001b[1;32m    441\u001b[0m     \u001b[38;5;28;01mfor\u001b[39;00m i \u001b[38;5;129;01min\u001b[39;00m \u001b[38;5;28mrange\u001b[39m(n_more_estimators)\n\u001b[1;32m    442\u001b[0m ]\n\u001b[1;32m    444\u001b[0m \u001b[38;5;66;03m# Parallel loop: we prefer the threading backend as the Cython code\u001b[39;00m\n\u001b[1;32m    445\u001b[0m \u001b[38;5;66;03m# for fitting the trees is internally releasing the Python GIL\u001b[39;00m\n\u001b[1;32m    446\u001b[0m \u001b[38;5;66;03m# making threading more efficient than multiprocessing in\u001b[39;00m\n\u001b[1;32m    447\u001b[0m \u001b[38;5;66;03m# that case. However, for joblib 0.12+ we respect any\u001b[39;00m\n\u001b[1;32m    448\u001b[0m \u001b[38;5;66;03m# parallel_backend contexts set at a higher level,\u001b[39;00m\n\u001b[1;32m    449\u001b[0m \u001b[38;5;66;03m# since correctness does not rely on using threads.\u001b[39;00m\n\u001b[0;32m--> 450\u001b[0m trees \u001b[38;5;241m=\u001b[39m \u001b[43mParallel\u001b[49m\u001b[43m(\u001b[49m\n\u001b[1;32m    451\u001b[0m \u001b[43m    \u001b[49m\u001b[43mn_jobs\u001b[49m\u001b[38;5;241;43m=\u001b[39;49m\u001b[38;5;28;43mself\u001b[39;49m\u001b[38;5;241;43m.\u001b[39;49m\u001b[43mn_jobs\u001b[49m\u001b[43m,\u001b[49m\n\u001b[1;32m    452\u001b[0m \u001b[43m    \u001b[49m\u001b[43mverbose\u001b[49m\u001b[38;5;241;43m=\u001b[39;49m\u001b[38;5;28;43mself\u001b[39;49m\u001b[38;5;241;43m.\u001b[39;49m\u001b[43mverbose\u001b[49m\u001b[43m,\u001b[49m\n\u001b[1;32m    453\u001b[0m \u001b[43m    \u001b[49m\u001b[38;5;241;43m*\u001b[39;49m\u001b[38;5;241;43m*\u001b[39;49m\u001b[43m_joblib_parallel_args\u001b[49m\u001b[43m(\u001b[49m\u001b[43mprefer\u001b[49m\u001b[38;5;241;43m=\u001b[39;49m\u001b[38;5;124;43m\"\u001b[39;49m\u001b[38;5;124;43mthreads\u001b[39;49m\u001b[38;5;124;43m\"\u001b[39;49m\u001b[43m)\u001b[49m\u001b[43m,\u001b[49m\n\u001b[1;32m    454\u001b[0m \u001b[43m\u001b[49m\u001b[43m)\u001b[49m\u001b[43m(\u001b[49m\n\u001b[1;32m    455\u001b[0m \u001b[43m    \u001b[49m\u001b[43mdelayed\u001b[49m\u001b[43m(\u001b[49m\u001b[43m_parallel_build_trees\u001b[49m\u001b[43m)\u001b[49m\u001b[43m(\u001b[49m\n\u001b[1;32m    456\u001b[0m \u001b[43m        \u001b[49m\u001b[43mt\u001b[49m\u001b[43m,\u001b[49m\n\u001b[1;32m    457\u001b[0m \u001b[43m        \u001b[49m\u001b[38;5;28;43mself\u001b[39;49m\u001b[43m,\u001b[49m\n\u001b[1;32m    458\u001b[0m \u001b[43m        \u001b[49m\u001b[43mX\u001b[49m\u001b[43m,\u001b[49m\n\u001b[1;32m    459\u001b[0m \u001b[43m        \u001b[49m\u001b[43my\u001b[49m\u001b[43m,\u001b[49m\n\u001b[1;32m    460\u001b[0m \u001b[43m        \u001b[49m\u001b[43msample_weight\u001b[49m\u001b[43m,\u001b[49m\n\u001b[1;32m    461\u001b[0m \u001b[43m        \u001b[49m\u001b[43mi\u001b[49m\u001b[43m,\u001b[49m\n\u001b[1;32m    462\u001b[0m \u001b[43m        \u001b[49m\u001b[38;5;28;43mlen\u001b[39;49m\u001b[43m(\u001b[49m\u001b[43mtrees\u001b[49m\u001b[43m)\u001b[49m\u001b[43m,\u001b[49m\n\u001b[1;32m    463\u001b[0m \u001b[43m        \u001b[49m\u001b[43mverbose\u001b[49m\u001b[38;5;241;43m=\u001b[39;49m\u001b[38;5;28;43mself\u001b[39;49m\u001b[38;5;241;43m.\u001b[39;49m\u001b[43mverbose\u001b[49m\u001b[43m,\u001b[49m\n\u001b[1;32m    464\u001b[0m \u001b[43m        \u001b[49m\u001b[43mclass_weight\u001b[49m\u001b[38;5;241;43m=\u001b[39;49m\u001b[38;5;28;43mself\u001b[39;49m\u001b[38;5;241;43m.\u001b[39;49m\u001b[43mclass_weight\u001b[49m\u001b[43m,\u001b[49m\n\u001b[1;32m    465\u001b[0m \u001b[43m        \u001b[49m\u001b[43mn_samples_bootstrap\u001b[49m\u001b[38;5;241;43m=\u001b[39;49m\u001b[43mn_samples_bootstrap\u001b[49m\u001b[43m,\u001b[49m\n\u001b[1;32m    466\u001b[0m \u001b[43m    \u001b[49m\u001b[43m)\u001b[49m\n\u001b[1;32m    467\u001b[0m \u001b[43m    \u001b[49m\u001b[38;5;28;43;01mfor\u001b[39;49;00m\u001b[43m \u001b[49m\u001b[43mi\u001b[49m\u001b[43m,\u001b[49m\u001b[43m \u001b[49m\u001b[43mt\u001b[49m\u001b[43m \u001b[49m\u001b[38;5;129;43;01min\u001b[39;49;00m\u001b[43m \u001b[49m\u001b[38;5;28;43menumerate\u001b[39;49m\u001b[43m(\u001b[49m\u001b[43mtrees\u001b[49m\u001b[43m)\u001b[49m\n\u001b[1;32m    468\u001b[0m \u001b[43m\u001b[49m\u001b[43m)\u001b[49m\n\u001b[1;32m    470\u001b[0m \u001b[38;5;66;03m# Collect newly grown trees\u001b[39;00m\n\u001b[1;32m    471\u001b[0m \u001b[38;5;28mself\u001b[39m\u001b[38;5;241m.\u001b[39mestimators_\u001b[38;5;241m.\u001b[39mextend(trees)\n",
      "File \u001b[0;32m/usr/local/lib/python3.8/dist-packages/joblib/parallel.py:1046\u001b[0m, in \u001b[0;36mParallel.__call__\u001b[0;34m(self, iterable)\u001b[0m\n\u001b[1;32m   1043\u001b[0m \u001b[38;5;28;01mif\u001b[39;00m \u001b[38;5;28mself\u001b[39m\u001b[38;5;241m.\u001b[39mdispatch_one_batch(iterator):\n\u001b[1;32m   1044\u001b[0m     \u001b[38;5;28mself\u001b[39m\u001b[38;5;241m.\u001b[39m_iterating \u001b[38;5;241m=\u001b[39m \u001b[38;5;28mself\u001b[39m\u001b[38;5;241m.\u001b[39m_original_iterator \u001b[38;5;129;01mis\u001b[39;00m \u001b[38;5;129;01mnot\u001b[39;00m \u001b[38;5;28;01mNone\u001b[39;00m\n\u001b[0;32m-> 1046\u001b[0m \u001b[38;5;28;01mwhile\u001b[39;00m \u001b[38;5;28;43mself\u001b[39;49m\u001b[38;5;241;43m.\u001b[39;49m\u001b[43mdispatch_one_batch\u001b[49m\u001b[43m(\u001b[49m\u001b[43miterator\u001b[49m\u001b[43m)\u001b[49m:\n\u001b[1;32m   1047\u001b[0m     \u001b[38;5;28;01mpass\u001b[39;00m\n\u001b[1;32m   1049\u001b[0m \u001b[38;5;28;01mif\u001b[39;00m pre_dispatch \u001b[38;5;241m==\u001b[39m \u001b[38;5;124m\"\u001b[39m\u001b[38;5;124mall\u001b[39m\u001b[38;5;124m\"\u001b[39m \u001b[38;5;129;01mor\u001b[39;00m n_jobs \u001b[38;5;241m==\u001b[39m \u001b[38;5;241m1\u001b[39m:\n\u001b[1;32m   1050\u001b[0m     \u001b[38;5;66;03m# The iterable was consumed all at once by the above for loop.\u001b[39;00m\n\u001b[1;32m   1051\u001b[0m     \u001b[38;5;66;03m# No need to wait for async callbacks to trigger to\u001b[39;00m\n\u001b[1;32m   1052\u001b[0m     \u001b[38;5;66;03m# consumption.\u001b[39;00m\n",
      "File \u001b[0;32m/usr/local/lib/python3.8/dist-packages/joblib/parallel.py:861\u001b[0m, in \u001b[0;36mParallel.dispatch_one_batch\u001b[0;34m(self, iterator)\u001b[0m\n\u001b[1;32m    859\u001b[0m     \u001b[38;5;28;01mreturn\u001b[39;00m \u001b[38;5;28;01mFalse\u001b[39;00m\n\u001b[1;32m    860\u001b[0m \u001b[38;5;28;01melse\u001b[39;00m:\n\u001b[0;32m--> 861\u001b[0m     \u001b[38;5;28;43mself\u001b[39;49m\u001b[38;5;241;43m.\u001b[39;49m\u001b[43m_dispatch\u001b[49m\u001b[43m(\u001b[49m\u001b[43mtasks\u001b[49m\u001b[43m)\u001b[49m\n\u001b[1;32m    862\u001b[0m     \u001b[38;5;28;01mreturn\u001b[39;00m \u001b[38;5;28;01mTrue\u001b[39;00m\n",
      "File \u001b[0;32m/usr/local/lib/python3.8/dist-packages/joblib/parallel.py:779\u001b[0m, in \u001b[0;36mParallel._dispatch\u001b[0;34m(self, batch)\u001b[0m\n\u001b[1;32m    777\u001b[0m \u001b[38;5;28;01mwith\u001b[39;00m \u001b[38;5;28mself\u001b[39m\u001b[38;5;241m.\u001b[39m_lock:\n\u001b[1;32m    778\u001b[0m     job_idx \u001b[38;5;241m=\u001b[39m \u001b[38;5;28mlen\u001b[39m(\u001b[38;5;28mself\u001b[39m\u001b[38;5;241m.\u001b[39m_jobs)\n\u001b[0;32m--> 779\u001b[0m     job \u001b[38;5;241m=\u001b[39m \u001b[38;5;28;43mself\u001b[39;49m\u001b[38;5;241;43m.\u001b[39;49m\u001b[43m_backend\u001b[49m\u001b[38;5;241;43m.\u001b[39;49m\u001b[43mapply_async\u001b[49m\u001b[43m(\u001b[49m\u001b[43mbatch\u001b[49m\u001b[43m,\u001b[49m\u001b[43m \u001b[49m\u001b[43mcallback\u001b[49m\u001b[38;5;241;43m=\u001b[39;49m\u001b[43mcb\u001b[49m\u001b[43m)\u001b[49m\n\u001b[1;32m    780\u001b[0m     \u001b[38;5;66;03m# A job can complete so quickly than its callback is\u001b[39;00m\n\u001b[1;32m    781\u001b[0m     \u001b[38;5;66;03m# called before we get here, causing self._jobs to\u001b[39;00m\n\u001b[1;32m    782\u001b[0m     \u001b[38;5;66;03m# grow. To ensure correct results ordering, .insert is\u001b[39;00m\n\u001b[1;32m    783\u001b[0m     \u001b[38;5;66;03m# used (rather than .append) in the following line\u001b[39;00m\n\u001b[1;32m    784\u001b[0m     \u001b[38;5;28mself\u001b[39m\u001b[38;5;241m.\u001b[39m_jobs\u001b[38;5;241m.\u001b[39minsert(job_idx, job)\n",
      "File \u001b[0;32m/usr/local/lib/python3.8/dist-packages/joblib/_parallel_backends.py:208\u001b[0m, in \u001b[0;36mSequentialBackend.apply_async\u001b[0;34m(self, func, callback)\u001b[0m\n\u001b[1;32m    206\u001b[0m \u001b[38;5;28;01mdef\u001b[39;00m \u001b[38;5;21mapply_async\u001b[39m(\u001b[38;5;28mself\u001b[39m, func, callback\u001b[38;5;241m=\u001b[39m\u001b[38;5;28;01mNone\u001b[39;00m):\n\u001b[1;32m    207\u001b[0m     \u001b[38;5;124;03m\"\"\"Schedule a func to be run\"\"\"\u001b[39;00m\n\u001b[0;32m--> 208\u001b[0m     result \u001b[38;5;241m=\u001b[39m \u001b[43mImmediateResult\u001b[49m\u001b[43m(\u001b[49m\u001b[43mfunc\u001b[49m\u001b[43m)\u001b[49m\n\u001b[1;32m    209\u001b[0m     \u001b[38;5;28;01mif\u001b[39;00m callback:\n\u001b[1;32m    210\u001b[0m         callback(result)\n",
      "File \u001b[0;32m/usr/local/lib/python3.8/dist-packages/joblib/_parallel_backends.py:572\u001b[0m, in \u001b[0;36mImmediateResult.__init__\u001b[0;34m(self, batch)\u001b[0m\n\u001b[1;32m    569\u001b[0m \u001b[38;5;28;01mdef\u001b[39;00m \u001b[38;5;21m__init__\u001b[39m(\u001b[38;5;28mself\u001b[39m, batch):\n\u001b[1;32m    570\u001b[0m     \u001b[38;5;66;03m# Don't delay the application, to avoid keeping the input\u001b[39;00m\n\u001b[1;32m    571\u001b[0m     \u001b[38;5;66;03m# arguments in memory\u001b[39;00m\n\u001b[0;32m--> 572\u001b[0m     \u001b[38;5;28mself\u001b[39m\u001b[38;5;241m.\u001b[39mresults \u001b[38;5;241m=\u001b[39m \u001b[43mbatch\u001b[49m\u001b[43m(\u001b[49m\u001b[43m)\u001b[49m\n",
      "File \u001b[0;32m/usr/local/lib/python3.8/dist-packages/joblib/parallel.py:262\u001b[0m, in \u001b[0;36mBatchedCalls.__call__\u001b[0;34m(self)\u001b[0m\n\u001b[1;32m    258\u001b[0m \u001b[38;5;28;01mdef\u001b[39;00m \u001b[38;5;21m__call__\u001b[39m(\u001b[38;5;28mself\u001b[39m):\n\u001b[1;32m    259\u001b[0m     \u001b[38;5;66;03m# Set the default nested backend to self._backend but do not set the\u001b[39;00m\n\u001b[1;32m    260\u001b[0m     \u001b[38;5;66;03m# change the default number of processes to -1\u001b[39;00m\n\u001b[1;32m    261\u001b[0m     \u001b[38;5;28;01mwith\u001b[39;00m parallel_backend(\u001b[38;5;28mself\u001b[39m\u001b[38;5;241m.\u001b[39m_backend, n_jobs\u001b[38;5;241m=\u001b[39m\u001b[38;5;28mself\u001b[39m\u001b[38;5;241m.\u001b[39m_n_jobs):\n\u001b[0;32m--> 262\u001b[0m         \u001b[38;5;28;01mreturn\u001b[39;00m [func(\u001b[38;5;241m*\u001b[39margs, \u001b[38;5;241m*\u001b[39m\u001b[38;5;241m*\u001b[39mkwargs)\n\u001b[1;32m    263\u001b[0m                 \u001b[38;5;28;01mfor\u001b[39;00m func, args, kwargs \u001b[38;5;129;01min\u001b[39;00m \u001b[38;5;28mself\u001b[39m\u001b[38;5;241m.\u001b[39mitems]\n",
      "File \u001b[0;32m/usr/local/lib/python3.8/dist-packages/joblib/parallel.py:262\u001b[0m, in \u001b[0;36m<listcomp>\u001b[0;34m(.0)\u001b[0m\n\u001b[1;32m    258\u001b[0m \u001b[38;5;28;01mdef\u001b[39;00m \u001b[38;5;21m__call__\u001b[39m(\u001b[38;5;28mself\u001b[39m):\n\u001b[1;32m    259\u001b[0m     \u001b[38;5;66;03m# Set the default nested backend to self._backend but do not set the\u001b[39;00m\n\u001b[1;32m    260\u001b[0m     \u001b[38;5;66;03m# change the default number of processes to -1\u001b[39;00m\n\u001b[1;32m    261\u001b[0m     \u001b[38;5;28;01mwith\u001b[39;00m parallel_backend(\u001b[38;5;28mself\u001b[39m\u001b[38;5;241m.\u001b[39m_backend, n_jobs\u001b[38;5;241m=\u001b[39m\u001b[38;5;28mself\u001b[39m\u001b[38;5;241m.\u001b[39m_n_jobs):\n\u001b[0;32m--> 262\u001b[0m         \u001b[38;5;28;01mreturn\u001b[39;00m [\u001b[43mfunc\u001b[49m\u001b[43m(\u001b[49m\u001b[38;5;241;43m*\u001b[39;49m\u001b[43margs\u001b[49m\u001b[43m,\u001b[49m\u001b[43m \u001b[49m\u001b[38;5;241;43m*\u001b[39;49m\u001b[38;5;241;43m*\u001b[39;49m\u001b[43mkwargs\u001b[49m\u001b[43m)\u001b[49m\n\u001b[1;32m    263\u001b[0m                 \u001b[38;5;28;01mfor\u001b[39;00m func, args, kwargs \u001b[38;5;129;01min\u001b[39;00m \u001b[38;5;28mself\u001b[39m\u001b[38;5;241m.\u001b[39mitems]\n",
      "File \u001b[0;32m/usr/local/lib/python3.8/dist-packages/sklearn/utils/fixes.py:216\u001b[0m, in \u001b[0;36m_FuncWrapper.__call__\u001b[0;34m(self, *args, **kwargs)\u001b[0m\n\u001b[1;32m    214\u001b[0m \u001b[38;5;28;01mdef\u001b[39;00m \u001b[38;5;21m__call__\u001b[39m(\u001b[38;5;28mself\u001b[39m, \u001b[38;5;241m*\u001b[39margs, \u001b[38;5;241m*\u001b[39m\u001b[38;5;241m*\u001b[39mkwargs):\n\u001b[1;32m    215\u001b[0m     \u001b[38;5;28;01mwith\u001b[39;00m config_context(\u001b[38;5;241m*\u001b[39m\u001b[38;5;241m*\u001b[39m\u001b[38;5;28mself\u001b[39m\u001b[38;5;241m.\u001b[39mconfig):\n\u001b[0;32m--> 216\u001b[0m         \u001b[38;5;28;01mreturn\u001b[39;00m \u001b[38;5;28;43mself\u001b[39;49m\u001b[38;5;241;43m.\u001b[39;49m\u001b[43mfunction\u001b[49m\u001b[43m(\u001b[49m\u001b[38;5;241;43m*\u001b[39;49m\u001b[43margs\u001b[49m\u001b[43m,\u001b[49m\u001b[43m \u001b[49m\u001b[38;5;241;43m*\u001b[39;49m\u001b[38;5;241;43m*\u001b[39;49m\u001b[43mkwargs\u001b[49m\u001b[43m)\u001b[49m\n",
      "File \u001b[0;32m/usr/local/lib/python3.8/dist-packages/sklearn/ensemble/_forest.py:185\u001b[0m, in \u001b[0;36m_parallel_build_trees\u001b[0;34m(tree, forest, X, y, sample_weight, tree_idx, n_trees, verbose, class_weight, n_samples_bootstrap)\u001b[0m\n\u001b[1;32m    182\u001b[0m     \u001b[38;5;28;01melif\u001b[39;00m class_weight \u001b[38;5;241m==\u001b[39m \u001b[38;5;124m\"\u001b[39m\u001b[38;5;124mbalanced_subsample\u001b[39m\u001b[38;5;124m\"\u001b[39m:\n\u001b[1;32m    183\u001b[0m         curr_sample_weight \u001b[38;5;241m*\u001b[39m\u001b[38;5;241m=\u001b[39m compute_sample_weight(\u001b[38;5;124m\"\u001b[39m\u001b[38;5;124mbalanced\u001b[39m\u001b[38;5;124m\"\u001b[39m, y, indices\u001b[38;5;241m=\u001b[39mindices)\n\u001b[0;32m--> 185\u001b[0m     \u001b[43mtree\u001b[49m\u001b[38;5;241;43m.\u001b[39;49m\u001b[43mfit\u001b[49m\u001b[43m(\u001b[49m\u001b[43mX\u001b[49m\u001b[43m,\u001b[49m\u001b[43m \u001b[49m\u001b[43my\u001b[49m\u001b[43m,\u001b[49m\u001b[43m \u001b[49m\u001b[43msample_weight\u001b[49m\u001b[38;5;241;43m=\u001b[39;49m\u001b[43mcurr_sample_weight\u001b[49m\u001b[43m,\u001b[49m\u001b[43m \u001b[49m\u001b[43mcheck_input\u001b[49m\u001b[38;5;241;43m=\u001b[39;49m\u001b[38;5;28;43;01mFalse\u001b[39;49;00m\u001b[43m)\u001b[49m\n\u001b[1;32m    186\u001b[0m \u001b[38;5;28;01melse\u001b[39;00m:\n\u001b[1;32m    187\u001b[0m     tree\u001b[38;5;241m.\u001b[39mfit(X, y, sample_weight\u001b[38;5;241m=\u001b[39msample_weight, check_input\u001b[38;5;241m=\u001b[39m\u001b[38;5;28;01mFalse\u001b[39;00m)\n",
      "File \u001b[0;32m/usr/local/lib/python3.8/dist-packages/sklearn/tree/_classes.py:937\u001b[0m, in \u001b[0;36mDecisionTreeClassifier.fit\u001b[0;34m(self, X, y, sample_weight, check_input, X_idx_sorted)\u001b[0m\n\u001b[1;32m    899\u001b[0m \u001b[38;5;28;01mdef\u001b[39;00m \u001b[38;5;21mfit\u001b[39m(\n\u001b[1;32m    900\u001b[0m     \u001b[38;5;28mself\u001b[39m, X, y, sample_weight\u001b[38;5;241m=\u001b[39m\u001b[38;5;28;01mNone\u001b[39;00m, check_input\u001b[38;5;241m=\u001b[39m\u001b[38;5;28;01mTrue\u001b[39;00m, X_idx_sorted\u001b[38;5;241m=\u001b[39m\u001b[38;5;124m\"\u001b[39m\u001b[38;5;124mdeprecated\u001b[39m\u001b[38;5;124m\"\u001b[39m\n\u001b[1;32m    901\u001b[0m ):\n\u001b[1;32m    902\u001b[0m     \u001b[38;5;124;03m\"\"\"Build a decision tree classifier from the training set (X, y).\u001b[39;00m\n\u001b[1;32m    903\u001b[0m \n\u001b[1;32m    904\u001b[0m \u001b[38;5;124;03m    Parameters\u001b[39;00m\n\u001b[0;32m   (...)\u001b[0m\n\u001b[1;32m    934\u001b[0m \u001b[38;5;124;03m        Fitted estimator.\u001b[39;00m\n\u001b[1;32m    935\u001b[0m \u001b[38;5;124;03m    \"\"\"\u001b[39;00m\n\u001b[0;32m--> 937\u001b[0m     \u001b[38;5;28;43msuper\u001b[39;49m\u001b[43m(\u001b[49m\u001b[43m)\u001b[49m\u001b[38;5;241;43m.\u001b[39;49m\u001b[43mfit\u001b[49m\u001b[43m(\u001b[49m\n\u001b[1;32m    938\u001b[0m \u001b[43m        \u001b[49m\u001b[43mX\u001b[49m\u001b[43m,\u001b[49m\n\u001b[1;32m    939\u001b[0m \u001b[43m        \u001b[49m\u001b[43my\u001b[49m\u001b[43m,\u001b[49m\n\u001b[1;32m    940\u001b[0m \u001b[43m        \u001b[49m\u001b[43msample_weight\u001b[49m\u001b[38;5;241;43m=\u001b[39;49m\u001b[43msample_weight\u001b[49m\u001b[43m,\u001b[49m\n\u001b[1;32m    941\u001b[0m \u001b[43m        \u001b[49m\u001b[43mcheck_input\u001b[49m\u001b[38;5;241;43m=\u001b[39;49m\u001b[43mcheck_input\u001b[49m\u001b[43m,\u001b[49m\n\u001b[1;32m    942\u001b[0m \u001b[43m        \u001b[49m\u001b[43mX_idx_sorted\u001b[49m\u001b[38;5;241;43m=\u001b[39;49m\u001b[43mX_idx_sorted\u001b[49m\u001b[43m,\u001b[49m\n\u001b[1;32m    943\u001b[0m \u001b[43m    \u001b[49m\u001b[43m)\u001b[49m\n\u001b[1;32m    944\u001b[0m     \u001b[38;5;28;01mreturn\u001b[39;00m \u001b[38;5;28mself\u001b[39m\n",
      "File \u001b[0;32m/usr/local/lib/python3.8/dist-packages/sklearn/tree/_classes.py:420\u001b[0m, in \u001b[0;36mBaseDecisionTree.fit\u001b[0;34m(self, X, y, sample_weight, check_input, X_idx_sorted)\u001b[0m\n\u001b[1;32m    409\u001b[0m \u001b[38;5;28;01melse\u001b[39;00m:\n\u001b[1;32m    410\u001b[0m     builder \u001b[38;5;241m=\u001b[39m BestFirstTreeBuilder(\n\u001b[1;32m    411\u001b[0m         splitter,\n\u001b[1;32m    412\u001b[0m         min_samples_split,\n\u001b[0;32m   (...)\u001b[0m\n\u001b[1;32m    417\u001b[0m         \u001b[38;5;28mself\u001b[39m\u001b[38;5;241m.\u001b[39mmin_impurity_decrease,\n\u001b[1;32m    418\u001b[0m     )\n\u001b[0;32m--> 420\u001b[0m \u001b[43mbuilder\u001b[49m\u001b[38;5;241;43m.\u001b[39;49m\u001b[43mbuild\u001b[49m\u001b[43m(\u001b[49m\u001b[38;5;28;43mself\u001b[39;49m\u001b[38;5;241;43m.\u001b[39;49m\u001b[43mtree_\u001b[49m\u001b[43m,\u001b[49m\u001b[43m \u001b[49m\u001b[43mX\u001b[49m\u001b[43m,\u001b[49m\u001b[43m \u001b[49m\u001b[43my\u001b[49m\u001b[43m,\u001b[49m\u001b[43m \u001b[49m\u001b[43msample_weight\u001b[49m\u001b[43m)\u001b[49m\n\u001b[1;32m    422\u001b[0m \u001b[38;5;28;01mif\u001b[39;00m \u001b[38;5;28mself\u001b[39m\u001b[38;5;241m.\u001b[39mn_outputs_ \u001b[38;5;241m==\u001b[39m \u001b[38;5;241m1\u001b[39m \u001b[38;5;129;01mand\u001b[39;00m is_classifier(\u001b[38;5;28mself\u001b[39m):\n\u001b[1;32m    423\u001b[0m     \u001b[38;5;28mself\u001b[39m\u001b[38;5;241m.\u001b[39mn_classes_ \u001b[38;5;241m=\u001b[39m \u001b[38;5;28mself\u001b[39m\u001b[38;5;241m.\u001b[39mn_classes_[\u001b[38;5;241m0\u001b[39m]\n",
      "\u001b[0;31mKeyboardInterrupt\u001b[0m: "
     ]
    }
   ],
   "source": [
    "rf.fit(X_train_rf, y_train_rf)"
   ]
  },
  {
   "cell_type": "code",
   "execution_count": null,
   "id": "caa70f50-a81a-4fde-a4ef-51b512f84c8f",
   "metadata": {},
   "outputs": [],
   "source": [
    "y_pred_rf = rf.predict(X_test_rf)"
   ]
  },
  {
   "cell_type": "code",
   "execution_count": null,
   "id": "1aa17c48-b983-4e7e-8fb9-409ffffb9f08",
   "metadata": {},
   "outputs": [],
   "source": [
    "y_pred_rf"
   ]
  },
  {
   "cell_type": "code",
   "execution_count": null,
   "id": "faf7c180-36b4-4c01-aaf6-2a283e9b6dec",
   "metadata": {},
   "outputs": [],
   "source": [
    "y_proba_rf = rf.predict_proba(X_test_rf)"
   ]
  },
  {
   "cell_type": "code",
   "execution_count": null,
   "id": "670fb905-9f43-4ba8-a448-b372a34befde",
   "metadata": {},
   "outputs": [],
   "source": [
    "metrics.plot_roc_curve(rf, X_test_clf, y_test_clf)\n",
    "plt.title(\"Boosted Decision Tree ROC Curve\")\n",
    "plt.xlabel(\"False Positive Rate\")\n",
    "plt.ylabel(\"True Positive Rate\")\n",
    "plt.grid(True)"
   ]
  },
  {
   "cell_type": "markdown",
   "id": "46a975a1-c01f-4641-a8e5-a20b2bc6c006",
   "metadata": {},
   "source": [
    "#### Accuracy"
   ]
  },
  {
   "cell_type": "code",
   "execution_count": null,
   "id": "0968f2a1-4799-4487-8bed-812c333e586a",
   "metadata": {},
   "outputs": [],
   "source": [
    "print(\"RF test accuracy: %0.20f\" % rf.score(X_test_rf, y_test_rf))"
   ]
  },
  {
   "cell_type": "markdown",
   "id": "b7cfe674-a035-4b4c-9231-c26bee6efb83",
   "metadata": {},
   "source": [
    "#### Random Forest Tuning"
   ]
  },
  {
   "cell_type": "code",
   "execution_count": null,
   "id": "c85333d1-a6a7-489a-b326-c4aea94f661a",
   "metadata": {},
   "outputs": [],
   "source": [
    "from sklearn.model_selection import RandomizedSearchCV\n",
    "\n",
    "criterion = ['gini', 'entropy']\n",
    "n_estimators = [5, 10, 50, 100]\n",
    "max_depth = [5, 10, 50, 100]\n",
    "bootstrap = [True, False]\n",
    "random_grid = {'n_estimators': n_estimators,\n",
    "               'max_depth': max_depth,\n",
    "               'bootstrap': bootstrap,\n",
    "               'criterion': criterion}\n",
    "\n",
    "print(random_grid)"
   ]
  },
  {
   "cell_type": "code",
   "execution_count": null,
   "id": "5276366c-0a92-454e-9849-5492ef63cf8a",
   "metadata": {
    "tags": []
   },
   "outputs": [],
   "source": [
    "rf = RandomForestClassifier()\n",
    "rf_random = RandomizedSearchCV(estimator = rf, param_distributions = random_grid, n_iter = 100, cv = 5, verbose=2, random_state=42, n_jobs = -1)\n",
    "rf_random.fit(X_train_rf, y_train_rf)"
   ]
  },
  {
   "cell_type": "code",
   "execution_count": null,
   "id": "55c3e466-b092-427c-8096-d7cd165a8ec5",
   "metadata": {},
   "outputs": [],
   "source": [
    "rf_random.best_params_"
   ]
  },
  {
   "cell_type": "markdown",
   "id": "00e39305-a827-43e8-b39c-2f3465dd02c1",
   "metadata": {},
   "source": [
    "### AdaBoost Classification"
   ]
  },
  {
   "cell_type": "code",
   "execution_count": null,
   "id": "97f2ef11-9480-4e88-a30e-b4a63139ea6e",
   "metadata": {
    "tags": []
   },
   "outputs": [],
   "source": [
    "from sklearn.ensemble import AdaBoostClassifier\n",
    "from sklearn.tree import DecisionTreeClassifier\n",
    "from sklearn.metrics import roc_auc_score\n",
    "from sklearn.model_selection import train_test_split"
   ]
  },
  {
   "cell_type": "code",
   "execution_count": null,
   "id": "4eeb1a66-ab38-4226-b16d-88d5c39075ac",
   "metadata": {},
   "outputs": [],
   "source": [
    "SEED = 1"
   ]
  },
  {
   "cell_type": "code",
   "execution_count": null,
   "id": "98a401c6-3047-47ed-82bf-9cdb23c2d137",
   "metadata": {},
   "outputs": [],
   "source": [
    "X_train_a, X_test_a, y_train_a, y_test_a = train_test_split(undersampled_X_train, undersampled_y_train, test_size=0.3,\n",
    "                                                   stratify=undersampled_y_train, random_state=SEED)"
   ]
  },
  {
   "cell_type": "code",
   "execution_count": null,
   "id": "1562a888-5133-41bb-bbba-3b0a0a94e7c6",
   "metadata": {},
   "outputs": [],
   "source": [
    "clf_ada = DecisionTreeClassifier(random_state=SEED)"
   ]
  },
  {
   "cell_type": "code",
   "execution_count": null,
   "id": "28524385-8a91-4dfd-be3b-5c20ab078490",
   "metadata": {},
   "outputs": [],
   "source": [
    "adb_clf = AdaBoostClassifier(base_estimator=clf_ada)"
   ]
  },
  {
   "cell_type": "code",
   "execution_count": null,
   "id": "e5a6b6da-a330-4a60-a93d-e3c4d204fe95",
   "metadata": {},
   "outputs": [],
   "source": [
    "adb_clf.fit(X_train_a, y_train_a)"
   ]
  },
  {
   "cell_type": "code",
   "execution_count": null,
   "id": "1d17117d-aafc-4f88-bbe8-7e6dbbc42fc2",
   "metadata": {},
   "outputs": [],
   "source": [
    "adb_clf.score(X_train_a, y_train_a)"
   ]
  },
  {
   "cell_type": "markdown",
   "id": "f4fc993b-c8f6-4473-81e4-30e5f45b1559",
   "metadata": {},
   "source": [
    "## Feature Importance"
   ]
  },
  {
   "cell_type": "code",
   "execution_count": null,
   "id": "aedebbac-2ce4-43cb-a50d-0970c8205ab9",
   "metadata": {},
   "outputs": [],
   "source": [
    "input_columns_new = ['mbb', 'weight', 'njets', 'nbjets', 'ptbb', 'etabb', 'phibb', 'ebb',\n",
    "       'dRbb', 'dEtabb', 'dPhibb', 'mj1', 'ptj1', 'etaj1', 'phij1', 'ej1',\n",
    "       'btagj1', 'qglikelihoodj1', 'mj2', 'ptj2', 'etaj2', 'phij2', 'ej2',\n",
    "       'btagj2', 'qglikelihoodj2', 'mj3', 'ptj3', 'etaj3', 'phij3', 'ej3',\n",
    "       'btagj3', 'qglikelihoodj3', 'dR13', 'dEta13', 'dPhi13', 'dR23',\n",
    "       'dEta23', 'dPhi23', 'mj4', 'ptj4', 'etaj4', 'phij4', 'ej4', 'btagj4',\n",
    "       'qglikelihoodj4']\n",
    "\n",
    "X_test = test_df[input_columns_new]\n",
    "\n",
    "y_test = test_df['label']"
   ]
  },
  {
   "cell_type": "code",
   "execution_count": null,
   "id": "e55f428e-2839-4c47-92e6-de96646e62c5",
   "metadata": {},
   "outputs": [],
   "source": [
    "class_1, class_0 = train_df.label.value_counts()\n",
    "c1 = train_df[train_df['label']==1]\n",
    "c0 = train_df[train_df['label']==0]\n",
    "c1_sam = c1.sample(class_0)\n",
    "undersampled_train = pd.concat([c0,c1_sam], axis=0)\n",
    "undersampled_train['label'].value_counts()"
   ]
  },
  {
   "cell_type": "code",
   "execution_count": null,
   "id": "08038b12-b8f1-4206-ac81-2911260a68f2",
   "metadata": {},
   "outputs": [],
   "source": [
    "feat_importance = clf.tree_.compute_feature_importances(normalize=False)\n",
    "print(\"Feature Importance =\" + str(feat_importance))"
   ]
  },
  {
   "cell_type": "code",
   "execution_count": null,
   "id": "d98ed13c-aed8-4732-a809-944c1dfcebcd",
   "metadata": {},
   "outputs": [],
   "source": [
    "tree = clf.fit(X_test_clf, y_test_clf)\n",
    "tree.feature_importances_"
   ]
  },
  {
   "cell_type": "code",
   "execution_count": null,
   "id": "bb49e01f-d75d-41d8-899c-ae3a746afb08",
   "metadata": {},
   "outputs": [],
   "source": [
    "feat_imp = pd.DataFrame(tree.feature_importances_, columns=['feature importance'])\n",
    "feat_imp"
   ]
  },
  {
   "cell_type": "code",
   "execution_count": null,
   "id": "73818712-0898-4890-8c68-ca6d776c58e9",
   "metadata": {},
   "outputs": [],
   "source": [
    "feat_imp['feature']= input_columns\n",
    "feat_imp"
   ]
  },
  {
   "cell_type": "code",
   "execution_count": null,
   "id": "df01f06c-7e48-4b84-8441-91f942cf07ae",
   "metadata": {},
   "outputs": [],
   "source": [
    "import seaborn as sns\n",
    "sns.set_theme(style=\"whitegrid\")\n",
    "ax = sns.barplot(y=\"feature\", x=\"feature importance\", data=feat_imp)"
   ]
  },
  {
   "cell_type": "code",
   "execution_count": null,
   "id": "a2ec3453-89b7-41e9-86b5-35ad11321dc8",
   "metadata": {},
   "outputs": [],
   "source": []
  }
 ],
 "metadata": {
  "kernelspec": {
   "display_name": "Python 3 (ipykernel)",
   "language": "python",
   "name": "python3"
  },
  "language_info": {
   "codemirror_mode": {
    "name": "ipython",
    "version": 3
   },
   "file_extension": ".py",
   "mimetype": "text/x-python",
   "name": "python",
   "nbconvert_exporter": "python",
   "pygments_lexer": "ipython3",
   "version": "3.8.10"
  }
 },
 "nbformat": 4,
 "nbformat_minor": 5
}

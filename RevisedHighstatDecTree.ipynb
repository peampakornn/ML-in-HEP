{
 "cells": [
  {
   "cell_type": "markdown",
   "id": "df7d49f8-891a-461f-b252-12bf0f665f5a",
   "metadata": {},
   "source": [
    "## Reading Uproot"
   ]
  },
  {
   "cell_type": "code",
   "execution_count": 1,
   "id": "df614659-2091-4d4f-b65d-c2f19003fe87",
   "metadata": {},
   "outputs": [],
   "source": [
    "import uproot\n",
    "import awkward\n",
    "import numpy as np\n",
    "import pandas as pd"
   ]
  },
  {
   "cell_type": "markdown",
   "id": "3aac173a-4736-43ee-98c3-2aa18e986a44",
   "metadata": {},
   "source": [
    "#### Note : Current output is the result from lowstat data"
   ]
  },
  {
   "cell_type": "markdown",
   "id": "aa722d58-9927-4845-b919-e0e6870c685d",
   "metadata": {},
   "source": [
    "### Signal Section"
   ]
  },
  {
   "cell_type": "code",
   "execution_count": 2,
   "id": "14c0c125-b8d2-46c3-9b12-52fda4d44872",
   "metadata": {},
   "outputs": [],
   "source": [
    "signal = uproot.open('ForML_SUSYGluGluToBBHToBB_M-300_2017.root')\n",
    "signal"
   ]
  },
  {
   "cell_type": "code",
   "execution_count": 3,
   "id": "ebd68d42-f60f-40da-897a-1307b17b0577",
   "metadata": {},
   "outputs": [],
   "source": [
    "signal_tree = signal['mssmhbb']\n",
    "signal_tree"
   ]
  },
  {
   "cell_type": "code",
   "execution_count": 4,
   "id": "0114a076-7dce-4149-861e-66e4836c61d1",
   "metadata": {},
   "outputs": [],
   "source": [
    "signal_b = signal_tree.arrays()"
   ]
  },
  {
   "cell_type": "code",
   "execution_count": 5,
   "id": "fa14f5cb-463f-4649-b9cc-ca6aaf50563b",
   "metadata": {},
   "outputs": [],
   "source": [
    "signal_df = awkward.to_pandas(signal_b)\n",
    "signal_df"
   ]
  },
  {
   "cell_type": "code",
   "execution_count": 6,
   "id": "6fc141db-638b-4504-beab-5e99fbf483a2",
   "metadata": {},
   "outputs": [],
   "source": [
    "signal_df = signal_df[(signal_df['weight']>0)]\n",
    "signal_df"
   ]
  },
  {
   "cell_type": "code",
   "execution_count": 7,
   "id": "cb836bda-3cd7-460c-9632-d2aabad5361b",
   "metadata": {},
   "outputs": [],
   "source": [
    "np.ones(len(signal_df))"
   ]
  },
  {
   "cell_type": "code",
   "execution_count": 8,
   "id": "4e308489-9363-44e5-9c41-109c63d6ff9f",
   "metadata": {},
   "outputs": [],
   "source": [
    "signal_df.loc[:,'label'] = np.ones(len(signal_df)).tolist()"
   ]
  },
  {
   "cell_type": "code",
   "execution_count": 9,
   "id": "94a354ff-d8b1-4339-92de-b894d967ad8c",
   "metadata": {},
   "outputs": [],
   "source": [
    "signal_df"
   ]
  },
  {
   "cell_type": "markdown",
   "id": "0f07ced9-ef74-4e00-b4b6-ce0620f758e5",
   "metadata": {},
   "source": [
    "### Background Section"
   ]
  },
  {
   "cell_type": "code",
   "execution_count": 10,
   "id": "d3725a87-1ec1-4a59-95f3-6677ee03904f",
   "metadata": {},
   "outputs": [],
   "source": [
    "bg = uproot.open('ForML_QCD-bEnriched100toInf_2017.root')\n",
    "bg"
   ]
  },
  {
   "cell_type": "code",
   "execution_count": 11,
   "id": "97a75045-dd42-46e8-81bb-d782aa90e024",
   "metadata": {},
   "outputs": [],
   "source": [
    "bg_tree = bg['mssmhbb']\n",
    "bg_tree"
   ]
  },
  {
   "cell_type": "code",
   "execution_count": 12,
   "id": "3686926e-9c7b-4e7c-81a4-b126fefe4a17",
   "metadata": {},
   "outputs": [],
   "source": [
    "bg_b = bg_tree.arrays()"
   ]
  },
  {
   "cell_type": "code",
   "execution_count": 13,
   "id": "cc5059c5-679c-4324-9e15-7f3f0f7cf81c",
   "metadata": {},
   "outputs": [],
   "source": [
    "bg_df = awkward.to_pandas(bg_b)\n",
    "bg_df"
   ]
  },
  {
   "cell_type": "code",
   "execution_count": 14,
   "id": "c4787aac-0527-4bd7-ba6b-fe44cb6c56b5",
   "metadata": {},
   "outputs": [],
   "source": [
    "bg_df.describe()"
   ]
  },
  {
   "cell_type": "code",
   "execution_count": 15,
   "id": "32d905e5-70e6-492c-882d-cae9463cb20c",
   "metadata": {},
   "outputs": [],
   "source": [
    "bg_df = bg_df[(bg_df['weight']>0)]"
   ]
  },
  {
   "cell_type": "code",
   "execution_count": 16,
   "id": "d7370513-46c4-4e98-a4a2-2f31fea26bc7",
   "metadata": {},
   "outputs": [],
   "source": [
    "bg_df.loc[:,'label'] = np.zeros(len(bg_df)).tolist()\n",
    "bg_df"
   ]
  },
  {
   "cell_type": "code",
   "execution_count": 17,
   "id": "e274603a-8953-468d-a3b5-8ce57afaf5af",
   "metadata": {},
   "outputs": [],
   "source": [
    "dataset_df = pd.concat([signal_df,bg_df], ignore_index=True)\n",
    "dataset_df"
   ]
  },
  {
   "cell_type": "code",
   "execution_count": 18,
   "id": "9794a694-1edb-4ad3-ae14-eb54b4911305",
   "metadata": {},
   "outputs": [],
   "source": [
    "dataset_df['label'].value_counts()"
   ]
  },
  {
   "cell_type": "code",
   "execution_count": null,
   "id": "74af2aa1-9f1c-458d-b1ad-398bb6989083",
   "metadata": {},
   "outputs": [],
   "source": []
  },
  {
   "cell_type": "markdown",
   "id": "b0f35f92-ada8-4f44-87fa-8df8d127c845",
   "metadata": {},
   "source": [
    "# Data Preprocessing"
   ]
  },
  {
   "cell_type": "code",
   "execution_count": 20,
   "id": "bc5081a7-2bc8-4e8b-97c6-e9c5b92b337c",
   "metadata": {},
   "outputs": [],
   "source": [
    "from sklearn import preprocessing"
   ]
  },
  {
   "cell_type": "code",
   "execution_count": 21,
   "id": "eb9f4dfa-3cb4-4ed3-8d26-5b9ef20feeda",
   "metadata": {},
   "outputs": [],
   "source": [
    "from sklearn.preprocessing import StandardScaler"
   ]
  },
  {
   "cell_type": "code",
   "execution_count": 22,
   "id": "717749cc-6891-4736-af05-d6af50769fa2",
   "metadata": {},
   "outputs": [
    {
     "ename": "IndentationError",
     "evalue": "unexpected indent (<ipython-input-22-1d5632eac51b>, line 5)",
     "output_type": "error",
     "traceback": [
      "\u001b[0;36m  File \u001b[0;32m\"<ipython-input-22-1d5632eac51b>\"\u001b[0;36m, line \u001b[0;32m5\u001b[0m\n\u001b[0;31m    'dRbb', 'dEtabb', 'dPhibb', 'mj1', 'ptj1', 'etaj1', 'phij1', 'ej1',\u001b[0m\n\u001b[0m    ^\u001b[0m\n\u001b[0;31mIndentationError\u001b[0m\u001b[0;31m:\u001b[0m unexpected indent\n"
     ]
    }
   ],
   "source": [
    "scaler = StandardScaler()\n",
    "data_for_scaling = dataset_df.values[:,:-1]\n",
    "dataset_st_np = scaler.fit_transform(data_for_scaling)\n",
    "dataset_st_df = pd.DataFrame(dataset_st_np, columns= ['mbb', 'weight', 'njets', 'nbjets', 'ptbb', 'etabb', 'phibb', 'ebb',\n",
    "       'dRbb', 'dEtabb', 'dPhibb', 'mj1', 'ptj1', 'etaj1', 'phij1', 'ej1',\n",
    "       'btagj1', 'qglikelihoodj1', 'mj2', 'ptj2', 'etaj2', 'phij2', 'ej2',\n",
    "       'btagj2', 'qglikelihoodj2', 'mj3', 'ptj3', 'etaj3', 'phij3', 'ej3',\n",
    "       'btagj3', 'qglikelihoodj3', 'dR13', 'dEta13', 'dPhi13', 'dR23',\n",
    "       'dEta23', 'dPhi23', 'mj4', 'ptj4', 'etaj4', 'phij4', 'ej4', 'btagj4',\n",
    "       'qglikelihoodj4'])"
   ]
  },
  {
   "cell_type": "code",
   "execution_count": 23,
   "id": "a8ad7284-9759-4ece-8ae3-f2361725550b",
   "metadata": {},
   "outputs": [
    {
     "data": {
      "text/plain": [
       "array([[-0.65847977],\n",
       "       [ 0.09501579],\n",
       "       [-0.04011391],\n",
       "       [-0.73925332],\n",
       "       [-0.19670785]])"
      ]
     },
     "execution_count": 23,
     "metadata": {},
     "output_type": "execute_result"
    }
   ],
   "source": [
    "scaler = preprocessing.StandardScaler()\n",
    "scaler.fit(dataset_df[['mbb']])\n",
    "z = scaler.transform(dataset_df[['mbb']])\n",
    "z[:5]"
   ]
  },
  {
   "cell_type": "code",
   "execution_count": 24,
   "id": "69659abc-14cb-427c-86c8-254c91dc6023",
   "metadata": {},
   "outputs": [
    {
     "data": {
      "text/plain": [
       "Index(['Unnamed: 0', 'mbb', 'weight', 'njets', 'nbjets', 'ptbb', 'etabb',\n",
       "       'phibb', 'ebb', 'dRbb', 'dEtabb', 'dPhibb', 'mj1', 'ptj1', 'etaj1',\n",
       "       'phij1', 'ej1', 'btagj1', 'qglikelihoodj1', 'mj2', 'ptj2', 'etaj2',\n",
       "       'phij2', 'ej2', 'btagj2', 'qglikelihoodj2', 'mj3', 'ptj3', 'etaj3',\n",
       "       'phij3', 'ej3', 'btagj3', 'qglikelihoodj3', 'dR13', 'dEta13', 'dPhi13',\n",
       "       'dR23', 'dEta23', 'dPhi23', 'mj4', 'ptj4', 'etaj4', 'phij4', 'ej4',\n",
       "       'btagj4', 'qglikelihoodj4', 'label'],\n",
       "      dtype='object')"
      ]
     },
     "execution_count": 24,
     "metadata": {},
     "output_type": "execute_result"
    }
   ],
   "source": [
    "dataset_df.columns"
   ]
  },
  {
   "cell_type": "code",
   "execution_count": 29,
   "id": "e2fa22ce-a644-42be-914c-9b180d439c12",
   "metadata": {},
   "outputs": [],
   "source": [
    "dataset_st_df['label'] = dataset_df['label']"
   ]
  },
  {
   "cell_type": "code",
   "execution_count": 30,
   "id": "7f26a780-4a08-43e6-81a6-da1c9151ee21",
   "metadata": {},
   "outputs": [],
   "source": [
    "input_columns = ['mbb','nbjets','dEtabb','mj1','btagj1','qglikelihoodj1','mj2','btagj2','qglikelihoodj2','btagj3']"
   ]
  },
  {
   "cell_type": "code",
   "execution_count": 31,
   "id": "905be687-0efc-40a5-9bab-e247c8ffbe00",
   "metadata": {},
   "outputs": [],
   "source": [
    "from sklearn.model_selection import train_test_split"
   ]
  },
  {
   "cell_type": "code",
   "execution_count": 33,
   "id": "8d00db02-c868-4d2d-a306-ea18c1d876ef",
   "metadata": {},
   "outputs": [],
   "source": [
    "train_df, test_df = train_test_split(dataset_st_df, test_size=0.3, random_state=42, stratify=dataset_st_df['label'].to_numpy())"
   ]
  },
  {
   "cell_type": "code",
   "execution_count": 34,
   "id": "be046c30-8228-4cdc-808b-140c8283944e",
   "metadata": {},
   "outputs": [],
   "source": [
    "X_test = test_df[input_columns]\n",
    "y_test = test_df['label']"
   ]
  },
  {
   "cell_type": "code",
   "execution_count": 35,
   "id": "8d69ffe2-efda-442b-b558-1d1c906e9b4a",
   "metadata": {},
   "outputs": [
    {
     "data": {
      "text/plain": [
       "1.0    278784\n",
       "0.0     96088\n",
       "Name: label, dtype: int64"
      ]
     },
     "execution_count": 35,
     "metadata": {},
     "output_type": "execute_result"
    }
   ],
   "source": [
    "train_df['label'].value_counts()"
   ]
  },
  {
   "cell_type": "code",
   "execution_count": 36,
   "id": "792adb7d-d74f-4911-8086-f9acc7c74075",
   "metadata": {},
   "outputs": [],
   "source": [
    "class_1, class_0 = train_df.label.value_counts()\n",
    "c1 = train_df[train_df['label']==1]\n",
    "c0 = train_df[train_df['label']==0]\n",
    "c1_sam = c1.sample(class_0)\n",
    "undersampled_train = pd.concat([c0,c1_sam], axis=0)\n",
    "undersampled_X_train = undersampled_train[input_columns]\n",
    "undersampled_y_train = undersampled_train['label']"
   ]
  },
  {
   "cell_type": "markdown",
   "id": "35651479-6733-44dd-bfc3-336c66b92c91",
   "metadata": {},
   "source": [
    "### Creating Decision Tree"
   ]
  },
  {
   "cell_type": "code",
   "execution_count": 37,
   "id": "e4768546-be92-4979-9c68-d52a32292db6",
   "metadata": {},
   "outputs": [],
   "source": [
    "#Importing Stuff\n",
    "from sklearn.tree import DecisionTreeClassifier\n",
    "from sklearn import metrics\n",
    "from sklearn.metrics import accuracy_score, roc_auc_score\n",
    "from sklearn.metrics import mean_squared_error as MSE\n",
    "from sklearn.datasets import load_iris\n",
    "from sklearn import tree"
   ]
  },
  {
   "cell_type": "code",
   "execution_count": 38,
   "id": "683a178a-fff2-45e1-8e39-d4d88d96c3b0",
   "metadata": {},
   "outputs": [],
   "source": [
    "SEED = 1"
   ]
  },
  {
   "cell_type": "code",
   "execution_count": 39,
   "id": "45fed3de-d1b3-46c3-98aa-e07285a8d2c7",
   "metadata": {},
   "outputs": [],
   "source": [
    "X_train_clf, X_test_clf, y_train_clf, y_test_clf = train_test_split(undersampled_X_train, undersampled_y_train, test_size=0.3,\n",
    "                                                   stratify=undersampled_y_train, random_state=SEED)"
   ]
  },
  {
   "cell_type": "code",
   "execution_count": 40,
   "id": "31528423-dee0-460d-83b6-72d769c51197",
   "metadata": {},
   "outputs": [],
   "source": [
    "clf = DecisionTreeClassifier()"
   ]
  },
  {
   "cell_type": "code",
   "execution_count": 41,
   "id": "0f0451b6-166f-4f2d-99de-388e9df5494f",
   "metadata": {},
   "outputs": [],
   "source": [
    "clf = clf.fit(X_train_clf, y_train_clf)"
   ]
  },
  {
   "cell_type": "code",
   "execution_count": 42,
   "id": "103194ff-189d-49a6-8eb6-d833e4e9d08c",
   "metadata": {},
   "outputs": [],
   "source": [
    "y_pred_clf = clf.predict(X_test_clf)"
   ]
  },
  {
   "cell_type": "code",
   "execution_count": 43,
   "id": "92a8427b-16ca-461f-85a1-b760c16ccc35",
   "metadata": {},
   "outputs": [
    {
     "data": {
      "text/plain": [
       "array([0., 1., 0., ..., 0., 1., 1.])"
      ]
     },
     "execution_count": 43,
     "metadata": {},
     "output_type": "execute_result"
    }
   ],
   "source": [
    "y_pred_clf"
   ]
  },
  {
   "cell_type": "markdown",
   "id": "c2830e1f-186c-419f-9299-2f392041c856",
   "metadata": {},
   "source": [
    "#### Accuracy"
   ]
  },
  {
   "cell_type": "code",
   "execution_count": 44,
   "id": "bf77843b-584d-4d32-87ff-c8033d78d35e",
   "metadata": {},
   "outputs": [
    {
     "name": "stdout",
     "output_type": "stream",
     "text": [
      "Accuracy: 0.8048150139628467\n"
     ]
    }
   ],
   "source": [
    "print(\"Accuracy:\",metrics.accuracy_score(y_test_clf, y_pred_clf))"
   ]
  },
  {
   "cell_type": "code",
   "execution_count": 45,
   "id": "6794bbda-f0eb-4e11-944c-091e26474858",
   "metadata": {},
   "outputs": [],
   "source": [
    "roc_auc_score_clf = roc_auc_score(y_test_clf, y_pred_clf)"
   ]
  },
  {
   "cell_type": "code",
   "execution_count": 46,
   "id": "d427cbd3-fa92-456e-ac6c-1ce9ad58d799",
   "metadata": {},
   "outputs": [
    {
     "name": "stdout",
     "output_type": "stream",
     "text": [
      "ROC AUC Score: 0.80481497870417506579\n"
     ]
    }
   ],
   "source": [
    "print('ROC AUC Score: {:.20f}'.format(roc_auc_score_clf))"
   ]
  },
  {
   "cell_type": "code",
   "execution_count": 47,
   "id": "2a510e2f-9073-42b2-b75a-cf500fe281e4",
   "metadata": {},
   "outputs": [
    {
     "data": {
      "text/plain": [
       "<module 'matplotlib.pyplot' from '/opt/conda/lib/python3.9/site-packages/matplotlib/pyplot.py'>"
      ]
     },
     "execution_count": 47,
     "metadata": {},
     "output_type": "execute_result"
    }
   ],
   "source": [
    "import matplotlib.pyplot as plt\n",
    "from importlib import reload\n",
    "reload(plt)"
   ]
  },
  {
   "cell_type": "code",
   "execution_count": 48,
   "id": "e3e34bfb-419c-4d5c-8f19-633ed49202dc",
   "metadata": {},
   "outputs": [
    {
     "data": {
      "image/png": "[encoded data removed]",
      "text/plain": [
       "<Figure size 432x288 with 1 Axes>"
      ]
     },
     "metadata": {
      "needs_background": "light"
     },
     "output_type": "display_data"
    }
   ],
   "source": [
    "metrics.plot_roc_curve(clf, X_test_clf, y_test_clf)\n",
    "plt.title(\"Boosted Decision Tree ROC Curve\")\n",
    "plt.xlabel(\"False Positive Rate\")\n",
    "plt.ylabel(\"True Positive Rate\")\n",
    "plt.grid(True)"
   ]
  },
  {
   "cell_type": "markdown",
   "id": "fc58fbb0-1837-4924-93bc-f2d74398b86b",
   "metadata": {},
   "source": [
    "### CLF Tuning"
   ]
  },
  {
   "cell_type": "code",
   "execution_count": 49,
   "id": "2d3d87bf-f694-4156-a96f-d14a7cc6a32d",
   "metadata": {},
   "outputs": [],
   "source": [
    "from sklearn.pipeline import Pipeline\n",
    "from sklearn.model_selection import GridSearchCV"
   ]
  },
  {
   "cell_type": "code",
   "execution_count": 50,
   "id": "1c898510-e0e8-4c66-a855-49d34db82302",
   "metadata": {},
   "outputs": [],
   "source": [
    "parameters = {'criterion':['gini', 'entropy'], 'max_depth':[2, 4, 6, 8, 10, 12]} "
   ]
  },
  {
   "cell_type": "code",
   "execution_count": 51,
   "id": "ada613fa-b182-4852-a334-96ad32a0cc27",
   "metadata": {},
   "outputs": [
    {
     "data": {
      "text/plain": [
       "GridSearchCV(estimator=DecisionTreeClassifier(),\n",
       "             param_grid={'criterion': ['gini', 'entropy'],\n",
       "                         'max_depth': [2, 4, 6, 8, 10, 12]})"
      ]
     },
     "execution_count": 51,
     "metadata": {},
     "output_type": "execute_result"
    }
   ],
   "source": [
    "clf_GS = GridSearchCV(clf, parameters)\n",
    "clf_GS.fit(X_train_clf, y_train_clf)"
   ]
  },
  {
   "cell_type": "code",
   "execution_count": 52,
   "id": "ff139ac2-d676-4261-863f-3faddcb75f7a",
   "metadata": {},
   "outputs": [
    {
     "name": "stdout",
     "output_type": "stream",
     "text": [
      "DecisionTreeClassifier(max_depth=6)\n"
     ]
    }
   ],
   "source": [
    "grid_clf_GS = clf_GS.best_estimator_\n",
    "print(grid_clf_GS)"
   ]
  },
  {
   "cell_type": "code",
   "execution_count": null,
   "id": "0e3e0b3f-9f4e-4767-bb0c-d14e54703cf0",
   "metadata": {},
   "outputs": [],
   "source": []
  },
  {
   "cell_type": "markdown",
   "id": "06c5c93d-78cd-4c7d-a54b-a2018d0aad08",
   "metadata": {},
   "source": [
    "### Creating Random Forest Classification"
   ]
  },
  {
   "cell_type": "code",
   "execution_count": 53,
   "id": "3ba3f198-bc19-4d19-8c3e-fdd1ba572e47",
   "metadata": {},
   "outputs": [],
   "source": [
    "from sklearn.ensemble import RandomForestClassifier"
   ]
  },
  {
   "cell_type": "code",
   "execution_count": 54,
   "id": "c0d1c1f9-82d2-473f-846d-8bb1fa0552d4",
   "metadata": {},
   "outputs": [],
   "source": [
    "SEED = 1"
   ]
  },
  {
   "cell_type": "code",
   "execution_count": 55,
   "id": "0ba8f8db-656d-4dd5-9360-19c130a16cc0",
   "metadata": {},
   "outputs": [],
   "source": [
    "X_train_rf, X_test_rf, y_train_rf, y_test_rf = train_test_split(undersampled_X_train, undersampled_y_train, test_size=0.3,\n",
    "                                                   stratify=undersampled_y_train, random_state=SEED)"
   ]
  },
  {
   "cell_type": "code",
   "execution_count": 56,
   "id": "6e6c00fd-cdd8-4919-8731-893bb0acce4d",
   "metadata": {},
   "outputs": [],
   "source": [
    "rf = RandomForestClassifier(random_state=SEED)"
   ]
  },
  {
   "cell_type": "code",
   "execution_count": 57,
   "id": "923e013a-d75e-4d45-8535-10ea871d5251",
   "metadata": {},
   "outputs": [
    {
     "data": {
      "text/plain": [
       "RandomForestClassifier(random_state=1)"
      ]
     },
     "execution_count": 57,
     "metadata": {},
     "output_type": "execute_result"
    }
   ],
   "source": [
    "rf.fit(X_train_rf, y_train_rf)"
   ]
  },
  {
   "cell_type": "code",
   "execution_count": 58,
   "id": "caa70f50-a81a-4fde-a4ef-51b512f84c8f",
   "metadata": {},
   "outputs": [],
   "source": [
    "y_pred_rf = rf.predict(X_test_rf)"
   ]
  },
  {
   "cell_type": "code",
   "execution_count": 59,
   "id": "1aa17c48-b983-4e7e-8fb9-409ffffb9f08",
   "metadata": {},
   "outputs": [
    {
     "data": {
      "text/plain": [
       "array([0., 1., 0., ..., 0., 1., 0.])"
      ]
     },
     "execution_count": 59,
     "metadata": {},
     "output_type": "execute_result"
    }
   ],
   "source": [
    "y_pred_rf"
   ]
  },
  {
   "cell_type": "markdown",
   "id": "46a975a1-c01f-4641-a8e5-a20b2bc6c006",
   "metadata": {},
   "source": [
    "#### Accuracy"
   ]
  },
  {
   "cell_type": "code",
   "execution_count": 60,
   "id": "0968f2a1-4799-4487-8bed-812c333e586a",
   "metadata": {},
   "outputs": [
    {
     "name": "stdout",
     "output_type": "stream",
     "text": [
      "RF test accuracy: 0.86625153938216570282\n"
     ]
    }
   ],
   "source": [
    "print(\"RF test accuracy: %0.20f\" % rf.score(X_test_rf, y_test_rf))"
   ]
  },
  {
   "cell_type": "markdown",
   "id": "b7cfe674-a035-4b4c-9231-c26bee6efb83",
   "metadata": {},
   "source": [
    "#### Random Forest Tuning"
   ]
  },
  {
   "cell_type": "code",
   "execution_count": 62,
   "id": "c85333d1-a6a7-489a-b326-c4aea94f661a",
   "metadata": {},
   "outputs": [],
   "source": [
    "from sklearn.model_selection import RandomizedSearchCV\n",
    "\n",
    "criterion = ['gini', 'entropy']\n",
    "n_estimators = [5, 10, 50, 100]\n",
    "max_depth = [5, 10, 50, 100]\n",
    "bootstrap = [True, False]\n",
    "random_grid = {'n_estimators': n_estimators,\n",
    "               'max_depth': max_depth,\n",
    "               'bootstrap': bootstrap,\n",
    "               'criterion': criterion}\n",
    "\n",
    "print(random_grid)"
   ]
  },
  {
   "cell_type": "code",
   "execution_count": 63,
   "id": "5276366c-0a92-454e-9849-5492ef63cf8a",
   "metadata": {
    "tags": []
   },
   "outputs": [],
   "source": [
    "rf = RandomForestClassifier()\n",
    "rf_random = RandomizedSearchCV(estimator = rf, param_distributions = random_grid, n_iter = 100, cv = 5, verbose=2, random_state=42, n_jobs = -1)\n",
    "rf_random.fit(X_train_rf, y_train_rf)"
   ]
  },
  {
   "cell_type": "code",
   "execution_count": 64,
   "id": "55c3e466-b092-427c-8096-d7cd165a8ec5",
   "metadata": {},
   "outputs": [],
   "source": [
    "rf_random.best_params_"
   ]
  },
  {
   "cell_type": "markdown",
   "id": "00e39305-a827-43e8-b39c-2f3465dd02c1",
   "metadata": {},
   "source": [
    "### AdaBoost Classification"
   ]
  },
  {
   "cell_type": "code",
   "execution_count": 65,
   "id": "97f2ef11-9480-4e88-a30e-b4a63139ea6e",
   "metadata": {
    "tags": []
   },
   "outputs": [],
   "source": [
    "from sklearn.ensemble import AdaBoostClassifier\n",
    "from sklearn.tree import DecisionTreeClassifier\n",
    "from sklearn.metrics import roc_auc_score\n",
    "from sklearn.model_selection import train_test_split"
   ]
  },
  {
   "cell_type": "code",
   "execution_count": 66,
   "id": "4eeb1a66-ab38-4226-b16d-88d5c39075ac",
   "metadata": {},
   "outputs": [],
   "source": [
    "SEED = 1"
   ]
  },
  {
   "cell_type": "code",
   "execution_count": 67,
   "id": "98a401c6-3047-47ed-82bf-9cdb23c2d137",
   "metadata": {},
   "outputs": [],
   "source": [
    "X_train_a, X_test_a, y_train_a, y_test_a = train_test_split(undersampled_X_train, undersampled_y_train, test_size=0.3,\n",
    "                                                   stratify=undersampled_y_train, random_state=SEED)"
   ]
  },
  {
   "cell_type": "code",
   "execution_count": 68,
   "id": "1562a888-5133-41bb-bbba-3b0a0a94e7c6",
   "metadata": {},
   "outputs": [],
   "source": [
    "clf_ada = DecisionTreeClassifier(random_state=SEED)"
   ]
  },
  {
   "cell_type": "code",
   "execution_count": 69,
   "id": "28524385-8a91-4dfd-be3b-5c20ab078490",
   "metadata": {},
   "outputs": [],
   "source": [
    "adb_clf = AdaBoostClassifier(base_estimator=clf_ada)"
   ]
  },
  {
   "cell_type": "code",
   "execution_count": 70,
   "id": "e5a6b6da-a330-4a60-a93d-e3c4d204fe95",
   "metadata": {},
   "outputs": [
    {
     "data": {
      "text/plain": [
       "AdaBoostClassifier(base_estimator=DecisionTreeClassifier(random_state=1))"
      ]
     },
     "execution_count": 70,
     "metadata": {},
     "output_type": "execute_result"
    }
   ],
   "source": [
    "adb_clf.fit(X_train_a, y_train_a)"
   ]
  },
  {
   "cell_type": "markdown",
   "id": "f418cb6d-a2f9-4927-9b23-161ee54db054",
   "metadata": {},
   "source": [
    "#### Accuracy"
   ]
  },
  {
   "cell_type": "code",
   "execution_count": 71,
   "id": "1d17117d-aafc-4f88-bbe8-7e6dbbc42fc2",
   "metadata": {},
   "outputs": [
    {
     "data": {
      "text/plain": [
       "1.0"
      ]
     },
     "execution_count": 71,
     "metadata": {},
     "output_type": "execute_result"
    }
   ],
   "source": [
    "adb_clf.score(X_train_a, y_train_a)"
   ]
  },
  {
   "cell_type": "markdown",
   "id": "ad166316-ea69-4141-9569-617995fbe102",
   "metadata": {},
   "source": [
    "#### AdaBoost Tuning have some problems right now."
   ]
  },
  {
   "cell_type": "markdown",
   "id": "f4fc993b-c8f6-4473-81e4-30e5f45b1559",
   "metadata": {},
   "source": [
    "## Feature Importance"
   ]
  },
  {
   "cell_type": "code",
   "execution_count": 72,
   "id": "aedebbac-2ce4-43cb-a50d-0970c8205ab9",
   "metadata": {},
   "outputs": [],
   "source": [
    "input_columns_new = ['mbb', 'weight', 'njets', 'nbjets', 'ptbb', 'etabb', 'phibb', 'ebb',\n",
    "       'dRbb', 'dEtabb', 'dPhibb', 'mj1', 'ptj1', 'etaj1', 'phij1', 'ej1',\n",
    "       'btagj1', 'qglikelihoodj1', 'mj2', 'ptj2', 'etaj2', 'phij2', 'ej2',\n",
    "       'btagj2', 'qglikelihoodj2', 'mj3', 'ptj3', 'etaj3', 'phij3', 'ej3',\n",
    "       'btagj3', 'qglikelihoodj3', 'dR13', 'dEta13', 'dPhi13', 'dR23',\n",
    "       'dEta23', 'dPhi23', 'mj4', 'ptj4', 'etaj4', 'phij4', 'ej4', 'btagj4',\n",
    "       'qglikelihoodj4']\n",
    "\n",
    "X_test = test_df[input_columns_new]\n",
    "\n",
    "y_test = test_df['label']"
   ]
  },
  {
   "cell_type": "code",
   "execution_count": 73,
   "id": "e55f428e-2839-4c47-92e6-de96646e62c5",
   "metadata": {},
   "outputs": [
    {
     "data": {
      "text/plain": [
       "0.0    96088\n",
       "1.0    96088\n",
       "Name: label, dtype: int64"
      ]
     },
     "execution_count": 73,
     "metadata": {},
     "output_type": "execute_result"
    }
   ],
   "source": [
    "class_1, class_0 = train_df.label.value_counts()\n",
    "c1 = train_df[train_df['label']==1]\n",
    "c0 = train_df[train_df['label']==0]\n",
    "c1_sam = c1.sample(class_0)\n",
    "undersampled_train = pd.concat([c0,c1_sam], axis=0)\n",
    "undersampled_train['label'].value_counts()"
   ]
  },
  {
   "cell_type": "code",
   "execution_count": 74,
   "id": "08038b12-b8f1-4206-ac81-2911260a68f2",
   "metadata": {},
   "outputs": [
    {
     "name": "stdout",
     "output_type": "stream",
     "text": [
      "Feature Importance =[0.10925858 0.01785892 0.02129761 0.02291451 0.0219082  0.02069702\n",
      " 0.02274544 0.18271062 0.02115834 0.05945075]\n"
     ]
    }
   ],
   "source": [
    "feat_importance = clf.tree_.compute_feature_importances(normalize=False)\n",
    "print(\"Feature Importance =\" + str(feat_importance))"
   ]
  },
  {
   "cell_type": "code",
   "execution_count": 75,
   "id": "d98ed13c-aed8-4732-a809-944c1dfcebcd",
   "metadata": {},
   "outputs": [
    {
     "data": {
      "text/plain": [
       "array([0.2229935 , 0.03733432, 0.04256035, 0.04006733, 0.04457089,\n",
       "       0.04322257, 0.0430513 , 0.36849966, 0.04244863, 0.11525144])"
      ]
     },
     "execution_count": 75,
     "metadata": {},
     "output_type": "execute_result"
    }
   ],
   "source": [
    "tree = clf.fit(X_test_clf, y_test_clf)\n",
    "tree.feature_importances_"
   ]
  },
  {
   "cell_type": "code",
   "execution_count": 76,
   "id": "bb49e01f-d75d-41d8-899c-ae3a746afb08",
   "metadata": {},
   "outputs": [
    {
     "data": {
      "text/html": [
       "<div>\n",
       "<style scoped>\n",
       "    .dataframe tbody tr th:only-of-type {\n",
       "        vertical-align: middle;\n",
       "    }\n",
       "\n",
       "    .dataframe tbody tr th {\n",
       "        vertical-align: top;\n",
       "    }\n",
       "\n",
       "    .dataframe thead th {\n",
       "        text-align: right;\n",
       "    }\n",
       "</style>\n",
       "<table border=\"1\" class=\"dataframe\">\n",
       "  <thead>\n",
       "    <tr style=\"text-align: right;\">\n",
       "      <th></th>\n",
       "      <th>feature importance</th>\n",
       "    </tr>\n",
       "  </thead>\n",
       "  <tbody>\n",
       "    <tr>\n",
       "      <th>0</th>\n",
       "      <td>0.222993</td>\n",
       "    </tr>\n",
       "    <tr>\n",
       "      <th>1</th>\n",
       "      <td>0.037334</td>\n",
       "    </tr>\n",
       "    <tr>\n",
       "      <th>2</th>\n",
       "      <td>0.042560</td>\n",
       "    </tr>\n",
       "    <tr>\n",
       "      <th>3</th>\n",
       "      <td>0.040067</td>\n",
       "    </tr>\n",
       "    <tr>\n",
       "      <th>4</th>\n",
       "      <td>0.044571</td>\n",
       "    </tr>\n",
       "    <tr>\n",
       "      <th>5</th>\n",
       "      <td>0.043223</td>\n",
       "    </tr>\n",
       "    <tr>\n",
       "      <th>6</th>\n",
       "      <td>0.043051</td>\n",
       "    </tr>\n",
       "    <tr>\n",
       "      <th>7</th>\n",
       "      <td>0.368500</td>\n",
       "    </tr>\n",
       "    <tr>\n",
       "      <th>8</th>\n",
       "      <td>0.042449</td>\n",
       "    </tr>\n",
       "    <tr>\n",
       "      <th>9</th>\n",
       "      <td>0.115251</td>\n",
       "    </tr>\n",
       "  </tbody>\n",
       "</table>\n",
       "</div>"
      ],
      "text/plain": [
       "   feature importance\n",
       "0            0.222993\n",
       "1            0.037334\n",
       "2            0.042560\n",
       "3            0.040067\n",
       "4            0.044571\n",
       "5            0.043223\n",
       "6            0.043051\n",
       "7            0.368500\n",
       "8            0.042449\n",
       "9            0.115251"
      ]
     },
     "execution_count": 76,
     "metadata": {},
     "output_type": "execute_result"
    }
   ],
   "source": [
    "feat_imp = pd.DataFrame(tree.feature_importances_, columns=['feature importance'])\n",
    "feat_imp"
   ]
  },
  {
   "cell_type": "code",
   "execution_count": 77,
   "id": "73818712-0898-4890-8c68-ca6d776c58e9",
   "metadata": {},
   "outputs": [
    {
     "data": {
      "text/html": [
       "<div>\n",
       "<style scoped>\n",
       "    .dataframe tbody tr th:only-of-type {\n",
       "        vertical-align: middle;\n",
       "    }\n",
       "\n",
       "    .dataframe tbody tr th {\n",
       "        vertical-align: top;\n",
       "    }\n",
       "\n",
       "    .dataframe thead th {\n",
       "        text-align: right;\n",
       "    }\n",
       "</style>\n",
       "<table border=\"1\" class=\"dataframe\">\n",
       "  <thead>\n",
       "    <tr style=\"text-align: right;\">\n",
       "      <th></th>\n",
       "      <th>feature importance</th>\n",
       "      <th>feature</th>\n",
       "    </tr>\n",
       "  </thead>\n",
       "  <tbody>\n",
       "    <tr>\n",
       "      <th>0</th>\n",
       "      <td>0.222993</td>\n",
       "      <td>mbb</td>\n",
       "    </tr>\n",
       "    <tr>\n",
       "      <th>1</th>\n",
       "      <td>0.037334</td>\n",
       "      <td>nbjets</td>\n",
       "    </tr>\n",
       "    <tr>\n",
       "      <th>2</th>\n",
       "      <td>0.042560</td>\n",
       "      <td>dEtabb</td>\n",
       "    </tr>\n",
       "    <tr>\n",
       "      <th>3</th>\n",
       "      <td>0.040067</td>\n",
       "      <td>mj1</td>\n",
       "    </tr>\n",
       "    <tr>\n",
       "      <th>4</th>\n",
       "      <td>0.044571</td>\n",
       "      <td>btagj1</td>\n",
       "    </tr>\n",
       "    <tr>\n",
       "      <th>5</th>\n",
       "      <td>0.043223</td>\n",
       "      <td>qglikelihoodj1</td>\n",
       "    </tr>\n",
       "    <tr>\n",
       "      <th>6</th>\n",
       "      <td>0.043051</td>\n",
       "      <td>mj2</td>\n",
       "    </tr>\n",
       "    <tr>\n",
       "      <th>7</th>\n",
       "      <td>0.368500</td>\n",
       "      <td>btagj2</td>\n",
       "    </tr>\n",
       "    <tr>\n",
       "      <th>8</th>\n",
       "      <td>0.042449</td>\n",
       "      <td>qglikelihoodj2</td>\n",
       "    </tr>\n",
       "    <tr>\n",
       "      <th>9</th>\n",
       "      <td>0.115251</td>\n",
       "      <td>btagj3</td>\n",
       "    </tr>\n",
       "  </tbody>\n",
       "</table>\n",
       "</div>"
      ],
      "text/plain": [
       "   feature importance         feature\n",
       "0            0.222993             mbb\n",
       "1            0.037334          nbjets\n",
       "2            0.042560          dEtabb\n",
       "3            0.040067             mj1\n",
       "4            0.044571          btagj1\n",
       "5            0.043223  qglikelihoodj1\n",
       "6            0.043051             mj2\n",
       "7            0.368500          btagj2\n",
       "8            0.042449  qglikelihoodj2\n",
       "9            0.115251          btagj3"
      ]
     },
     "execution_count": 77,
     "metadata": {},
     "output_type": "execute_result"
    }
   ],
   "source": [
    "feat_imp['feature']= input_columns\n",
    "feat_imp"
   ]
  },
  {
   "cell_type": "code",
   "execution_count": 78,
   "id": "df01f06c-7e48-4b84-8441-91f942cf07ae",
   "metadata": {},
   "outputs": [
    {
     "data": {
      "image/png": "[encoded data removed]",
      "text/plain": [
       "<Figure size 432x288 with 1 Axes>"
      ]
     },
     "metadata": {},
     "output_type": "display_data"
    }
   ],
   "source": [
    "import seaborn as sns\n",
    "sns.set_theme(style=\"whitegrid\")\n",
    "ax = sns.barplot(y=\"feature\", x=\"feature importance\", data=feat_imp)"
   ]
  },
  {
   "cell_type": "markdown",
   "id": "6b0f176d-98fc-4b41-bcf1-592c70bfcecc",
   "metadata": {},
   "source": [
    "#### ;-; use random forest and its tuned parameters for best results (currently, because the ADABOOST have some flaws and the score might not be accurate)"
   ]
  },
  {
   "cell_type": "code",
   "execution_count": null,
   "id": "c79cfe65-6c13-494d-b8a4-d5a6bc3a1085",
   "metadata": {},
   "outputs": [],
   "source": []
  }
 ],
 "metadata": {
  "kernelspec": {
   "display_name": "Python 3",
   "language": "python",
   "name": "python3"
  },
  "language_info": {
   "codemirror_mode": {
    "name": "ipython",
    "version": 3
   },
   "file_extension": ".py",
   "mimetype": "text/x-python",
   "name": "python",
   "nbconvert_exporter": "python",
   "pygments_lexer": "ipython3",
   "version": "3.9.2"
  }
 },
 "nbformat": 4,
 "nbformat_minor": 5
}

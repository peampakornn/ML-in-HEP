{
 "cells": [
  {
   "cell_type": "markdown",
   "id": "b06fd073-3a69-4800-b6e2-509b08191eec",
   "metadata": {},
   "source": [
    "# Decision Tree Classifier"
   ]
  },
  {
   "cell_type": "code",
   "execution_count": 1,
   "id": "ac10147c-bd17-4736-aaa5-ed7a3a44a0af",
   "metadata": {
    "tags": []
   },
   "outputs": [
    {
     "name": "stdout",
     "output_type": "stream",
     "text": [
      "Requirement already satisfied: scikit-learn in /opt/conda/lib/python3.9/site-packages (0.24.2)\n",
      "Requirement already satisfied: joblib>=0.11 in /opt/conda/lib/python3.9/site-packages (from scikit-learn) (1.0.1)\n",
      "Requirement already satisfied: scipy>=0.19.1 in /opt/conda/lib/python3.9/site-packages (from scikit-learn) (1.6.3)\n",
      "Requirement already satisfied: threadpoolctl>=2.0.0 in /opt/conda/lib/python3.9/site-packages (from scikit-learn) (2.1.0)\n",
      "Requirement already satisfied: numpy>=1.13.3 in /opt/conda/lib/python3.9/site-packages (from scikit-learn) (1.19.5)\n"
     ]
    }
   ],
   "source": [
    "!pip install scikit-learn"
   ]
  },
  {
   "cell_type": "code",
   "execution_count": 2,
   "id": "b3cafc21-6d43-4ff0-9f0f-531beb21187a",
   "metadata": {},
   "outputs": [],
   "source": [
    "import keras\n",
    "import numpy as np\n",
    "import pandas as pd\n",
    "import matplotlib.pyplot as plt"
   ]
  },
  {
   "cell_type": "markdown",
   "id": "d1583494-13f5-4578-9fa4-34910dd215ec",
   "metadata": {},
   "source": [
    "# Preprocessing"
   ]
  },
  {
   "cell_type": "code",
   "execution_count": 3,
   "id": "99284db8-614b-426a-a94b-faee4af2303a",
   "metadata": {},
   "outputs": [
    {
     "data": {
      "text/html": [
       "<div>\n",
       "<style scoped>\n",
       "    .dataframe tbody tr th:only-of-type {\n",
       "        vertical-align: middle;\n",
       "    }\n",
       "\n",
       "    .dataframe tbody tr th {\n",
       "        vertical-align: top;\n",
       "    }\n",
       "\n",
       "    .dataframe thead th {\n",
       "        text-align: right;\n",
       "    }\n",
       "</style>\n",
       "<table border=\"1\" class=\"dataframe\">\n",
       "  <thead>\n",
       "    <tr style=\"text-align: right;\">\n",
       "      <th></th>\n",
       "      <th>Unnamed: 0</th>\n",
       "      <th>mbb</th>\n",
       "      <th>weight</th>\n",
       "      <th>njets</th>\n",
       "      <th>nbjets</th>\n",
       "      <th>ptbb</th>\n",
       "      <th>etabb</th>\n",
       "      <th>phibb</th>\n",
       "      <th>ebb</th>\n",
       "      <th>dRbb</th>\n",
       "      <th>...</th>\n",
       "      <th>dEta23</th>\n",
       "      <th>dPhi23</th>\n",
       "      <th>mj4</th>\n",
       "      <th>ptj4</th>\n",
       "      <th>etaj4</th>\n",
       "      <th>phij4</th>\n",
       "      <th>ej4</th>\n",
       "      <th>btagj4</th>\n",
       "      <th>qglikelihoodj4</th>\n",
       "      <th>label</th>\n",
       "    </tr>\n",
       "  </thead>\n",
       "  <tbody>\n",
       "    <tr>\n",
       "      <th>0</th>\n",
       "      <td>0</td>\n",
       "      <td>128.748718</td>\n",
       "      <td>1.266521</td>\n",
       "      <td>7</td>\n",
       "      <td>2</td>\n",
       "      <td>135.384552</td>\n",
       "      <td>-0.805419</td>\n",
       "      <td>-0.574222</td>\n",
       "      <td>222.708755</td>\n",
       "      <td>1.975177</td>\n",
       "      <td>...</td>\n",
       "      <td>2.923688</td>\n",
       "      <td>2.859488</td>\n",
       "      <td>5.701911</td>\n",
       "      <td>29.570999</td>\n",
       "      <td>0.633291</td>\n",
       "      <td>2.527016</td>\n",
       "      <td>36.154144</td>\n",
       "      <td>0.750850</td>\n",
       "      <td>0.563677</td>\n",
       "      <td>1.0</td>\n",
       "    </tr>\n",
       "    <tr>\n",
       "      <th>1</th>\n",
       "      <td>1</td>\n",
       "      <td>323.834320</td>\n",
       "      <td>1.221307</td>\n",
       "      <td>8</td>\n",
       "      <td>4</td>\n",
       "      <td>78.824593</td>\n",
       "      <td>-1.744408</td>\n",
       "      <td>-0.241483</td>\n",
       "      <td>398.609894</td>\n",
       "      <td>2.956917</td>\n",
       "      <td>...</td>\n",
       "      <td>1.669306</td>\n",
       "      <td>0.536129</td>\n",
       "      <td>5.549069</td>\n",
       "      <td>23.957195</td>\n",
       "      <td>-4.069767</td>\n",
       "      <td>2.107588</td>\n",
       "      <td>701.493103</td>\n",
       "      <td>0.054843</td>\n",
       "      <td>0.040889</td>\n",
       "      <td>1.0</td>\n",
       "    </tr>\n",
       "    <tr>\n",
       "      <th>2</th>\n",
       "      <td>2</td>\n",
       "      <td>288.848236</td>\n",
       "      <td>0.858359</td>\n",
       "      <td>4</td>\n",
       "      <td>3</td>\n",
       "      <td>82.293976</td>\n",
       "      <td>1.627124</td>\n",
       "      <td>1.730240</td>\n",
       "      <td>361.573914</td>\n",
       "      <td>2.707124</td>\n",
       "      <td>...</td>\n",
       "      <td>0.954234</td>\n",
       "      <td>1.812456</td>\n",
       "      <td>4.562911</td>\n",
       "      <td>28.454098</td>\n",
       "      <td>1.619449</td>\n",
       "      <td>-1.027924</td>\n",
       "      <td>74.807343</td>\n",
       "      <td>0.728906</td>\n",
       "      <td>0.884353</td>\n",
       "      <td>1.0</td>\n",
       "    </tr>\n",
       "    <tr>\n",
       "      <th>3</th>\n",
       "      <td>3</td>\n",
       "      <td>107.835846</td>\n",
       "      <td>0.050859</td>\n",
       "      <td>4</td>\n",
       "      <td>3</td>\n",
       "      <td>17.217613</td>\n",
       "      <td>-3.646276</td>\n",
       "      <td>-2.009611</td>\n",
       "      <td>347.376099</td>\n",
       "      <td>2.877990</td>\n",
       "      <td>...</td>\n",
       "      <td>3.567277</td>\n",
       "      <td>2.119354</td>\n",
       "      <td>3.452726</td>\n",
       "      <td>16.632441</td>\n",
       "      <td>-0.966053</td>\n",
       "      <td>-1.661778</td>\n",
       "      <td>25.253466</td>\n",
       "      <td>0.046178</td>\n",
       "      <td>-1.000000</td>\n",
       "      <td>1.0</td>\n",
       "    </tr>\n",
       "    <tr>\n",
       "      <th>4</th>\n",
       "      <td>4</td>\n",
       "      <td>248.304901</td>\n",
       "      <td>0.958807</td>\n",
       "      <td>7</td>\n",
       "      <td>3</td>\n",
       "      <td>28.405352</td>\n",
       "      <td>1.845880</td>\n",
       "      <td>-0.232091</td>\n",
       "      <td>264.869232</td>\n",
       "      <td>3.197687</td>\n",
       "      <td>...</td>\n",
       "      <td>1.064546</td>\n",
       "      <td>0.832365</td>\n",
       "      <td>10.167414</td>\n",
       "      <td>50.971561</td>\n",
       "      <td>1.470771</td>\n",
       "      <td>-2.602962</td>\n",
       "      <td>117.226265</td>\n",
       "      <td>0.663049</td>\n",
       "      <td>0.088564</td>\n",
       "      <td>1.0</td>\n",
       "    </tr>\n",
       "    <tr>\n",
       "      <th>...</th>\n",
       "      <td>...</td>\n",
       "      <td>...</td>\n",
       "      <td>...</td>\n",
       "      <td>...</td>\n",
       "      <td>...</td>\n",
       "      <td>...</td>\n",
       "      <td>...</td>\n",
       "      <td>...</td>\n",
       "      <td>...</td>\n",
       "      <td>...</td>\n",
       "      <td>...</td>\n",
       "      <td>...</td>\n",
       "      <td>...</td>\n",
       "      <td>...</td>\n",
       "      <td>...</td>\n",
       "      <td>...</td>\n",
       "      <td>...</td>\n",
       "      <td>...</td>\n",
       "      <td>...</td>\n",
       "      <td>...</td>\n",
       "      <td>...</td>\n",
       "    </tr>\n",
       "    <tr>\n",
       "      <th>535527</th>\n",
       "      <td>535527</td>\n",
       "      <td>667.028137</td>\n",
       "      <td>1.109031</td>\n",
       "      <td>11</td>\n",
       "      <td>0</td>\n",
       "      <td>157.071304</td>\n",
       "      <td>1.240662</td>\n",
       "      <td>2.938507</td>\n",
       "      <td>729.059326</td>\n",
       "      <td>2.864907</td>\n",
       "      <td>...</td>\n",
       "      <td>0.315239</td>\n",
       "      <td>1.585665</td>\n",
       "      <td>6.828758</td>\n",
       "      <td>27.807114</td>\n",
       "      <td>-0.200469</td>\n",
       "      <td>-1.394060</td>\n",
       "      <td>29.178085</td>\n",
       "      <td>0.006265</td>\n",
       "      <td>0.069917</td>\n",
       "      <td>0.0</td>\n",
       "    </tr>\n",
       "    <tr>\n",
       "      <th>535528</th>\n",
       "      <td>535528</td>\n",
       "      <td>419.362488</td>\n",
       "      <td>1.109031</td>\n",
       "      <td>9</td>\n",
       "      <td>3</td>\n",
       "      <td>156.225861</td>\n",
       "      <td>1.433436</td>\n",
       "      <td>1.757243</td>\n",
       "      <td>543.777222</td>\n",
       "      <td>2.527981</td>\n",
       "      <td>...</td>\n",
       "      <td>0.575097</td>\n",
       "      <td>2.420889</td>\n",
       "      <td>15.599944</td>\n",
       "      <td>76.274765</td>\n",
       "      <td>2.903633</td>\n",
       "      <td>-1.856060</td>\n",
       "      <td>697.902283</td>\n",
       "      <td>0.027318</td>\n",
       "      <td>0.135313</td>\n",
       "      <td>0.0</td>\n",
       "    </tr>\n",
       "    <tr>\n",
       "      <th>535529</th>\n",
       "      <td>535529</td>\n",
       "      <td>607.648499</td>\n",
       "      <td>1.189336</td>\n",
       "      <td>9</td>\n",
       "      <td>1</td>\n",
       "      <td>263.931030</td>\n",
       "      <td>1.292060</td>\n",
       "      <td>-2.004730</td>\n",
       "      <td>797.593994</td>\n",
       "      <td>2.442989</td>\n",
       "      <td>...</td>\n",
       "      <td>1.081903</td>\n",
       "      <td>1.396448</td>\n",
       "      <td>18.860130</td>\n",
       "      <td>143.125443</td>\n",
       "      <td>1.419641</td>\n",
       "      <td>0.369972</td>\n",
       "      <td>313.828522</td>\n",
       "      <td>0.019559</td>\n",
       "      <td>0.061828</td>\n",
       "      <td>0.0</td>\n",
       "    </tr>\n",
       "    <tr>\n",
       "      <th>535530</th>\n",
       "      <td>535530</td>\n",
       "      <td>435.928528</td>\n",
       "      <td>1.266521</td>\n",
       "      <td>10</td>\n",
       "      <td>3</td>\n",
       "      <td>185.856598</td>\n",
       "      <td>-2.017686</td>\n",
       "      <td>-2.084546</td>\n",
       "      <td>834.221619</td>\n",
       "      <td>2.354301</td>\n",
       "      <td>...</td>\n",
       "      <td>1.524903</td>\n",
       "      <td>1.770393</td>\n",
       "      <td>8.116883</td>\n",
       "      <td>44.363911</td>\n",
       "      <td>-1.131178</td>\n",
       "      <td>2.052008</td>\n",
       "      <td>76.338470</td>\n",
       "      <td>0.010020</td>\n",
       "      <td>0.319553</td>\n",
       "      <td>0.0</td>\n",
       "    </tr>\n",
       "    <tr>\n",
       "      <th>535531</th>\n",
       "      <td>535531</td>\n",
       "      <td>640.478699</td>\n",
       "      <td>0.012480</td>\n",
       "      <td>8</td>\n",
       "      <td>1</td>\n",
       "      <td>113.113647</td>\n",
       "      <td>3.460736</td>\n",
       "      <td>2.748201</td>\n",
       "      <td>1912.972656</td>\n",
       "      <td>3.223667</td>\n",
       "      <td>...</td>\n",
       "      <td>2.842847</td>\n",
       "      <td>2.405670</td>\n",
       "      <td>11.715548</td>\n",
       "      <td>69.232140</td>\n",
       "      <td>-0.504456</td>\n",
       "      <td>-0.815683</td>\n",
       "      <td>79.101883</td>\n",
       "      <td>0.003234</td>\n",
       "      <td>0.840745</td>\n",
       "      <td>0.0</td>\n",
       "    </tr>\n",
       "  </tbody>\n",
       "</table>\n",
       "<p>535532 rows × 47 columns</p>\n",
       "</div>"
      ],
      "text/plain": [
       "        Unnamed: 0         mbb    weight  njets  nbjets        ptbb     etabb  \\\n",
       "0                0  128.748718  1.266521      7       2  135.384552 -0.805419   \n",
       "1                1  323.834320  1.221307      8       4   78.824593 -1.744408   \n",
       "2                2  288.848236  0.858359      4       3   82.293976  1.627124   \n",
       "3                3  107.835846  0.050859      4       3   17.217613 -3.646276   \n",
       "4                4  248.304901  0.958807      7       3   28.405352  1.845880   \n",
       "...            ...         ...       ...    ...     ...         ...       ...   \n",
       "535527      535527  667.028137  1.109031     11       0  157.071304  1.240662   \n",
       "535528      535528  419.362488  1.109031      9       3  156.225861  1.433436   \n",
       "535529      535529  607.648499  1.189336      9       1  263.931030  1.292060   \n",
       "535530      535530  435.928528  1.266521     10       3  185.856598 -2.017686   \n",
       "535531      535531  640.478699  0.012480      8       1  113.113647  3.460736   \n",
       "\n",
       "           phibb          ebb      dRbb  ...    dEta23    dPhi23        mj4  \\\n",
       "0      -0.574222   222.708755  1.975177  ...  2.923688  2.859488   5.701911   \n",
       "1      -0.241483   398.609894  2.956917  ...  1.669306  0.536129   5.549069   \n",
       "2       1.730240   361.573914  2.707124  ...  0.954234  1.812456   4.562911   \n",
       "3      -2.009611   347.376099  2.877990  ...  3.567277  2.119354   3.452726   \n",
       "4      -0.232091   264.869232  3.197687  ...  1.064546  0.832365  10.167414   \n",
       "...          ...          ...       ...  ...       ...       ...        ...   \n",
       "535527  2.938507   729.059326  2.864907  ...  0.315239  1.585665   6.828758   \n",
       "535528  1.757243   543.777222  2.527981  ...  0.575097  2.420889  15.599944   \n",
       "535529 -2.004730   797.593994  2.442989  ...  1.081903  1.396448  18.860130   \n",
       "535530 -2.084546   834.221619  2.354301  ...  1.524903  1.770393   8.116883   \n",
       "535531  2.748201  1912.972656  3.223667  ...  2.842847  2.405670  11.715548   \n",
       "\n",
       "              ptj4     etaj4     phij4         ej4    btagj4  qglikelihoodj4  \\\n",
       "0        29.570999  0.633291  2.527016   36.154144  0.750850        0.563677   \n",
       "1        23.957195 -4.069767  2.107588  701.493103  0.054843        0.040889   \n",
       "2        28.454098  1.619449 -1.027924   74.807343  0.728906        0.884353   \n",
       "3        16.632441 -0.966053 -1.661778   25.253466  0.046178       -1.000000   \n",
       "4        50.971561  1.470771 -2.602962  117.226265  0.663049        0.088564   \n",
       "...            ...       ...       ...         ...       ...             ...   \n",
       "535527   27.807114 -0.200469 -1.394060   29.178085  0.006265        0.069917   \n",
       "535528   76.274765  2.903633 -1.856060  697.902283  0.027318        0.135313   \n",
       "535529  143.125443  1.419641  0.369972  313.828522  0.019559        0.061828   \n",
       "535530   44.363911 -1.131178  2.052008   76.338470  0.010020        0.319553   \n",
       "535531   69.232140 -0.504456 -0.815683   79.101883  0.003234        0.840745   \n",
       "\n",
       "        label  \n",
       "0         1.0  \n",
       "1         1.0  \n",
       "2         1.0  \n",
       "3         1.0  \n",
       "4         1.0  \n",
       "...       ...  \n",
       "535527    0.0  \n",
       "535528    0.0  \n",
       "535529    0.0  \n",
       "535530    0.0  \n",
       "535531    0.0  \n",
       "\n",
       "[535532 rows x 47 columns]"
      ]
     },
     "execution_count": 3,
     "metadata": {},
     "output_type": "execute_result"
    }
   ],
   "source": [
    "dataset_df = pd.read_csv('dataset_new.csv')\n",
    "dataset_df"
   ]
  },
  {
   "cell_type": "code",
   "execution_count": 4,
   "id": "652c0342-8eee-4164-b678-011f71852580",
   "metadata": {},
   "outputs": [],
   "source": [
    "from sklearn import preprocessing"
   ]
  },
  {
   "cell_type": "code",
   "execution_count": 5,
   "id": "ef251939-6e57-4646-ad41-9cacf4ae1066",
   "metadata": {},
   "outputs": [
    {
     "data": {
      "text/plain": [
       "array([[-0.65847977],\n",
       "       [ 0.09501579],\n",
       "       [-0.04011391],\n",
       "       [-0.73925332],\n",
       "       [-0.19670785]])"
      ]
     },
     "execution_count": 5,
     "metadata": {},
     "output_type": "execute_result"
    }
   ],
   "source": [
    "scaler = preprocessing.StandardScaler()\n",
    "scaler.fit(dataset_df[['mbb']])\n",
    "z = scaler.transform(dataset_df[['mbb']])\n",
    "z[:5]"
   ]
  },
  {
   "cell_type": "code",
   "execution_count": 6,
   "id": "48c19775-3d75-4480-a3f6-9b2c5e673090",
   "metadata": {
    "tags": []
   },
   "outputs": [
    {
     "name": "stdout",
     "output_type": "stream",
     "text": [
      "mean = 1.6983013186381548e-17\n",
      "std = 0.9999999999999999\n"
     ]
    }
   ],
   "source": [
    "print(f'mean = {z.mean()}')\n",
    "print(f'std = {z.std()}')"
   ]
  },
  {
   "cell_type": "code",
   "execution_count": 7,
   "id": "db772bd2-6a3e-4a5c-9fd3-1f4f478714f0",
   "metadata": {},
   "outputs": [
    {
     "data": {
      "text/plain": [
       "Index(['Unnamed: 0', 'mbb', 'weight', 'njets', 'nbjets', 'ptbb', 'etabb',\n",
       "       'phibb', 'ebb', 'dRbb', 'dEtabb', 'dPhibb', 'mj1', 'ptj1', 'etaj1',\n",
       "       'phij1', 'ej1', 'btagj1', 'qglikelihoodj1', 'mj2', 'ptj2', 'etaj2',\n",
       "       'phij2', 'ej2', 'btagj2', 'qglikelihoodj2', 'mj3', 'ptj3', 'etaj3',\n",
       "       'phij3', 'ej3', 'btagj3', 'qglikelihoodj3', 'dR13', 'dEta13', 'dPhi13',\n",
       "       'dR23', 'dEta23', 'dPhi23', 'mj4', 'ptj4', 'etaj4', 'phij4', 'ej4',\n",
       "       'btagj4', 'qglikelihoodj4', 'label'],\n",
       "      dtype='object')"
      ]
     },
     "execution_count": 7,
     "metadata": {},
     "output_type": "execute_result"
    }
   ],
   "source": [
    "dataset_df.columns"
   ]
  },
  {
   "cell_type": "code",
   "execution_count": 8,
   "id": "7e463a7f-9ce4-46a0-b4da-2c7cc4daf3b1",
   "metadata": {},
   "outputs": [],
   "source": [
    "scaler = preprocessing.StandardScaler()\n",
    "cols = dataset_df[['Unnamed: 0', 'mbb', 'weight', 'njets', 'nbjets', 'ptbb', 'etabb',\n",
    "       'phibb', 'ebb', 'dRbb', 'dEtabb', 'dPhibb', 'mj1', 'ptj1', 'etaj1',\n",
    "       'phij1', 'ej1', 'btagj1', 'qglikelihoodj1', 'mj2', 'ptj2', 'etaj2',\n",
    "       'phij2', 'ej2', 'btagj2', 'qglikelihoodj2', 'mj3', 'ptj3', 'etaj3',\n",
    "       'phij3', 'ej3', 'btagj3', 'qglikelihoodj3', 'dR13', 'dEta13', 'dPhi13',\n",
    "       'dR23', 'dEta23', 'dPhi23', 'mj4', 'ptj4', 'etaj4', 'phij4', 'ej4',\n",
    "       'btagj4', 'qglikelihoodj4', 'label']]\n",
    "scaler.fit(cols)\n",
    "z = scaler.transform(cols)"
   ]
  },
  {
   "cell_type": "code",
   "execution_count": 9,
   "id": "8b7dfe8f-db1d-44fc-954d-7b4deb918467",
   "metadata": {
    "scrolled": true
   },
   "outputs": [],
   "source": [
    "z_df = pd.DataFrame(z, columns=['Unnamed: 0', 'mbb', 'weight', 'njets', 'nbjets', 'ptbb', 'etabb',\n",
    "       'phibb', 'ebb', 'dRbb', 'dEtabb', 'dPhibb', 'mj1', 'ptj1', 'etaj1',\n",
    "       'phij1', 'ej1', 'btagj1', 'qglikelihoodj1', 'mj2', 'ptj2', 'etaj2',\n",
    "       'phij2', 'ej2', 'btagj2', 'qglikelihoodj2', 'mj3', 'ptj3', 'etaj3',\n",
    "       'phij3', 'ej3', 'btagj3', 'qglikelihoodj3', 'dR13', 'dEta13', 'dPhi13',\n",
    "       'dR23', 'dEta23', 'dPhi23', 'mj4', 'ptj4', 'etaj4', 'phij4', 'ej4',\n",
    "       'btagj4', 'qglikelihoodj4', 'label'])"
   ]
  },
  {
   "cell_type": "code",
   "execution_count": 10,
   "id": "995ea26f-8ef1-4272-85db-d2f7c2f91b7a",
   "metadata": {},
   "outputs": [],
   "source": [
    "z_df['label'] = dataset_df['label']"
   ]
  },
  {
   "cell_type": "code",
   "execution_count": 11,
   "id": "10c42cf5-2055-4600-9036-ec996e8f8da1",
   "metadata": {},
   "outputs": [],
   "source": [
    "z_df = z_df.drop('Unnamed: 0', axis=1)"
   ]
  },
  {
   "cell_type": "code",
   "execution_count": 12,
   "id": "130a806a-e6b5-4237-aa54-1a1cc1b36d22",
   "metadata": {},
   "outputs": [
    {
     "data": {
      "text/html": [
       "<div>\n",
       "<style scoped>\n",
       "    .dataframe tbody tr th:only-of-type {\n",
       "        vertical-align: middle;\n",
       "    }\n",
       "\n",
       "    .dataframe tbody tr th {\n",
       "        vertical-align: top;\n",
       "    }\n",
       "\n",
       "    .dataframe thead th {\n",
       "        text-align: right;\n",
       "    }\n",
       "</style>\n",
       "<table border=\"1\" class=\"dataframe\">\n",
       "  <thead>\n",
       "    <tr style=\"text-align: right;\">\n",
       "      <th></th>\n",
       "      <th>mbb</th>\n",
       "      <th>weight</th>\n",
       "      <th>njets</th>\n",
       "      <th>nbjets</th>\n",
       "      <th>ptbb</th>\n",
       "      <th>etabb</th>\n",
       "      <th>phibb</th>\n",
       "      <th>ebb</th>\n",
       "      <th>dRbb</th>\n",
       "      <th>dEtabb</th>\n",
       "      <th>...</th>\n",
       "      <th>dEta23</th>\n",
       "      <th>dPhi23</th>\n",
       "      <th>mj4</th>\n",
       "      <th>ptj4</th>\n",
       "      <th>etaj4</th>\n",
       "      <th>phij4</th>\n",
       "      <th>ej4</th>\n",
       "      <th>btagj4</th>\n",
       "      <th>qglikelihoodj4</th>\n",
       "      <th>label</th>\n",
       "    </tr>\n",
       "  </thead>\n",
       "  <tbody>\n",
       "    <tr>\n",
       "      <th>count</th>\n",
       "      <td>5.355320e+05</td>\n",
       "      <td>5.355320e+05</td>\n",
       "      <td>5.355320e+05</td>\n",
       "      <td>5.355320e+05</td>\n",
       "      <td>5.355320e+05</td>\n",
       "      <td>5.355320e+05</td>\n",
       "      <td>5.355320e+05</td>\n",
       "      <td>5.355320e+05</td>\n",
       "      <td>5.355320e+05</td>\n",
       "      <td>5.355320e+05</td>\n",
       "      <td>...</td>\n",
       "      <td>5.355320e+05</td>\n",
       "      <td>5.355320e+05</td>\n",
       "      <td>5.355320e+05</td>\n",
       "      <td>5.355320e+05</td>\n",
       "      <td>5.355320e+05</td>\n",
       "      <td>5.355320e+05</td>\n",
       "      <td>5.355320e+05</td>\n",
       "      <td>5.355320e+05</td>\n",
       "      <td>5.355320e+05</td>\n",
       "      <td>535532.000000</td>\n",
       "    </tr>\n",
       "    <tr>\n",
       "      <th>mean</th>\n",
       "      <td>6.589362e-15</td>\n",
       "      <td>3.929892e-17</td>\n",
       "      <td>-4.534121e-15</td>\n",
       "      <td>4.011362e-13</td>\n",
       "      <td>4.162837e-16</td>\n",
       "      <td>-1.645478e-17</td>\n",
       "      <td>-4.749522e-17</td>\n",
       "      <td>-8.452416e-16</td>\n",
       "      <td>1.759375e-17</td>\n",
       "      <td>4.801667e-16</td>\n",
       "      <td>...</td>\n",
       "      <td>1.821179e-16</td>\n",
       "      <td>-3.608809e-16</td>\n",
       "      <td>4.793136e-16</td>\n",
       "      <td>1.160473e-15</td>\n",
       "      <td>-3.055014e-17</td>\n",
       "      <td>-1.140735e-18</td>\n",
       "      <td>2.208493e-16</td>\n",
       "      <td>1.642325e-16</td>\n",
       "      <td>-2.058099e-14</td>\n",
       "      <td>0.743677</td>\n",
       "    </tr>\n",
       "    <tr>\n",
       "      <th>std</th>\n",
       "      <td>1.000001e+00</td>\n",
       "      <td>1.000001e+00</td>\n",
       "      <td>1.000001e+00</td>\n",
       "      <td>1.000001e+00</td>\n",
       "      <td>1.000001e+00</td>\n",
       "      <td>1.000001e+00</td>\n",
       "      <td>1.000001e+00</td>\n",
       "      <td>1.000001e+00</td>\n",
       "      <td>1.000001e+00</td>\n",
       "      <td>1.000001e+00</td>\n",
       "      <td>...</td>\n",
       "      <td>1.000001e+00</td>\n",
       "      <td>1.000001e+00</td>\n",
       "      <td>1.000001e+00</td>\n",
       "      <td>1.000001e+00</td>\n",
       "      <td>1.000001e+00</td>\n",
       "      <td>1.000001e+00</td>\n",
       "      <td>1.000001e+00</td>\n",
       "      <td>1.000001e+00</td>\n",
       "      <td>1.000001e+00</td>\n",
       "      <td>0.436602</td>\n",
       "    </tr>\n",
       "    <tr>\n",
       "      <th>min</th>\n",
       "      <td>-1.016456e+00</td>\n",
       "      <td>-2.761393e+00</td>\n",
       "      <td>-1.935288e+00</td>\n",
       "      <td>-2.424276e+00</td>\n",
       "      <td>-1.195100e+00</td>\n",
       "      <td>-3.917459e+00</td>\n",
       "      <td>-1.729780e+00</td>\n",
       "      <td>-1.033562e+00</td>\n",
       "      <td>-5.278323e+00</td>\n",
       "      <td>-1.592355e+00</td>\n",
       "      <td>...</td>\n",
       "      <td>-1.492817e+00</td>\n",
       "      <td>-2.143950e+00</td>\n",
       "      <td>-1.987192e+00</td>\n",
       "      <td>-1.356787e+00</td>\n",
       "      <td>-2.390140e+00</td>\n",
       "      <td>-1.728948e+00</td>\n",
       "      <td>-6.983073e-01</td>\n",
       "      <td>-5.978781e-01</td>\n",
       "      <td>-1.467537e+00</td>\n",
       "      <td>0.000000</td>\n",
       "    </tr>\n",
       "    <tr>\n",
       "      <th>25%</th>\n",
       "      <td>-3.999677e-01</td>\n",
       "      <td>-4.585904e-01</td>\n",
       "      <td>-8.248457e-01</td>\n",
       "      <td>-3.755924e-01</td>\n",
       "      <td>-5.604236e-01</td>\n",
       "      <td>-8.716981e-01</td>\n",
       "      <td>-8.664918e-01</td>\n",
       "      <td>-5.107635e-01</td>\n",
       "      <td>-4.558220e-01</td>\n",
       "      <td>-8.625137e-01</td>\n",
       "      <td>...</td>\n",
       "      <td>-8.028849e-01</td>\n",
       "      <td>-7.408050e-01</td>\n",
       "      <td>-6.133875e-01</td>\n",
       "      <td>-5.315307e-01</td>\n",
       "      <td>-7.089355e-01</td>\n",
       "      <td>-8.641089e-01</td>\n",
       "      <td>-5.320560e-01</td>\n",
       "      <td>-5.295583e-01</td>\n",
       "      <td>-1.467537e+00</td>\n",
       "      <td>0.000000</td>\n",
       "    </tr>\n",
       "    <tr>\n",
       "      <th>50%</th>\n",
       "      <td>-2.096055e-01</td>\n",
       "      <td>3.026259e-01</td>\n",
       "      <td>-8.455098e-02</td>\n",
       "      <td>-3.755924e-01</td>\n",
       "      <td>-2.145474e-01</td>\n",
       "      <td>-3.133101e-03</td>\n",
       "      <td>-2.462382e-03</td>\n",
       "      <td>-2.999525e-01</td>\n",
       "      <td>1.960405e-01</td>\n",
       "      <td>-8.621697e-02</td>\n",
       "      <td>...</td>\n",
       "      <td>-1.385903e-01</td>\n",
       "      <td>4.582546e-02</td>\n",
       "      <td>-2.005756e-01</td>\n",
       "      <td>-2.493427e-01</td>\n",
       "      <td>-6.890555e-04</td>\n",
       "      <td>-2.260788e-03</td>\n",
       "      <td>-3.805283e-01</td>\n",
       "      <td>-4.421269e-01</td>\n",
       "      <td>2.339623e-01</td>\n",
       "      <td>1.000000</td>\n",
       "    </tr>\n",
       "    <tr>\n",
       "      <th>75%</th>\n",
       "      <td>-2.397067e-02</td>\n",
       "      <td>7.202699e-01</td>\n",
       "      <td>6.557437e-01</td>\n",
       "      <td>6.487492e-01</td>\n",
       "      <td>2.585389e-01</td>\n",
       "      <td>8.727202e-01</td>\n",
       "      <td>8.648144e-01</td>\n",
       "      <td>1.381818e-01</td>\n",
       "      <td>6.899686e-01</td>\n",
       "      <td>8.081519e-01</td>\n",
       "      <td>...</td>\n",
       "      <td>6.406930e-01</td>\n",
       "      <td>7.855786e-01</td>\n",
       "      <td>3.378530e-01</td>\n",
       "      <td>1.804706e-01</td>\n",
       "      <td>7.094489e-01</td>\n",
       "      <td>8.615345e-01</td>\n",
       "      <td>9.402631e-02</td>\n",
       "      <td>-2.418902e-01</td>\n",
       "      <td>8.228879e-01</td>\n",
       "      <td>1.000000</td>\n",
       "    </tr>\n",
       "    <tr>\n",
       "      <th>max</th>\n",
       "      <td>1.806598e+01</td>\n",
       "      <td>8.133781e+00</td>\n",
       "      <td>6.578102e+00</td>\n",
       "      <td>5.770457e+00</td>\n",
       "      <td>1.882235e+01</td>\n",
       "      <td>4.614227e+00</td>\n",
       "      <td>1.736078e+00</td>\n",
       "      <td>1.462507e+01</td>\n",
       "      <td>1.867199e+00</td>\n",
       "      <td>1.996118e+00</td>\n",
       "      <td>...</td>\n",
       "      <td>3.920283e+00</td>\n",
       "      <td>1.889612e+00</td>\n",
       "      <td>2.793499e+01</td>\n",
       "      <td>2.626487e+01</td>\n",
       "      <td>2.390311e+00</td>\n",
       "      <td>1.742353e+00</td>\n",
       "      <td>2.099363e+01</td>\n",
       "      <td>2.720950e+00</td>\n",
       "      <td>1.304852e+00</td>\n",
       "      <td>1.000000</td>\n",
       "    </tr>\n",
       "  </tbody>\n",
       "</table>\n",
       "<p>8 rows × 46 columns</p>\n",
       "</div>"
      ],
      "text/plain": [
       "                mbb        weight         njets        nbjets          ptbb  \\\n",
       "count  5.355320e+05  5.355320e+05  5.355320e+05  5.355320e+05  5.355320e+05   \n",
       "mean   6.589362e-15  3.929892e-17 -4.534121e-15  4.011362e-13  4.162837e-16   \n",
       "std    1.000001e+00  1.000001e+00  1.000001e+00  1.000001e+00  1.000001e+00   \n",
       "min   -1.016456e+00 -2.761393e+00 -1.935288e+00 -2.424276e+00 -1.195100e+00   \n",
       "25%   -3.999677e-01 -4.585904e-01 -8.248457e-01 -3.755924e-01 -5.604236e-01   \n",
       "50%   -2.096055e-01  3.026259e-01 -8.455098e-02 -3.755924e-01 -2.145474e-01   \n",
       "75%   -2.397067e-02  7.202699e-01  6.557437e-01  6.487492e-01  2.585389e-01   \n",
       "max    1.806598e+01  8.133781e+00  6.578102e+00  5.770457e+00  1.882235e+01   \n",
       "\n",
       "              etabb         phibb           ebb          dRbb        dEtabb  \\\n",
       "count  5.355320e+05  5.355320e+05  5.355320e+05  5.355320e+05  5.355320e+05   \n",
       "mean  -1.645478e-17 -4.749522e-17 -8.452416e-16  1.759375e-17  4.801667e-16   \n",
       "std    1.000001e+00  1.000001e+00  1.000001e+00  1.000001e+00  1.000001e+00   \n",
       "min   -3.917459e+00 -1.729780e+00 -1.033562e+00 -5.278323e+00 -1.592355e+00   \n",
       "25%   -8.716981e-01 -8.664918e-01 -5.107635e-01 -4.558220e-01 -8.625137e-01   \n",
       "50%   -3.133101e-03 -2.462382e-03 -2.999525e-01  1.960405e-01 -8.621697e-02   \n",
       "75%    8.727202e-01  8.648144e-01  1.381818e-01  6.899686e-01  8.081519e-01   \n",
       "max    4.614227e+00  1.736078e+00  1.462507e+01  1.867199e+00  1.996118e+00   \n",
       "\n",
       "       ...        dEta23        dPhi23           mj4          ptj4  \\\n",
       "count  ...  5.355320e+05  5.355320e+05  5.355320e+05  5.355320e+05   \n",
       "mean   ...  1.821179e-16 -3.608809e-16  4.793136e-16  1.160473e-15   \n",
       "std    ...  1.000001e+00  1.000001e+00  1.000001e+00  1.000001e+00   \n",
       "min    ... -1.492817e+00 -2.143950e+00 -1.987192e+00 -1.356787e+00   \n",
       "25%    ... -8.028849e-01 -7.408050e-01 -6.133875e-01 -5.315307e-01   \n",
       "50%    ... -1.385903e-01  4.582546e-02 -2.005756e-01 -2.493427e-01   \n",
       "75%    ...  6.406930e-01  7.855786e-01  3.378530e-01  1.804706e-01   \n",
       "max    ...  3.920283e+00  1.889612e+00  2.793499e+01  2.626487e+01   \n",
       "\n",
       "              etaj4         phij4           ej4        btagj4  qglikelihoodj4  \\\n",
       "count  5.355320e+05  5.355320e+05  5.355320e+05  5.355320e+05    5.355320e+05   \n",
       "mean  -3.055014e-17 -1.140735e-18  2.208493e-16  1.642325e-16   -2.058099e-14   \n",
       "std    1.000001e+00  1.000001e+00  1.000001e+00  1.000001e+00    1.000001e+00   \n",
       "min   -2.390140e+00 -1.728948e+00 -6.983073e-01 -5.978781e-01   -1.467537e+00   \n",
       "25%   -7.089355e-01 -8.641089e-01 -5.320560e-01 -5.295583e-01   -1.467537e+00   \n",
       "50%   -6.890555e-04 -2.260788e-03 -3.805283e-01 -4.421269e-01    2.339623e-01   \n",
       "75%    7.094489e-01  8.615345e-01  9.402631e-02 -2.418902e-01    8.228879e-01   \n",
       "max    2.390311e+00  1.742353e+00  2.099363e+01  2.720950e+00    1.304852e+00   \n",
       "\n",
       "               label  \n",
       "count  535532.000000  \n",
       "mean        0.743677  \n",
       "std         0.436602  \n",
       "min         0.000000  \n",
       "25%         0.000000  \n",
       "50%         1.000000  \n",
       "75%         1.000000  \n",
       "max         1.000000  \n",
       "\n",
       "[8 rows x 46 columns]"
      ]
     },
     "execution_count": 12,
     "metadata": {},
     "output_type": "execute_result"
    }
   ],
   "source": [
    "z_df.describe()"
   ]
  },
  {
   "cell_type": "code",
   "execution_count": 13,
   "id": "3ab0b199-71b0-4a47-9227-ed83401b45af",
   "metadata": {},
   "outputs": [
    {
     "data": {
      "text/html": [
       "<div>\n",
       "<style scoped>\n",
       "    .dataframe tbody tr th:only-of-type {\n",
       "        vertical-align: middle;\n",
       "    }\n",
       "\n",
       "    .dataframe tbody tr th {\n",
       "        vertical-align: top;\n",
       "    }\n",
       "\n",
       "    .dataframe thead th {\n",
       "        text-align: right;\n",
       "    }\n",
       "</style>\n",
       "<table border=\"1\" class=\"dataframe\">\n",
       "  <thead>\n",
       "    <tr style=\"text-align: right;\">\n",
       "      <th></th>\n",
       "      <th>mbb</th>\n",
       "      <th>weight</th>\n",
       "      <th>njets</th>\n",
       "      <th>nbjets</th>\n",
       "      <th>ptbb</th>\n",
       "      <th>etabb</th>\n",
       "      <th>phibb</th>\n",
       "      <th>ebb</th>\n",
       "      <th>dRbb</th>\n",
       "      <th>dEtabb</th>\n",
       "      <th>...</th>\n",
       "      <th>dEta23</th>\n",
       "      <th>dPhi23</th>\n",
       "      <th>mj4</th>\n",
       "      <th>ptj4</th>\n",
       "      <th>etaj4</th>\n",
       "      <th>phij4</th>\n",
       "      <th>ej4</th>\n",
       "      <th>btagj4</th>\n",
       "      <th>qglikelihoodj4</th>\n",
       "      <th>label</th>\n",
       "    </tr>\n",
       "  </thead>\n",
       "  <tbody>\n",
       "    <tr>\n",
       "      <th>0</th>\n",
       "      <td>-0.658480</td>\n",
       "      <td>0.739334</td>\n",
       "      <td>-0.454698</td>\n",
       "      <td>-0.375592</td>\n",
       "      <td>0.950042</td>\n",
       "      <td>-0.384149</td>\n",
       "      <td>-0.313598</td>\n",
       "      <td>-0.603410</td>\n",
       "      <td>-2.468174</td>\n",
       "      <td>0.578095</td>\n",
       "      <td>...</td>\n",
       "      <td>2.117456</td>\n",
       "      <td>1.527413</td>\n",
       "      <td>-0.179007</td>\n",
       "      <td>-0.072614</td>\n",
       "      <td>0.308682</td>\n",
       "      <td>1.402815</td>\n",
       "      <td>-0.536027</td>\n",
       "      <td>1.894067</td>\n",
       "      <td>0.700024</td>\n",
       "      <td>1.0</td>\n",
       "    </tr>\n",
       "    <tr>\n",
       "      <th>1</th>\n",
       "      <td>0.095016</td>\n",
       "      <td>0.613957</td>\n",
       "      <td>-0.084551</td>\n",
       "      <td>1.673091</td>\n",
       "      <td>0.053554</td>\n",
       "      <td>-0.835726</td>\n",
       "      <td>-0.130056</td>\n",
       "      <td>-0.112776</td>\n",
       "      <td>0.361149</td>\n",
       "      <td>1.002200</td>\n",
       "      <td>...</td>\n",
       "      <td>0.568500</td>\n",
       "      <td>-1.455607</td>\n",
       "      <td>-0.227476</td>\n",
       "      <td>-0.316403</td>\n",
       "      <td>-1.979341</td>\n",
       "      <td>1.171091</td>\n",
       "      <td>2.450398</td>\n",
       "      <td>-0.415864</td>\n",
       "      <td>-0.024662</td>\n",
       "      <td>1.0</td>\n",
       "    </tr>\n",
       "    <tr>\n",
       "      <th>2</th>\n",
       "      <td>-0.040114</td>\n",
       "      <td>-0.392469</td>\n",
       "      <td>-1.565140</td>\n",
       "      <td>0.648749</td>\n",
       "      <td>0.108545</td>\n",
       "      <td>0.785705</td>\n",
       "      <td>0.957567</td>\n",
       "      <td>-0.216079</td>\n",
       "      <td>-0.358741</td>\n",
       "      <td>-1.555370</td>\n",
       "      <td>...</td>\n",
       "      <td>-0.314496</td>\n",
       "      <td>0.183102</td>\n",
       "      <td>-0.540206</td>\n",
       "      <td>-0.121117</td>\n",
       "      <td>0.788445</td>\n",
       "      <td>-0.561205</td>\n",
       "      <td>-0.362529</td>\n",
       "      <td>1.821238</td>\n",
       "      <td>1.144544</td>\n",
       "      <td>1.0</td>\n",
       "    </tr>\n",
       "    <tr>\n",
       "      <th>3</th>\n",
       "      <td>-0.739253</td>\n",
       "      <td>-2.631600</td>\n",
       "      <td>-1.565140</td>\n",
       "      <td>0.648749</td>\n",
       "      <td>-0.922930</td>\n",
       "      <td>-1.750370</td>\n",
       "      <td>-1.105374</td>\n",
       "      <td>-0.255680</td>\n",
       "      <td>0.133686</td>\n",
       "      <td>-1.375709</td>\n",
       "      <td>...</td>\n",
       "      <td>2.912183</td>\n",
       "      <td>0.577136</td>\n",
       "      <td>-0.892267</td>\n",
       "      <td>-0.634494</td>\n",
       "      <td>-0.469394</td>\n",
       "      <td>-0.911394</td>\n",
       "      <td>-0.584955</td>\n",
       "      <td>-0.444620</td>\n",
       "      <td>-1.467537</td>\n",
       "      <td>1.0</td>\n",
       "    </tr>\n",
       "    <tr>\n",
       "      <th>4</th>\n",
       "      <td>-0.196708</td>\n",
       "      <td>-0.113932</td>\n",
       "      <td>-0.454698</td>\n",
       "      <td>0.648749</td>\n",
       "      <td>-0.745602</td>\n",
       "      <td>0.890909</td>\n",
       "      <td>-0.124875</td>\n",
       "      <td>-0.485813</td>\n",
       "      <td>1.055034</td>\n",
       "      <td>1.651592</td>\n",
       "      <td>...</td>\n",
       "      <td>-0.178279</td>\n",
       "      <td>-1.075261</td>\n",
       "      <td>1.237089</td>\n",
       "      <td>0.856743</td>\n",
       "      <td>0.716114</td>\n",
       "      <td>-1.431376</td>\n",
       "      <td>-0.172128</td>\n",
       "      <td>1.602670</td>\n",
       "      <td>0.041425</td>\n",
       "      <td>1.0</td>\n",
       "    </tr>\n",
       "    <tr>\n",
       "      <th>...</th>\n",
       "      <td>...</td>\n",
       "      <td>...</td>\n",
       "      <td>...</td>\n",
       "      <td>...</td>\n",
       "      <td>...</td>\n",
       "      <td>...</td>\n",
       "      <td>...</td>\n",
       "      <td>...</td>\n",
       "      <td>...</td>\n",
       "      <td>...</td>\n",
       "      <td>...</td>\n",
       "      <td>...</td>\n",
       "      <td>...</td>\n",
       "      <td>...</td>\n",
       "      <td>...</td>\n",
       "      <td>...</td>\n",
       "      <td>...</td>\n",
       "      <td>...</td>\n",
       "      <td>...</td>\n",
       "      <td>...</td>\n",
       "      <td>...</td>\n",
       "    </tr>\n",
       "    <tr>\n",
       "      <th>535527</th>\n",
       "      <td>1.420562</td>\n",
       "      <td>0.302626</td>\n",
       "      <td>1.025891</td>\n",
       "      <td>-2.424276</td>\n",
       "      <td>1.293782</td>\n",
       "      <td>0.599848</td>\n",
       "      <td>1.624059</td>\n",
       "      <td>0.808934</td>\n",
       "      <td>0.095980</td>\n",
       "      <td>1.363055</td>\n",
       "      <td>...</td>\n",
       "      <td>-1.103550</td>\n",
       "      <td>-0.108081</td>\n",
       "      <td>0.178338</td>\n",
       "      <td>-0.149214</td>\n",
       "      <td>-0.096939</td>\n",
       "      <td>-0.763486</td>\n",
       "      <td>-0.567339</td>\n",
       "      <td>-0.577085</td>\n",
       "      <td>0.015577</td>\n",
       "      <td>0.0</td>\n",
       "    </tr>\n",
       "    <tr>\n",
       "      <th>535528</th>\n",
       "      <td>0.463982</td>\n",
       "      <td>0.302626</td>\n",
       "      <td>0.285596</td>\n",
       "      <td>0.648749</td>\n",
       "      <td>1.280381</td>\n",
       "      <td>0.692557</td>\n",
       "      <td>0.972462</td>\n",
       "      <td>0.292134</td>\n",
       "      <td>-0.875021</td>\n",
       "      <td>-1.487378</td>\n",
       "      <td>...</td>\n",
       "      <td>-0.782668</td>\n",
       "      <td>0.964285</td>\n",
       "      <td>2.959849</td>\n",
       "      <td>1.955580</td>\n",
       "      <td>1.413197</td>\n",
       "      <td>-1.018730</td>\n",
       "      <td>2.434280</td>\n",
       "      <td>-0.507216</td>\n",
       "      <td>0.106229</td>\n",
       "      <td>0.0</td>\n",
       "    </tr>\n",
       "    <tr>\n",
       "      <th>535529</th>\n",
       "      <td>1.191215</td>\n",
       "      <td>0.525306</td>\n",
       "      <td>0.285596</td>\n",
       "      <td>-1.399934</td>\n",
       "      <td>2.987532</td>\n",
       "      <td>0.624566</td>\n",
       "      <td>-1.102681</td>\n",
       "      <td>1.000095</td>\n",
       "      <td>-1.119963</td>\n",
       "      <td>-0.117159</td>\n",
       "      <td>...</td>\n",
       "      <td>-0.156846</td>\n",
       "      <td>-0.351021</td>\n",
       "      <td>3.993717</td>\n",
       "      <td>4.858689</td>\n",
       "      <td>0.691239</td>\n",
       "      <td>0.211100</td>\n",
       "      <td>0.710336</td>\n",
       "      <td>-0.532966</td>\n",
       "      <td>0.004363</td>\n",
       "      <td>0.0</td>\n",
       "    </tr>\n",
       "    <tr>\n",
       "      <th>535530</th>\n",
       "      <td>0.527967</td>\n",
       "      <td>0.739334</td>\n",
       "      <td>0.655744</td>\n",
       "      <td>0.648749</td>\n",
       "      <td>1.750035</td>\n",
       "      <td>-0.967151</td>\n",
       "      <td>-1.146708</td>\n",
       "      <td>1.102259</td>\n",
       "      <td>-1.375558</td>\n",
       "      <td>-0.511657</td>\n",
       "      <td>...</td>\n",
       "      <td>0.390186</td>\n",
       "      <td>0.129096</td>\n",
       "      <td>0.586827</td>\n",
       "      <td>0.569794</td>\n",
       "      <td>-0.549726</td>\n",
       "      <td>1.140384</td>\n",
       "      <td>-0.355656</td>\n",
       "      <td>-0.564623</td>\n",
       "      <td>0.361620</td>\n",
       "      <td>0.0</td>\n",
       "    </tr>\n",
       "    <tr>\n",
       "      <th>535531</th>\n",
       "      <td>1.318018</td>\n",
       "      <td>-2.738023</td>\n",
       "      <td>-0.084551</td>\n",
       "      <td>-1.399934</td>\n",
       "      <td>0.597043</td>\n",
       "      <td>1.667522</td>\n",
       "      <td>1.519084</td>\n",
       "      <td>4.111177</td>\n",
       "      <td>1.129909</td>\n",
       "      <td>0.616591</td>\n",
       "      <td>...</td>\n",
       "      <td>2.017631</td>\n",
       "      <td>0.944744</td>\n",
       "      <td>1.728032</td>\n",
       "      <td>1.649741</td>\n",
       "      <td>-0.244828</td>\n",
       "      <td>-0.443947</td>\n",
       "      <td>-0.343252</td>\n",
       "      <td>-0.587144</td>\n",
       "      <td>1.084094</td>\n",
       "      <td>0.0</td>\n",
       "    </tr>\n",
       "  </tbody>\n",
       "</table>\n",
       "<p>535532 rows × 46 columns</p>\n",
       "</div>"
      ],
      "text/plain": [
       "             mbb    weight     njets    nbjets      ptbb     etabb     phibb  \\\n",
       "0      -0.658480  0.739334 -0.454698 -0.375592  0.950042 -0.384149 -0.313598   \n",
       "1       0.095016  0.613957 -0.084551  1.673091  0.053554 -0.835726 -0.130056   \n",
       "2      -0.040114 -0.392469 -1.565140  0.648749  0.108545  0.785705  0.957567   \n",
       "3      -0.739253 -2.631600 -1.565140  0.648749 -0.922930 -1.750370 -1.105374   \n",
       "4      -0.196708 -0.113932 -0.454698  0.648749 -0.745602  0.890909 -0.124875   \n",
       "...          ...       ...       ...       ...       ...       ...       ...   \n",
       "535527  1.420562  0.302626  1.025891 -2.424276  1.293782  0.599848  1.624059   \n",
       "535528  0.463982  0.302626  0.285596  0.648749  1.280381  0.692557  0.972462   \n",
       "535529  1.191215  0.525306  0.285596 -1.399934  2.987532  0.624566 -1.102681   \n",
       "535530  0.527967  0.739334  0.655744  0.648749  1.750035 -0.967151 -1.146708   \n",
       "535531  1.318018 -2.738023 -0.084551 -1.399934  0.597043  1.667522  1.519084   \n",
       "\n",
       "             ebb      dRbb    dEtabb  ...    dEta23    dPhi23       mj4  \\\n",
       "0      -0.603410 -2.468174  0.578095  ...  2.117456  1.527413 -0.179007   \n",
       "1      -0.112776  0.361149  1.002200  ...  0.568500 -1.455607 -0.227476   \n",
       "2      -0.216079 -0.358741 -1.555370  ... -0.314496  0.183102 -0.540206   \n",
       "3      -0.255680  0.133686 -1.375709  ...  2.912183  0.577136 -0.892267   \n",
       "4      -0.485813  1.055034  1.651592  ... -0.178279 -1.075261  1.237089   \n",
       "...          ...       ...       ...  ...       ...       ...       ...   \n",
       "535527  0.808934  0.095980  1.363055  ... -1.103550 -0.108081  0.178338   \n",
       "535528  0.292134 -0.875021 -1.487378  ... -0.782668  0.964285  2.959849   \n",
       "535529  1.000095 -1.119963 -0.117159  ... -0.156846 -0.351021  3.993717   \n",
       "535530  1.102259 -1.375558 -0.511657  ...  0.390186  0.129096  0.586827   \n",
       "535531  4.111177  1.129909  0.616591  ...  2.017631  0.944744  1.728032   \n",
       "\n",
       "            ptj4     etaj4     phij4       ej4    btagj4  qglikelihoodj4  \\\n",
       "0      -0.072614  0.308682  1.402815 -0.536027  1.894067        0.700024   \n",
       "1      -0.316403 -1.979341  1.171091  2.450398 -0.415864       -0.024662   \n",
       "2      -0.121117  0.788445 -0.561205 -0.362529  1.821238        1.144544   \n",
       "3      -0.634494 -0.469394 -0.911394 -0.584955 -0.444620       -1.467537   \n",
       "4       0.856743  0.716114 -1.431376 -0.172128  1.602670        0.041425   \n",
       "...          ...       ...       ...       ...       ...             ...   \n",
       "535527 -0.149214 -0.096939 -0.763486 -0.567339 -0.577085        0.015577   \n",
       "535528  1.955580  1.413197 -1.018730  2.434280 -0.507216        0.106229   \n",
       "535529  4.858689  0.691239  0.211100  0.710336 -0.532966        0.004363   \n",
       "535530  0.569794 -0.549726  1.140384 -0.355656 -0.564623        0.361620   \n",
       "535531  1.649741 -0.244828 -0.443947 -0.343252 -0.587144        1.084094   \n",
       "\n",
       "        label  \n",
       "0         1.0  \n",
       "1         1.0  \n",
       "2         1.0  \n",
       "3         1.0  \n",
       "4         1.0  \n",
       "...       ...  \n",
       "535527    0.0  \n",
       "535528    0.0  \n",
       "535529    0.0  \n",
       "535530    0.0  \n",
       "535531    0.0  \n",
       "\n",
       "[535532 rows x 46 columns]"
      ]
     },
     "execution_count": 13,
     "metadata": {},
     "output_type": "execute_result"
    }
   ],
   "source": [
    "z_df"
   ]
  },
  {
   "cell_type": "markdown",
   "id": "668855ff-fa70-4b3d-b455-015e185ef2ad",
   "metadata": {},
   "source": [
    "# Splitting Dataset"
   ]
  },
  {
   "cell_type": "code",
   "execution_count": 14,
   "id": "0f39b5d0-61cc-4d24-b888-2a851ddcabe5",
   "metadata": {},
   "outputs": [],
   "source": [
    "from sklearn.model_selection import train_test_split"
   ]
  },
  {
   "cell_type": "code",
   "execution_count": 15,
   "id": "d2de2856-a336-4043-a17e-de1420fe4ee8",
   "metadata": {},
   "outputs": [],
   "source": [
    "input_columns = ['mbb','nbjets','dEtabb','ej1','ej2','btagj2','qglikelihoodj2','mj3','btagj3','mj4']\n",
    "train_df, test_df = train_test_split(z_df, test_size=0.3, random_state=42, stratify=dataset_df['label'].to_numpy())\n",
    "\n",
    "X_test = test_df[input_columns]\n",
    "\n",
    "y_test = test_df['label']"
   ]
  },
  {
   "cell_type": "code",
   "execution_count": 16,
   "id": "127bb4a7-694e-4532-ab3b-c06d33d1eaf3",
   "metadata": {},
   "outputs": [
    {
     "data": {
      "text/plain": [
       "1.0    278784\n",
       "0.0     96088\n",
       "Name: label, dtype: int64"
      ]
     },
     "execution_count": 16,
     "metadata": {},
     "output_type": "execute_result"
    }
   ],
   "source": [
    "train_df['label'].value_counts()"
   ]
  },
  {
   "cell_type": "code",
   "execution_count": 17,
   "id": "c997b07e-5888-4ddd-9cba-3881f8bcb96d",
   "metadata": {},
   "outputs": [
    {
     "data": {
      "text/plain": [
       "1.0    119479\n",
       "0.0     41181\n",
       "Name: label, dtype: int64"
      ]
     },
     "execution_count": 17,
     "metadata": {},
     "output_type": "execute_result"
    }
   ],
   "source": [
    "test_df['label'].value_counts()"
   ]
  },
  {
   "cell_type": "code",
   "execution_count": 18,
   "id": "a213c802-347e-4219-be0b-5a5e5b254d5a",
   "metadata": {},
   "outputs": [
    {
     "data": {
      "text/plain": [
       "0.0    96088\n",
       "1.0    96088\n",
       "Name: label, dtype: int64"
      ]
     },
     "execution_count": 18,
     "metadata": {},
     "output_type": "execute_result"
    }
   ],
   "source": [
    "class_1, class_0 = train_df.label.value_counts()\n",
    "c1 = train_df[train_df['label']==1]\n",
    "c0 = train_df[train_df['label']==0]\n",
    "c1_sam = c1.sample(class_0)\n",
    "undersampled_train = pd.concat([c0,c1_sam], axis=0)\n",
    "undersampled_train['label'].value_counts()"
   ]
  },
  {
   "cell_type": "code",
   "execution_count": 19,
   "id": "788792d6-685f-45eb-a1f0-3216dfcbb3cc",
   "metadata": {},
   "outputs": [],
   "source": [
    "undersampled_X_train = undersampled_train[input_columns]\n",
    "undersampled_y_train = undersampled_train['label']"
   ]
  },
  {
   "cell_type": "code",
   "execution_count": 20,
   "id": "9e76fa3a-2122-4310-b94e-e50a0520d368",
   "metadata": {},
   "outputs": [
    {
     "data": {
      "text/html": [
       "<div>\n",
       "<style scoped>\n",
       "    .dataframe tbody tr th:only-of-type {\n",
       "        vertical-align: middle;\n",
       "    }\n",
       "\n",
       "    .dataframe tbody tr th {\n",
       "        vertical-align: top;\n",
       "    }\n",
       "\n",
       "    .dataframe thead th {\n",
       "        text-align: right;\n",
       "    }\n",
       "</style>\n",
       "<table border=\"1\" class=\"dataframe\">\n",
       "  <thead>\n",
       "    <tr style=\"text-align: right;\">\n",
       "      <th></th>\n",
       "      <th>mbb</th>\n",
       "      <th>nbjets</th>\n",
       "      <th>dEtabb</th>\n",
       "      <th>ej1</th>\n",
       "      <th>ej2</th>\n",
       "      <th>btagj2</th>\n",
       "      <th>qglikelihoodj2</th>\n",
       "      <th>mj3</th>\n",
       "      <th>btagj3</th>\n",
       "      <th>mj4</th>\n",
       "    </tr>\n",
       "  </thead>\n",
       "  <tbody>\n",
       "    <tr>\n",
       "      <th>362878</th>\n",
       "      <td>-0.309227</td>\n",
       "      <td>0.648749</td>\n",
       "      <td>0.499611</td>\n",
       "      <td>-0.502553</td>\n",
       "      <td>-0.527292</td>\n",
       "      <td>0.827718</td>\n",
       "      <td>0.840961</td>\n",
       "      <td>0.043322</td>\n",
       "      <td>-0.162728</td>\n",
       "      <td>-0.312210</td>\n",
       "    </tr>\n",
       "    <tr>\n",
       "      <th>241243</th>\n",
       "      <td>-0.264017</td>\n",
       "      <td>0.648749</td>\n",
       "      <td>-1.550318</td>\n",
       "      <td>0.563586</td>\n",
       "      <td>0.412148</td>\n",
       "      <td>1.009935</td>\n",
       "      <td>0.481144</td>\n",
       "      <td>0.073241</td>\n",
       "      <td>-0.892992</td>\n",
       "      <td>0.480786</td>\n",
       "    </tr>\n",
       "    <tr>\n",
       "      <th>89694</th>\n",
       "      <td>-0.392543</td>\n",
       "      <td>0.648749</td>\n",
       "      <td>-1.451914</td>\n",
       "      <td>0.963612</td>\n",
       "      <td>0.940772</td>\n",
       "      <td>0.364461</td>\n",
       "      <td>0.878477</td>\n",
       "      <td>-0.925383</td>\n",
       "      <td>0.293474</td>\n",
       "      <td>-0.949364</td>\n",
       "    </tr>\n",
       "    <tr>\n",
       "      <th>368695</th>\n",
       "      <td>-0.483580</td>\n",
       "      <td>-0.375592</td>\n",
       "      <td>0.645764</td>\n",
       "      <td>-0.784981</td>\n",
       "      <td>-0.440392</td>\n",
       "      <td>-0.601275</td>\n",
       "      <td>0.942713</td>\n",
       "      <td>-0.598735</td>\n",
       "      <td>1.178968</td>\n",
       "      <td>-0.252631</td>\n",
       "    </tr>\n",
       "    <tr>\n",
       "      <th>389289</th>\n",
       "      <td>-0.247781</td>\n",
       "      <td>-0.375592</td>\n",
       "      <td>-0.509256</td>\n",
       "      <td>-0.594602</td>\n",
       "      <td>-0.255050</td>\n",
       "      <td>0.861704</td>\n",
       "      <td>-1.537995</td>\n",
       "      <td>0.432187</td>\n",
       "      <td>-1.079084</td>\n",
       "      <td>-0.741092</td>\n",
       "    </tr>\n",
       "  </tbody>\n",
       "</table>\n",
       "</div>"
      ],
      "text/plain": [
       "             mbb    nbjets    dEtabb       ej1       ej2    btagj2  \\\n",
       "362878 -0.309227  0.648749  0.499611 -0.502553 -0.527292  0.827718   \n",
       "241243 -0.264017  0.648749 -1.550318  0.563586  0.412148  1.009935   \n",
       "89694  -0.392543  0.648749 -1.451914  0.963612  0.940772  0.364461   \n",
       "368695 -0.483580 -0.375592  0.645764 -0.784981 -0.440392 -0.601275   \n",
       "389289 -0.247781 -0.375592 -0.509256 -0.594602 -0.255050  0.861704   \n",
       "\n",
       "        qglikelihoodj2       mj3    btagj3       mj4  \n",
       "362878        0.840961  0.043322 -0.162728 -0.312210  \n",
       "241243        0.481144  0.073241 -0.892992  0.480786  \n",
       "89694         0.878477 -0.925383  0.293474 -0.949364  \n",
       "368695        0.942713 -0.598735  1.178968 -0.252631  \n",
       "389289       -1.537995  0.432187 -1.079084 -0.741092  "
      ]
     },
     "execution_count": 20,
     "metadata": {},
     "output_type": "execute_result"
    }
   ],
   "source": [
    "undersampled_X_train.tail(5) "
   ]
  },
  {
   "cell_type": "markdown",
   "id": "44059ebb-63ec-4b47-a1f8-d9786ee91724",
   "metadata": {},
   "source": [
    "# Creating Decision Tree"
   ]
  },
  {
   "cell_type": "code",
   "execution_count": 21,
   "id": "23421670-ba84-4753-a71a-b299d5c7e6c2",
   "metadata": {},
   "outputs": [],
   "source": [
    "#Importing Stuff\n",
    "from sklearn.tree import DecisionTreeClassifier\n",
    "from sklearn import metrics\n",
    "from sklearn.metrics import accuracy_score\n",
    "from sklearn.metrics import mean_squared_error as MSE\n",
    "from sklearn.datasets import load_iris\n",
    "from sklearn import tree"
   ]
  },
  {
   "cell_type": "code",
   "execution_count": 22,
   "id": "12f67414-dfad-4e9f-8997-15cf96581e9c",
   "metadata": {},
   "outputs": [],
   "source": [
    "clf = DecisionTreeClassifier()"
   ]
  },
  {
   "cell_type": "code",
   "execution_count": 23,
   "id": "7283af6e-bdf0-4c98-ae77-58db65f7306d",
   "metadata": {},
   "outputs": [],
   "source": [
    "dt = DecisionTreeClassifier(max_depth=6, random_state=1)"
   ]
  },
  {
   "cell_type": "code",
   "execution_count": 24,
   "id": "42b62238-1bd4-43c3-9834-3d3d367b8026",
   "metadata": {},
   "outputs": [],
   "source": [
    "clf = clf.fit(undersampled_X_train, undersampled_y_train)"
   ]
  },
  {
   "cell_type": "code",
   "execution_count": 25,
   "id": "6ac6dba6-5c7f-418f-b834-802b3cb6cba8",
   "metadata": {},
   "outputs": [],
   "source": [
    "y_pred = clf.predict(X_test)"
   ]
  },
  {
   "cell_type": "code",
   "execution_count": 26,
   "id": "2291a795-f30f-47c1-a8f7-37a0e3573bcc",
   "metadata": {},
   "outputs": [
    {
     "data": {
      "text/plain": [
       "array([1., 1., 1., ..., 1., 1., 1.])"
      ]
     },
     "execution_count": 26,
     "metadata": {},
     "output_type": "execute_result"
    }
   ],
   "source": [
    "y_pred"
   ]
  },
  {
   "cell_type": "code",
   "execution_count": 27,
   "id": "e66e2f37-1945-45dc-af26-02613c45b360",
   "metadata": {},
   "outputs": [
    {
     "name": "stdout",
     "output_type": "stream",
     "text": [
      "Accuracy: 0.8092866923938753\n"
     ]
    }
   ],
   "source": [
    "print(\"Accuracy:\",metrics.accuracy_score(y_test, y_pred))"
   ]
  },
  {
   "cell_type": "code",
   "execution_count": 28,
   "id": "1c00312c-086a-4d82-96b3-8fea3b9efe37",
   "metadata": {},
   "outputs": [
    {
     "data": {
      "text/plain": [
       "array([0.2276186 , 0.03759836, 0.04229049, 0.04799941, 0.0471984 ,\n",
       "       0.33589712, 0.04601623, 0.04603768, 0.12088003, 0.04846368])"
      ]
     },
     "execution_count": 28,
     "metadata": {},
     "output_type": "execute_result"
    }
   ],
   "source": [
    "tree = clf.fit(X_test, y_test)\n",
    "tree.feature_importances_"
   ]
  },
  {
   "cell_type": "code",
   "execution_count": 29,
   "id": "537ac2c3-cc97-4d51-a7a0-ced1dd43e785",
   "metadata": {},
   "outputs": [
    {
     "data": {
      "text/html": [
       "<div>\n",
       "<style scoped>\n",
       "    .dataframe tbody tr th:only-of-type {\n",
       "        vertical-align: middle;\n",
       "    }\n",
       "\n",
       "    .dataframe tbody tr th {\n",
       "        vertical-align: top;\n",
       "    }\n",
       "\n",
       "    .dataframe thead th {\n",
       "        text-align: right;\n",
       "    }\n",
       "</style>\n",
       "<table border=\"1\" class=\"dataframe\">\n",
       "  <thead>\n",
       "    <tr style=\"text-align: right;\">\n",
       "      <th></th>\n",
       "      <th>feature importance</th>\n",
       "    </tr>\n",
       "  </thead>\n",
       "  <tbody>\n",
       "    <tr>\n",
       "      <th>0</th>\n",
       "      <td>0.227619</td>\n",
       "    </tr>\n",
       "    <tr>\n",
       "      <th>1</th>\n",
       "      <td>0.037598</td>\n",
       "    </tr>\n",
       "    <tr>\n",
       "      <th>2</th>\n",
       "      <td>0.042290</td>\n",
       "    </tr>\n",
       "    <tr>\n",
       "      <th>3</th>\n",
       "      <td>0.047999</td>\n",
       "    </tr>\n",
       "    <tr>\n",
       "      <th>4</th>\n",
       "      <td>0.047198</td>\n",
       "    </tr>\n",
       "    <tr>\n",
       "      <th>5</th>\n",
       "      <td>0.335897</td>\n",
       "    </tr>\n",
       "    <tr>\n",
       "      <th>6</th>\n",
       "      <td>0.046016</td>\n",
       "    </tr>\n",
       "    <tr>\n",
       "      <th>7</th>\n",
       "      <td>0.046038</td>\n",
       "    </tr>\n",
       "    <tr>\n",
       "      <th>8</th>\n",
       "      <td>0.120880</td>\n",
       "    </tr>\n",
       "    <tr>\n",
       "      <th>9</th>\n",
       "      <td>0.048464</td>\n",
       "    </tr>\n",
       "  </tbody>\n",
       "</table>\n",
       "</div>"
      ],
      "text/plain": [
       "   feature importance\n",
       "0            0.227619\n",
       "1            0.037598\n",
       "2            0.042290\n",
       "3            0.047999\n",
       "4            0.047198\n",
       "5            0.335897\n",
       "6            0.046016\n",
       "7            0.046038\n",
       "8            0.120880\n",
       "9            0.048464"
      ]
     },
     "execution_count": 29,
     "metadata": {},
     "output_type": "execute_result"
    }
   ],
   "source": [
    "feat_imp = pd.DataFrame(tree.feature_importances_, columns=['feature importance'])\n",
    "feat_imp"
   ]
  },
  {
   "cell_type": "code",
   "execution_count": 30,
   "id": "1f2f7265-0f7b-4a84-80f7-1bb8f545385a",
   "metadata": {},
   "outputs": [
    {
     "data": {
      "text/html": [
       "<div>\n",
       "<style scoped>\n",
       "    .dataframe tbody tr th:only-of-type {\n",
       "        vertical-align: middle;\n",
       "    }\n",
       "\n",
       "    .dataframe tbody tr th {\n",
       "        vertical-align: top;\n",
       "    }\n",
       "\n",
       "    .dataframe thead th {\n",
       "        text-align: right;\n",
       "    }\n",
       "</style>\n",
       "<table border=\"1\" class=\"dataframe\">\n",
       "  <thead>\n",
       "    <tr style=\"text-align: right;\">\n",
       "      <th></th>\n",
       "      <th>feature importance</th>\n",
       "      <th>feature</th>\n",
       "    </tr>\n",
       "  </thead>\n",
       "  <tbody>\n",
       "    <tr>\n",
       "      <th>0</th>\n",
       "      <td>0.227619</td>\n",
       "      <td>mbb</td>\n",
       "    </tr>\n",
       "    <tr>\n",
       "      <th>1</th>\n",
       "      <td>0.037598</td>\n",
       "      <td>nbjets</td>\n",
       "    </tr>\n",
       "    <tr>\n",
       "      <th>2</th>\n",
       "      <td>0.042290</td>\n",
       "      <td>dEtabb</td>\n",
       "    </tr>\n",
       "    <tr>\n",
       "      <th>3</th>\n",
       "      <td>0.047999</td>\n",
       "      <td>ej1</td>\n",
       "    </tr>\n",
       "    <tr>\n",
       "      <th>4</th>\n",
       "      <td>0.047198</td>\n",
       "      <td>ej2</td>\n",
       "    </tr>\n",
       "    <tr>\n",
       "      <th>5</th>\n",
       "      <td>0.335897</td>\n",
       "      <td>btagj2</td>\n",
       "    </tr>\n",
       "    <tr>\n",
       "      <th>6</th>\n",
       "      <td>0.046016</td>\n",
       "      <td>qglikelihoodj2</td>\n",
       "    </tr>\n",
       "    <tr>\n",
       "      <th>7</th>\n",
       "      <td>0.046038</td>\n",
       "      <td>mj3</td>\n",
       "    </tr>\n",
       "    <tr>\n",
       "      <th>8</th>\n",
       "      <td>0.120880</td>\n",
       "      <td>btagj3</td>\n",
       "    </tr>\n",
       "    <tr>\n",
       "      <th>9</th>\n",
       "      <td>0.048464</td>\n",
       "      <td>mj4</td>\n",
       "    </tr>\n",
       "  </tbody>\n",
       "</table>\n",
       "</div>"
      ],
      "text/plain": [
       "   feature importance         feature\n",
       "0            0.227619             mbb\n",
       "1            0.037598          nbjets\n",
       "2            0.042290          dEtabb\n",
       "3            0.047999             ej1\n",
       "4            0.047198             ej2\n",
       "5            0.335897          btagj2\n",
       "6            0.046016  qglikelihoodj2\n",
       "7            0.046038             mj3\n",
       "8            0.120880          btagj3\n",
       "9            0.048464             mj4"
      ]
     },
     "execution_count": 30,
     "metadata": {},
     "output_type": "execute_result"
    }
   ],
   "source": [
    "feat_imp['feature']= input_columns\n",
    "feat_imp"
   ]
  },
  {
   "cell_type": "code",
   "execution_count": 31,
   "id": "12b8e316-a531-4eaf-a6ed-0d027c849c3d",
   "metadata": {},
   "outputs": [
    {
     "data": {
      "image/png": "[encoded data removed]",
      "text/plain": [
       "<Figure size 432x288 with 1 Axes>"
      ]
     },
     "metadata": {},
     "output_type": "display_data"
    }
   ],
   "source": [
    "import seaborn as sns\n",
    "sns.set_theme(style=\"whitegrid\")\n",
    "ax = sns.barplot(y=\"feature\", x=\"feature importance\", data=feat_imp)"
   ]
  },
  {
   "cell_type": "code",
   "execution_count": null,
   "id": "57f2d3cd-666c-4049-887c-3790eda020a5",
   "metadata": {},
   "outputs": [],
   "source": []
  },
  {
   "cell_type": "code",
   "execution_count": 32,
   "id": "db376b2b-ec7a-4657-b9f8-2ae13158389c",
   "metadata": {},
   "outputs": [],
   "source": [
    "import matplotlib.pyplot as plt\n",
    "from sklearn import datasets, metrics, model_selection, svm"
   ]
  },
  {
   "cell_type": "code",
   "execution_count": 33,
   "id": "51b64764-cd7b-4229-8248-cf462fb3d52a",
   "metadata": {},
   "outputs": [
    {
     "data": {
      "image/png": "[encoded data removed]",
      "text/plain": [
       "<Figure size 432x288 with 1 Axes>"
      ]
     },
     "metadata": {},
     "output_type": "display_data"
    }
   ],
   "source": [
    "metrics.plot_roc_curve(clf, X_test, y_test)\n",
    "plt.title(\"Boosted Decision Tree ROC Curve\")\n",
    "plt.xlabel(\"False Positive Rate\")\n",
    "plt.ylabel(\"True Positive Rate\")\n",
    "plt.grid(True)"
   ]
  },
  {
   "cell_type": "code",
   "execution_count": 34,
   "id": "dd00419d-cb19-4cce-97ac-555f239d9512",
   "metadata": {},
   "outputs": [],
   "source": [
    "from sklearn.datasets import load_iris\n",
    "from sklearn.feature_selection import mutual_info_classif"
   ]
  },
  {
   "cell_type": "code",
   "execution_count": 35,
   "id": "80ff66d4-b1ea-4815-9de9-746887cacab6",
   "metadata": {},
   "outputs": [
    {
     "name": "stdout",
     "output_type": "stream",
     "text": [
      "Feature Importance =[0.08677821 0.01433415 0.01612299 0.01829948 0.0179941  0.12805874\n",
      " 0.01754341 0.01755159 0.04608478 0.01847648]\n"
     ]
    }
   ],
   "source": [
    "feat_importance = clf.tree_.compute_feature_importances(normalize=False)\n",
    "print(\"Feature Importance =\" + str(feat_importance))"
   ]
  },
  {
   "cell_type": "code",
   "execution_count": 36,
   "id": "88e93a55-ed8d-4111-ad3a-7462fe508082",
   "metadata": {},
   "outputs": [
    {
     "data": {
      "text/plain": [
       "array([0.22701691, 0.03783568, 0.04294211, 0.04767263, 0.04782761,\n",
       "       0.33533531, 0.04588849, 0.04631499, 0.12090509, 0.04826118])"
      ]
     },
     "execution_count": 36,
     "metadata": {},
     "output_type": "execute_result"
    }
   ],
   "source": [
    "tree = clf.fit(X_test, y_test)\n",
    "tree.feature_importances_"
   ]
  },
  {
   "cell_type": "code",
   "execution_count": 37,
   "id": "564caeaa-f567-4924-b757-5795904b8b2c",
   "metadata": {},
   "outputs": [
    {
     "data": {
      "text/html": [
       "<div>\n",
       "<style scoped>\n",
       "    .dataframe tbody tr th:only-of-type {\n",
       "        vertical-align: middle;\n",
       "    }\n",
       "\n",
       "    .dataframe tbody tr th {\n",
       "        vertical-align: top;\n",
       "    }\n",
       "\n",
       "    .dataframe thead th {\n",
       "        text-align: right;\n",
       "    }\n",
       "</style>\n",
       "<table border=\"1\" class=\"dataframe\">\n",
       "  <thead>\n",
       "    <tr style=\"text-align: right;\">\n",
       "      <th></th>\n",
       "      <th>feature importance</th>\n",
       "    </tr>\n",
       "  </thead>\n",
       "  <tbody>\n",
       "    <tr>\n",
       "      <th>0</th>\n",
       "      <td>0.227017</td>\n",
       "    </tr>\n",
       "    <tr>\n",
       "      <th>1</th>\n",
       "      <td>0.037836</td>\n",
       "    </tr>\n",
       "    <tr>\n",
       "      <th>2</th>\n",
       "      <td>0.042942</td>\n",
       "    </tr>\n",
       "    <tr>\n",
       "      <th>3</th>\n",
       "      <td>0.047673</td>\n",
       "    </tr>\n",
       "    <tr>\n",
       "      <th>4</th>\n",
       "      <td>0.047828</td>\n",
       "    </tr>\n",
       "    <tr>\n",
       "      <th>5</th>\n",
       "      <td>0.335335</td>\n",
       "    </tr>\n",
       "    <tr>\n",
       "      <th>6</th>\n",
       "      <td>0.045888</td>\n",
       "    </tr>\n",
       "    <tr>\n",
       "      <th>7</th>\n",
       "      <td>0.046315</td>\n",
       "    </tr>\n",
       "    <tr>\n",
       "      <th>8</th>\n",
       "      <td>0.120905</td>\n",
       "    </tr>\n",
       "    <tr>\n",
       "      <th>9</th>\n",
       "      <td>0.048261</td>\n",
       "    </tr>\n",
       "  </tbody>\n",
       "</table>\n",
       "</div>"
      ],
      "text/plain": [
       "   feature importance\n",
       "0            0.227017\n",
       "1            0.037836\n",
       "2            0.042942\n",
       "3            0.047673\n",
       "4            0.047828\n",
       "5            0.335335\n",
       "6            0.045888\n",
       "7            0.046315\n",
       "8            0.120905\n",
       "9            0.048261"
      ]
     },
     "execution_count": 37,
     "metadata": {},
     "output_type": "execute_result"
    }
   ],
   "source": [
    "feat_imp = pd.DataFrame(tree.feature_importances_, columns=['feature importance'])\n",
    "feat_imp"
   ]
  },
  {
   "cell_type": "code",
   "execution_count": 38,
   "id": "1c84db36-d696-4119-9788-8434b19d02eb",
   "metadata": {},
   "outputs": [
    {
     "data": {
      "text/html": [
       "<div>\n",
       "<style scoped>\n",
       "    .dataframe tbody tr th:only-of-type {\n",
       "        vertical-align: middle;\n",
       "    }\n",
       "\n",
       "    .dataframe tbody tr th {\n",
       "        vertical-align: top;\n",
       "    }\n",
       "\n",
       "    .dataframe thead th {\n",
       "        text-align: right;\n",
       "    }\n",
       "</style>\n",
       "<table border=\"1\" class=\"dataframe\">\n",
       "  <thead>\n",
       "    <tr style=\"text-align: right;\">\n",
       "      <th></th>\n",
       "      <th>feature importance</th>\n",
       "      <th>feature</th>\n",
       "    </tr>\n",
       "  </thead>\n",
       "  <tbody>\n",
       "    <tr>\n",
       "      <th>0</th>\n",
       "      <td>0.227017</td>\n",
       "      <td>mbb</td>\n",
       "    </tr>\n",
       "    <tr>\n",
       "      <th>1</th>\n",
       "      <td>0.037836</td>\n",
       "      <td>nbjets</td>\n",
       "    </tr>\n",
       "    <tr>\n",
       "      <th>2</th>\n",
       "      <td>0.042942</td>\n",
       "      <td>dEtabb</td>\n",
       "    </tr>\n",
       "    <tr>\n",
       "      <th>3</th>\n",
       "      <td>0.047673</td>\n",
       "      <td>ej1</td>\n",
       "    </tr>\n",
       "    <tr>\n",
       "      <th>4</th>\n",
       "      <td>0.047828</td>\n",
       "      <td>ej2</td>\n",
       "    </tr>\n",
       "    <tr>\n",
       "      <th>5</th>\n",
       "      <td>0.335335</td>\n",
       "      <td>btagj2</td>\n",
       "    </tr>\n",
       "    <tr>\n",
       "      <th>6</th>\n",
       "      <td>0.045888</td>\n",
       "      <td>qglikelihoodj2</td>\n",
       "    </tr>\n",
       "    <tr>\n",
       "      <th>7</th>\n",
       "      <td>0.046315</td>\n",
       "      <td>mj3</td>\n",
       "    </tr>\n",
       "    <tr>\n",
       "      <th>8</th>\n",
       "      <td>0.120905</td>\n",
       "      <td>btagj3</td>\n",
       "    </tr>\n",
       "    <tr>\n",
       "      <th>9</th>\n",
       "      <td>0.048261</td>\n",
       "      <td>mj4</td>\n",
       "    </tr>\n",
       "  </tbody>\n",
       "</table>\n",
       "</div>"
      ],
      "text/plain": [
       "   feature importance         feature\n",
       "0            0.227017             mbb\n",
       "1            0.037836          nbjets\n",
       "2            0.042942          dEtabb\n",
       "3            0.047673             ej1\n",
       "4            0.047828             ej2\n",
       "5            0.335335          btagj2\n",
       "6            0.045888  qglikelihoodj2\n",
       "7            0.046315             mj3\n",
       "8            0.120905          btagj3\n",
       "9            0.048261             mj4"
      ]
     },
     "execution_count": 38,
     "metadata": {},
     "output_type": "execute_result"
    }
   ],
   "source": [
    "feat_imp['feature']= input_columns\n",
    "feat_imp"
   ]
  },
  {
   "cell_type": "markdown",
   "id": "dd0f272a-b820-41a2-a231-8ca004e7e863",
   "metadata": {},
   "source": [
    "# Feature Importance"
   ]
  },
  {
   "cell_type": "code",
   "execution_count": 39,
   "id": "4a6702a2-fe26-4351-a7fa-fbab675576eb",
   "metadata": {},
   "outputs": [],
   "source": [
    "input_columns_new = ['mbb','btagj3','btagj2']\n",
    "\n",
    "X_test = test_df[input_columns_new]\n",
    "\n",
    "y_test = test_df['label']"
   ]
  },
  {
   "cell_type": "code",
   "execution_count": 40,
   "id": "cfced22b-3c7a-4980-b57d-45786038a3ac",
   "metadata": {},
   "outputs": [
    {
     "data": {
      "text/plain": [
       "0.0    96088\n",
       "1.0    96088\n",
       "Name: label, dtype: int64"
      ]
     },
     "execution_count": 40,
     "metadata": {},
     "output_type": "execute_result"
    }
   ],
   "source": [
    "class_1, class_0 = train_df.label.value_counts()\n",
    "c1 = train_df[train_df['label']==1]\n",
    "c0 = train_df[train_df['label']==0]\n",
    "c1_sam = c1.sample(class_0)\n",
    "undersampled_train = pd.concat([c0,c1_sam], axis=0)\n",
    "undersampled_train['label'].value_counts()"
   ]
  },
  {
   "cell_type": "code",
   "execution_count": 41,
   "id": "a2b7ffac-c3b6-49bb-a399-7d7fe89b6b85",
   "metadata": {},
   "outputs": [],
   "source": [
    "undersampled_X_train_ = undersampled_train[input_columns_new]\n",
    "undersampled_y_train_ = undersampled_train['label']"
   ]
  },
  {
   "cell_type": "code",
   "execution_count": 42,
   "id": "c14bc390-0f36-4a8a-a0a9-85a3eecb7056",
   "metadata": {},
   "outputs": [],
   "source": [
    "clf = clf.fit(undersampled_X_train_, undersampled_y_train_)"
   ]
  },
  {
   "cell_type": "code",
   "execution_count": 43,
   "id": "41642536-b90d-4a7a-a970-56177107780e",
   "metadata": {},
   "outputs": [],
   "source": [
    "y_pred = clf.predict(X_test)"
   ]
  },
  {
   "cell_type": "code",
   "execution_count": 44,
   "id": "df411a20-df76-4290-9d38-70f63fe392b3",
   "metadata": {},
   "outputs": [
    {
     "name": "stdout",
     "output_type": "stream",
     "text": [
      "Accuracy: 0.7893252832067721\n"
     ]
    }
   ],
   "source": [
    "print(\"Accuracy:\",metrics.accuracy_score(y_test, y_pred))"
   ]
  },
  {
   "cell_type": "code",
   "execution_count": 45,
   "id": "1a3c8b78-9830-46b2-a93b-14b366dd5b46",
   "metadata": {},
   "outputs": [
    {
     "name": "stdout",
     "output_type": "stream",
     "text": [
      "Feature Importance =[0.15150198 0.11678435 0.23171366]\n"
     ]
    }
   ],
   "source": [
    "feat_importance = clf.tree_.compute_feature_importances(normalize=False)\n",
    "print(\"Feature Importance =\" + str(feat_importance))"
   ]
  },
  {
   "cell_type": "code",
   "execution_count": 46,
   "id": "b414bc57-aae3-45d8-9cc8-02afbc7bbc01",
   "metadata": {},
   "outputs": [
    {
     "data": {
      "text/plain": [
       "array([0.32952512, 0.22865444, 0.44182044])"
      ]
     },
     "execution_count": 46,
     "metadata": {},
     "output_type": "execute_result"
    }
   ],
   "source": [
    "tree = clf.fit(X_test, y_test)\n",
    "tree.feature_importances_"
   ]
  },
  {
   "cell_type": "code",
   "execution_count": 47,
   "id": "978e92b9-6690-41a4-a6e1-bcc0ae1c9d33",
   "metadata": {},
   "outputs": [
    {
     "data": {
      "text/html": [
       "<div>\n",
       "<style scoped>\n",
       "    .dataframe tbody tr th:only-of-type {\n",
       "        vertical-align: middle;\n",
       "    }\n",
       "\n",
       "    .dataframe tbody tr th {\n",
       "        vertical-align: top;\n",
       "    }\n",
       "\n",
       "    .dataframe thead th {\n",
       "        text-align: right;\n",
       "    }\n",
       "</style>\n",
       "<table border=\"1\" class=\"dataframe\">\n",
       "  <thead>\n",
       "    <tr style=\"text-align: right;\">\n",
       "      <th></th>\n",
       "      <th>feature importance</th>\n",
       "    </tr>\n",
       "  </thead>\n",
       "  <tbody>\n",
       "    <tr>\n",
       "      <th>0</th>\n",
       "      <td>0.329525</td>\n",
       "    </tr>\n",
       "    <tr>\n",
       "      <th>1</th>\n",
       "      <td>0.228654</td>\n",
       "    </tr>\n",
       "    <tr>\n",
       "      <th>2</th>\n",
       "      <td>0.441820</td>\n",
       "    </tr>\n",
       "  </tbody>\n",
       "</table>\n",
       "</div>"
      ],
      "text/plain": [
       "   feature importance\n",
       "0            0.329525\n",
       "1            0.228654\n",
       "2            0.441820"
      ]
     },
     "execution_count": 47,
     "metadata": {},
     "output_type": "execute_result"
    }
   ],
   "source": [
    "feat_imp = pd.DataFrame(tree.feature_importances_, columns=['feature importance'])\n",
    "feat_imp"
   ]
  },
  {
   "cell_type": "code",
   "execution_count": 48,
   "id": "805dfa24-2c89-44b9-8aaa-802cd67dda07",
   "metadata": {},
   "outputs": [
    {
     "data": {
      "text/html": [
       "<div>\n",
       "<style scoped>\n",
       "    .dataframe tbody tr th:only-of-type {\n",
       "        vertical-align: middle;\n",
       "    }\n",
       "\n",
       "    .dataframe tbody tr th {\n",
       "        vertical-align: top;\n",
       "    }\n",
       "\n",
       "    .dataframe thead th {\n",
       "        text-align: right;\n",
       "    }\n",
       "</style>\n",
       "<table border=\"1\" class=\"dataframe\">\n",
       "  <thead>\n",
       "    <tr style=\"text-align: right;\">\n",
       "      <th></th>\n",
       "      <th>feature importance</th>\n",
       "      <th>feature</th>\n",
       "    </tr>\n",
       "  </thead>\n",
       "  <tbody>\n",
       "    <tr>\n",
       "      <th>0</th>\n",
       "      <td>0.329525</td>\n",
       "      <td>mbb</td>\n",
       "    </tr>\n",
       "    <tr>\n",
       "      <th>1</th>\n",
       "      <td>0.228654</td>\n",
       "      <td>btagj3</td>\n",
       "    </tr>\n",
       "    <tr>\n",
       "      <th>2</th>\n",
       "      <td>0.441820</td>\n",
       "      <td>btagj2</td>\n",
       "    </tr>\n",
       "  </tbody>\n",
       "</table>\n",
       "</div>"
      ],
      "text/plain": [
       "   feature importance feature\n",
       "0            0.329525     mbb\n",
       "1            0.228654  btagj3\n",
       "2            0.441820  btagj2"
      ]
     },
     "execution_count": 48,
     "metadata": {},
     "output_type": "execute_result"
    }
   ],
   "source": [
    "feat_imp['feature']= input_columns_new\n",
    "feat_imp"
   ]
  },
  {
   "cell_type": "code",
   "execution_count": 49,
   "id": "062e165d-5873-4689-b524-4c3436b6fa65",
   "metadata": {},
   "outputs": [
    {
     "data": {
      "image/png": "[encoded data removed]",
      "text/plain": [
       "<Figure size 432x288 with 1 Axes>"
      ]
     },
     "metadata": {},
     "output_type": "display_data"
    }
   ],
   "source": [
    "import seaborn as sns\n",
    "sns.set_theme(style=\"whitegrid\")\n",
    "ax = sns.barplot(y=\"feature\", x=\"feature importance\", data=feat_imp)"
   ]
  },
  {
   "cell_type": "markdown",
   "id": "cf671029-8d8b-41ff-bb5b-36eb6a2bfba2",
   "metadata": {},
   "source": [
    "# Adaboost Classification (Uninformed)"
   ]
  },
  {
   "cell_type": "code",
   "execution_count": null,
   "id": "0e3565a7-5e77-41bf-9aba-d5e2dfe48f02",
   "metadata": {},
   "outputs": [],
   "source": []
  },
  {
   "cell_type": "code",
   "execution_count": 50,
   "id": "87007188-b9dc-48cc-8a38-655d966cfed9",
   "metadata": {},
   "outputs": [],
   "source": [
    "from sklearn.ensemble import AdaBoostClassifier\n",
    "from sklearn.tree import DecisionTreeClassifier\n",
    "from sklearn.metrics import roc_auc_score\n",
    "from sklearn.model_selection import train_test_split"
   ]
  },
  {
   "cell_type": "code",
   "execution_count": 51,
   "id": "5b373a65-6e23-4b0c-8ef5-bdbf773b9746",
   "metadata": {},
   "outputs": [],
   "source": [
    "SEED = 1"
   ]
  },
  {
   "cell_type": "code",
   "execution_count": 52,
   "id": "bf985d91-120a-42f2-bff5-099a4d555d79",
   "metadata": {},
   "outputs": [],
   "source": [
    "X_train, X_test, y_train, y_test = train_test_split(undersampled_X_train, undersampled_y_train, test_size=0.3,\n",
    "                                                   stratify=undersampled_y_train, random_state=SEED)"
   ]
  },
  {
   "cell_type": "code",
   "execution_count": 53,
   "id": "d5686698-6a9c-4dd4-a177-3af227626f11",
   "metadata": {},
   "outputs": [],
   "source": [
    "dt = DecisionTreeClassifier(max_depth=1, random_state=SEED)"
   ]
  },
  {
   "cell_type": "code",
   "execution_count": 54,
   "id": "3248975f-5036-4684-8f91-c658298163ba",
   "metadata": {},
   "outputs": [],
   "source": [
    "clf = AdaBoostClassifier(base_estimator=dt, n_estimators=100)"
   ]
  },
  {
   "cell_type": "code",
   "execution_count": 55,
   "id": "58b6d046-cbb7-47a6-8082-a19847785e42",
   "metadata": {},
   "outputs": [
    {
     "data": {
      "text/plain": [
       "AdaBoostClassifier(base_estimator=DecisionTreeClassifier(max_depth=1,\n",
       "                                                         random_state=1),\n",
       "                   n_estimators=100)"
      ]
     },
     "execution_count": 55,
     "metadata": {},
     "output_type": "execute_result"
    }
   ],
   "source": [
    "clf.fit(X_train, y_train)"
   ]
  },
  {
   "cell_type": "code",
   "execution_count": 56,
   "id": "cba91992-29a5-460f-b88f-58f074b4988f",
   "metadata": {
    "tags": []
   },
   "outputs": [],
   "source": [
    "y_pred_proba = clf.predict_proba(X_test)[:,1]"
   ]
  },
  {
   "cell_type": "code",
   "execution_count": 57,
   "id": "24650cf5-abc9-4ff5-af63-369fbdbd6d1c",
   "metadata": {},
   "outputs": [],
   "source": [
    "#print(\"Accuracy:\",metrics.accuracy_score(y_test, y_pred))"
   ]
  },
  {
   "cell_type": "code",
   "execution_count": 58,
   "id": "e5b44550-6fb1-4370-a51a-376afbd669e8",
   "metadata": {},
   "outputs": [],
   "source": [
    "adb_clf_roc_auc_score = roc_auc_score(y_test, y_pred_proba)"
   ]
  },
  {
   "cell_type": "code",
   "execution_count": 59,
   "id": "648161c4-bdba-487e-a415-08e751f38e75",
   "metadata": {},
   "outputs": [
    {
     "name": "stdout",
     "output_type": "stream",
     "text": [
      "ROC AUC Score: 0.9382255761\n"
     ]
    }
   ],
   "source": [
    "print('ROC AUC Score: {:.10f}'.format(adb_clf_roc_auc_score))"
   ]
  },
  {
   "cell_type": "code",
   "execution_count": 60,
   "id": "ac26123f-4530-4a25-910b-f7ccd2884cb4",
   "metadata": {},
   "outputs": [],
   "source": [
    "#feat_importance = clf.tree_.compute_feature_importances(normalize=False)\n",
    "#print(\"Feature Importance =\" + str(feat_importance))"
   ]
  },
  {
   "cell_type": "code",
   "execution_count": null,
   "id": "fb451b14-1a35-4c93-a838-c5ad00a9f7eb",
   "metadata": {},
   "outputs": [],
   "source": []
  },
  {
   "cell_type": "code",
   "execution_count": 61,
   "id": "f09d13cb-addb-4b00-a801-16e05a51797f",
   "metadata": {},
   "outputs": [
    {
     "data": {
      "text/html": [
       "<div>\n",
       "<style scoped>\n",
       "    .dataframe tbody tr th:only-of-type {\n",
       "        vertical-align: middle;\n",
       "    }\n",
       "\n",
       "    .dataframe tbody tr th {\n",
       "        vertical-align: top;\n",
       "    }\n",
       "\n",
       "    .dataframe thead th {\n",
       "        text-align: right;\n",
       "    }\n",
       "</style>\n",
       "<table border=\"1\" class=\"dataframe\">\n",
       "  <thead>\n",
       "    <tr style=\"text-align: right;\">\n",
       "      <th></th>\n",
       "      <th>feature importance</th>\n",
       "    </tr>\n",
       "  </thead>\n",
       "  <tbody>\n",
       "    <tr>\n",
       "      <th>0</th>\n",
       "      <td>0.329525</td>\n",
       "    </tr>\n",
       "    <tr>\n",
       "      <th>1</th>\n",
       "      <td>0.228654</td>\n",
       "    </tr>\n",
       "    <tr>\n",
       "      <th>2</th>\n",
       "      <td>0.441820</td>\n",
       "    </tr>\n",
       "  </tbody>\n",
       "</table>\n",
       "</div>"
      ],
      "text/plain": [
       "   feature importance\n",
       "0            0.329525\n",
       "1            0.228654\n",
       "2            0.441820"
      ]
     },
     "execution_count": 61,
     "metadata": {},
     "output_type": "execute_result"
    }
   ],
   "source": [
    "feat_imp = pd.DataFrame(tree.feature_importances_, columns=['feature importance'])\n",
    "feat_imp"
   ]
  },
  {
   "cell_type": "code",
   "execution_count": 68,
   "id": "77eb17e2-1cdb-41e0-9e37-e3b817e55fbd",
   "metadata": {},
   "outputs": [
    {
     "data": {
      "image/png": "[encoded data removed]",
      "text/plain": [
       "<Figure size 432x288 with 1 Axes>"
      ]
     },
     "metadata": {},
     "output_type": "display_data"
    }
   ],
   "source": [
    "metrics.plot_roc_curve(clf, X_test, y_test)\n",
    "plt.title(\"Boosted Decision Tree ROC Curve\")\n",
    "plt.xlabel(\"False Positive Rate\")\n",
    "plt.ylabel(\"True Positive Rate\")\n",
    "plt.grid(True)"
   ]
  },
  {
   "cell_type": "markdown",
   "id": "4e26d330-66ad-4977-b6d5-b9825c4df2c5",
   "metadata": {},
   "source": [
    "# Hyperparameter Tuning"
   ]
  },
  {
   "cell_type": "code",
   "execution_count": null,
   "id": "4987c1d3-6e08-4ab7-a3c6-d2fd5b4e97b4",
   "metadata": {},
   "outputs": [],
   "source": []
  },
  {
   "cell_type": "code",
   "execution_count": 63,
   "id": "e075c0ad-5eae-4f1d-a30f-b0ad61b3d0a4",
   "metadata": {},
   "outputs": [],
   "source": [
    "from sklearn.pipeline import Pipeline\n",
    "from sklearn.model_selection import GridSearchCV"
   ]
  },
  {
   "cell_type": "code",
   "execution_count": 64,
   "id": "5be0ae41-d125-4280-91af-2ac4e9b8892e",
   "metadata": {},
   "outputs": [],
   "source": [
    "pipe = Pipeline(steps=[('clf', clf)])"
   ]
  },
  {
   "cell_type": "raw",
   "id": "a543a5ea-9891-40e1-b12a-c5bb6116c5fb",
   "metadata": {},
   "source": [
    "n_components = list(range(1,undersampled_X_train.shape[1]+1,1))"
   ]
  },
  {
   "cell_type": "code",
   "execution_count": 65,
   "id": "c181029c-04a1-4367-8ae9-9cbb21c9ecf4",
   "metadata": {},
   "outputs": [],
   "source": [
    "criterion = ['gini', 'entropy']\n",
    "max_depth = [2, 4, 6, 8, 10, 12]"
   ]
  },
  {
   "cell_type": "code",
   "execution_count": 66,
   "id": "95fc176b-d502-4756-9d33-fe0cb141012f",
   "metadata": {},
   "outputs": [],
   "source": [
    "parameters = dict(clf__criterion=criterion, clf__max_depth=max_depth)"
   ]
  },
  {
   "cell_type": "code",
   "execution_count": 67,
   "id": "7e01517f-ff6d-409a-bc87-0e1039934160",
   "metadata": {},
   "outputs": [
    {
     "ename": "ValueError",
     "evalue": "Invalid parameter criterion for estimator AdaBoostClassifier(base_estimator=DecisionTreeClassifier(max_depth=1,\n                                                         random_state=1),\n                   n_estimators=100). Check the list of available parameters with `estimator.get_params().keys()`.",
     "output_type": "error",
     "traceback": [
      "\u001b[0;31m---------------------------------------------------------------------------\u001b[0m",
      "\u001b[0;31mValueError\u001b[0m                                Traceback (most recent call last)",
      "\u001b[0;32m<ipython-input-67-f963b7d5e213>\u001b[0m in \u001b[0;36m<module>\u001b[0;34m\u001b[0m\n\u001b[1;32m      1\u001b[0m \u001b[0mclf_GS\u001b[0m \u001b[0;34m=\u001b[0m \u001b[0mGridSearchCV\u001b[0m\u001b[0;34m(\u001b[0m\u001b[0mpipe\u001b[0m\u001b[0;34m,\u001b[0m \u001b[0mparameters\u001b[0m\u001b[0;34m)\u001b[0m\u001b[0;34m\u001b[0m\u001b[0;34m\u001b[0m\u001b[0m\n\u001b[0;32m----> 2\u001b[0;31m \u001b[0mclf_GS\u001b[0m\u001b[0;34m.\u001b[0m\u001b[0mfit\u001b[0m\u001b[0;34m(\u001b[0m\u001b[0mundersampled_X_train\u001b[0m\u001b[0;34m,\u001b[0m \u001b[0mundersampled_y_train\u001b[0m\u001b[0;34m)\u001b[0m\u001b[0;34m\u001b[0m\u001b[0;34m\u001b[0m\u001b[0m\n\u001b[0m",
      "\u001b[0;32m/opt/conda/lib/python3.9/site-packages/sklearn/utils/validation.py\u001b[0m in \u001b[0;36minner_f\u001b[0;34m(*args, **kwargs)\u001b[0m\n\u001b[1;32m     61\u001b[0m             \u001b[0mextra_args\u001b[0m \u001b[0;34m=\u001b[0m \u001b[0mlen\u001b[0m\u001b[0;34m(\u001b[0m\u001b[0margs\u001b[0m\u001b[0;34m)\u001b[0m \u001b[0;34m-\u001b[0m \u001b[0mlen\u001b[0m\u001b[0;34m(\u001b[0m\u001b[0mall_args\u001b[0m\u001b[0;34m)\u001b[0m\u001b[0;34m\u001b[0m\u001b[0;34m\u001b[0m\u001b[0m\n\u001b[1;32m     62\u001b[0m             \u001b[0;32mif\u001b[0m \u001b[0mextra_args\u001b[0m \u001b[0;34m<=\u001b[0m \u001b[0;36m0\u001b[0m\u001b[0;34m:\u001b[0m\u001b[0;34m\u001b[0m\u001b[0;34m\u001b[0m\u001b[0m\n\u001b[0;32m---> 63\u001b[0;31m                 \u001b[0;32mreturn\u001b[0m \u001b[0mf\u001b[0m\u001b[0;34m(\u001b[0m\u001b[0;34m*\u001b[0m\u001b[0margs\u001b[0m\u001b[0;34m,\u001b[0m \u001b[0;34m**\u001b[0m\u001b[0mkwargs\u001b[0m\u001b[0;34m)\u001b[0m\u001b[0;34m\u001b[0m\u001b[0;34m\u001b[0m\u001b[0m\n\u001b[0m\u001b[1;32m     64\u001b[0m \u001b[0;34m\u001b[0m\u001b[0m\n\u001b[1;32m     65\u001b[0m             \u001b[0;31m# extra_args > 0\u001b[0m\u001b[0;34m\u001b[0m\u001b[0;34m\u001b[0m\u001b[0;34m\u001b[0m\u001b[0m\n",
      "\u001b[0;32m/opt/conda/lib/python3.9/site-packages/sklearn/model_selection/_search.py\u001b[0m in \u001b[0;36mfit\u001b[0;34m(self, X, y, groups, **fit_params)\u001b[0m\n\u001b[1;32m    839\u001b[0m                 \u001b[0;32mreturn\u001b[0m \u001b[0mresults\u001b[0m\u001b[0;34m\u001b[0m\u001b[0;34m\u001b[0m\u001b[0m\n\u001b[1;32m    840\u001b[0m \u001b[0;34m\u001b[0m\u001b[0m\n\u001b[0;32m--> 841\u001b[0;31m             \u001b[0mself\u001b[0m\u001b[0;34m.\u001b[0m\u001b[0m_run_search\u001b[0m\u001b[0;34m(\u001b[0m\u001b[0mevaluate_candidates\u001b[0m\u001b[0;34m)\u001b[0m\u001b[0;34m\u001b[0m\u001b[0;34m\u001b[0m\u001b[0m\n\u001b[0m\u001b[1;32m    842\u001b[0m \u001b[0;34m\u001b[0m\u001b[0m\n\u001b[1;32m    843\u001b[0m             \u001b[0;31m# multimetric is determined here because in the case of a callable\u001b[0m\u001b[0;34m\u001b[0m\u001b[0;34m\u001b[0m\u001b[0;34m\u001b[0m\u001b[0m\n",
      "\u001b[0;32m/opt/conda/lib/python3.9/site-packages/sklearn/model_selection/_search.py\u001b[0m in \u001b[0;36m_run_search\u001b[0;34m(self, evaluate_candidates)\u001b[0m\n\u001b[1;32m   1294\u001b[0m     \u001b[0;32mdef\u001b[0m \u001b[0m_run_search\u001b[0m\u001b[0;34m(\u001b[0m\u001b[0mself\u001b[0m\u001b[0;34m,\u001b[0m \u001b[0mevaluate_candidates\u001b[0m\u001b[0;34m)\u001b[0m\u001b[0;34m:\u001b[0m\u001b[0;34m\u001b[0m\u001b[0;34m\u001b[0m\u001b[0m\n\u001b[1;32m   1295\u001b[0m         \u001b[0;34m\"\"\"Search all candidates in param_grid\"\"\"\u001b[0m\u001b[0;34m\u001b[0m\u001b[0;34m\u001b[0m\u001b[0m\n\u001b[0;32m-> 1296\u001b[0;31m         \u001b[0mevaluate_candidates\u001b[0m\u001b[0;34m(\u001b[0m\u001b[0mParameterGrid\u001b[0m\u001b[0;34m(\u001b[0m\u001b[0mself\u001b[0m\u001b[0;34m.\u001b[0m\u001b[0mparam_grid\u001b[0m\u001b[0;34m)\u001b[0m\u001b[0;34m)\u001b[0m\u001b[0;34m\u001b[0m\u001b[0;34m\u001b[0m\u001b[0m\n\u001b[0m\u001b[1;32m   1297\u001b[0m \u001b[0;34m\u001b[0m\u001b[0m\n\u001b[1;32m   1298\u001b[0m \u001b[0;34m\u001b[0m\u001b[0m\n",
      "\u001b[0;32m/opt/conda/lib/python3.9/site-packages/sklearn/model_selection/_search.py\u001b[0m in \u001b[0;36mevaluate_candidates\u001b[0;34m(candidate_params, cv, more_results)\u001b[0m\n\u001b[1;32m    793\u001b[0m                               n_splits, n_candidates, n_candidates * n_splits))\n\u001b[1;32m    794\u001b[0m \u001b[0;34m\u001b[0m\u001b[0m\n\u001b[0;32m--> 795\u001b[0;31m                 out = parallel(delayed(_fit_and_score)(clone(base_estimator),\n\u001b[0m\u001b[1;32m    796\u001b[0m                                                        \u001b[0mX\u001b[0m\u001b[0;34m,\u001b[0m \u001b[0my\u001b[0m\u001b[0;34m,\u001b[0m\u001b[0;34m\u001b[0m\u001b[0;34m\u001b[0m\u001b[0m\n\u001b[1;32m    797\u001b[0m                                                        \u001b[0mtrain\u001b[0m\u001b[0;34m=\u001b[0m\u001b[0mtrain\u001b[0m\u001b[0;34m,\u001b[0m \u001b[0mtest\u001b[0m\u001b[0;34m=\u001b[0m\u001b[0mtest\u001b[0m\u001b[0;34m,\u001b[0m\u001b[0;34m\u001b[0m\u001b[0;34m\u001b[0m\u001b[0m\n",
      "\u001b[0;32m/opt/conda/lib/python3.9/site-packages/joblib/parallel.py\u001b[0m in \u001b[0;36m__call__\u001b[0;34m(self, iterable)\u001b[0m\n\u001b[1;32m   1039\u001b[0m             \u001b[0;31m# remaining jobs.\u001b[0m\u001b[0;34m\u001b[0m\u001b[0;34m\u001b[0m\u001b[0;34m\u001b[0m\u001b[0m\n\u001b[1;32m   1040\u001b[0m             \u001b[0mself\u001b[0m\u001b[0;34m.\u001b[0m\u001b[0m_iterating\u001b[0m \u001b[0;34m=\u001b[0m \u001b[0;32mFalse\u001b[0m\u001b[0;34m\u001b[0m\u001b[0;34m\u001b[0m\u001b[0m\n\u001b[0;32m-> 1041\u001b[0;31m             \u001b[0;32mif\u001b[0m \u001b[0mself\u001b[0m\u001b[0;34m.\u001b[0m\u001b[0mdispatch_one_batch\u001b[0m\u001b[0;34m(\u001b[0m\u001b[0miterator\u001b[0m\u001b[0;34m)\u001b[0m\u001b[0;34m:\u001b[0m\u001b[0;34m\u001b[0m\u001b[0;34m\u001b[0m\u001b[0m\n\u001b[0m\u001b[1;32m   1042\u001b[0m                 \u001b[0mself\u001b[0m\u001b[0;34m.\u001b[0m\u001b[0m_iterating\u001b[0m \u001b[0;34m=\u001b[0m \u001b[0mself\u001b[0m\u001b[0;34m.\u001b[0m\u001b[0m_original_iterator\u001b[0m \u001b[0;32mis\u001b[0m \u001b[0;32mnot\u001b[0m \u001b[0;32mNone\u001b[0m\u001b[0;34m\u001b[0m\u001b[0;34m\u001b[0m\u001b[0m\n\u001b[1;32m   1043\u001b[0m \u001b[0;34m\u001b[0m\u001b[0m\n",
      "\u001b[0;32m/opt/conda/lib/python3.9/site-packages/joblib/parallel.py\u001b[0m in \u001b[0;36mdispatch_one_batch\u001b[0;34m(self, iterator)\u001b[0m\n\u001b[1;32m    857\u001b[0m                 \u001b[0;32mreturn\u001b[0m \u001b[0;32mFalse\u001b[0m\u001b[0;34m\u001b[0m\u001b[0;34m\u001b[0m\u001b[0m\n\u001b[1;32m    858\u001b[0m             \u001b[0;32melse\u001b[0m\u001b[0;34m:\u001b[0m\u001b[0;34m\u001b[0m\u001b[0;34m\u001b[0m\u001b[0m\n\u001b[0;32m--> 859\u001b[0;31m                 \u001b[0mself\u001b[0m\u001b[0;34m.\u001b[0m\u001b[0m_dispatch\u001b[0m\u001b[0;34m(\u001b[0m\u001b[0mtasks\u001b[0m\u001b[0;34m)\u001b[0m\u001b[0;34m\u001b[0m\u001b[0;34m\u001b[0m\u001b[0m\n\u001b[0m\u001b[1;32m    860\u001b[0m                 \u001b[0;32mreturn\u001b[0m \u001b[0;32mTrue\u001b[0m\u001b[0;34m\u001b[0m\u001b[0;34m\u001b[0m\u001b[0m\n\u001b[1;32m    861\u001b[0m \u001b[0;34m\u001b[0m\u001b[0m\n",
      "\u001b[0;32m/opt/conda/lib/python3.9/site-packages/joblib/parallel.py\u001b[0m in \u001b[0;36m_dispatch\u001b[0;34m(self, batch)\u001b[0m\n\u001b[1;32m    775\u001b[0m         \u001b[0;32mwith\u001b[0m \u001b[0mself\u001b[0m\u001b[0;34m.\u001b[0m\u001b[0m_lock\u001b[0m\u001b[0;34m:\u001b[0m\u001b[0;34m\u001b[0m\u001b[0;34m\u001b[0m\u001b[0m\n\u001b[1;32m    776\u001b[0m             \u001b[0mjob_idx\u001b[0m \u001b[0;34m=\u001b[0m \u001b[0mlen\u001b[0m\u001b[0;34m(\u001b[0m\u001b[0mself\u001b[0m\u001b[0;34m.\u001b[0m\u001b[0m_jobs\u001b[0m\u001b[0;34m)\u001b[0m\u001b[0;34m\u001b[0m\u001b[0;34m\u001b[0m\u001b[0m\n\u001b[0;32m--> 777\u001b[0;31m             \u001b[0mjob\u001b[0m \u001b[0;34m=\u001b[0m \u001b[0mself\u001b[0m\u001b[0;34m.\u001b[0m\u001b[0m_backend\u001b[0m\u001b[0;34m.\u001b[0m\u001b[0mapply_async\u001b[0m\u001b[0;34m(\u001b[0m\u001b[0mbatch\u001b[0m\u001b[0;34m,\u001b[0m \u001b[0mcallback\u001b[0m\u001b[0;34m=\u001b[0m\u001b[0mcb\u001b[0m\u001b[0;34m)\u001b[0m\u001b[0;34m\u001b[0m\u001b[0;34m\u001b[0m\u001b[0m\n\u001b[0m\u001b[1;32m    778\u001b[0m             \u001b[0;31m# A job can complete so quickly than its callback is\u001b[0m\u001b[0;34m\u001b[0m\u001b[0;34m\u001b[0m\u001b[0;34m\u001b[0m\u001b[0m\n\u001b[1;32m    779\u001b[0m             \u001b[0;31m# called before we get here, causing self._jobs to\u001b[0m\u001b[0;34m\u001b[0m\u001b[0;34m\u001b[0m\u001b[0;34m\u001b[0m\u001b[0m\n",
      "\u001b[0;32m/opt/conda/lib/python3.9/site-packages/joblib/_parallel_backends.py\u001b[0m in \u001b[0;36mapply_async\u001b[0;34m(self, func, callback)\u001b[0m\n\u001b[1;32m    206\u001b[0m     \u001b[0;32mdef\u001b[0m \u001b[0mapply_async\u001b[0m\u001b[0;34m(\u001b[0m\u001b[0mself\u001b[0m\u001b[0;34m,\u001b[0m \u001b[0mfunc\u001b[0m\u001b[0;34m,\u001b[0m \u001b[0mcallback\u001b[0m\u001b[0;34m=\u001b[0m\u001b[0;32mNone\u001b[0m\u001b[0;34m)\u001b[0m\u001b[0;34m:\u001b[0m\u001b[0;34m\u001b[0m\u001b[0;34m\u001b[0m\u001b[0m\n\u001b[1;32m    207\u001b[0m         \u001b[0;34m\"\"\"Schedule a func to be run\"\"\"\u001b[0m\u001b[0;34m\u001b[0m\u001b[0;34m\u001b[0m\u001b[0m\n\u001b[0;32m--> 208\u001b[0;31m         \u001b[0mresult\u001b[0m \u001b[0;34m=\u001b[0m \u001b[0mImmediateResult\u001b[0m\u001b[0;34m(\u001b[0m\u001b[0mfunc\u001b[0m\u001b[0;34m)\u001b[0m\u001b[0;34m\u001b[0m\u001b[0;34m\u001b[0m\u001b[0m\n\u001b[0m\u001b[1;32m    209\u001b[0m         \u001b[0;32mif\u001b[0m \u001b[0mcallback\u001b[0m\u001b[0;34m:\u001b[0m\u001b[0;34m\u001b[0m\u001b[0;34m\u001b[0m\u001b[0m\n\u001b[1;32m    210\u001b[0m             \u001b[0mcallback\u001b[0m\u001b[0;34m(\u001b[0m\u001b[0mresult\u001b[0m\u001b[0;34m)\u001b[0m\u001b[0;34m\u001b[0m\u001b[0;34m\u001b[0m\u001b[0m\n",
      "\u001b[0;32m/opt/conda/lib/python3.9/site-packages/joblib/_parallel_backends.py\u001b[0m in \u001b[0;36m__init__\u001b[0;34m(self, batch)\u001b[0m\n\u001b[1;32m    570\u001b[0m         \u001b[0;31m# Don't delay the application, to avoid keeping the input\u001b[0m\u001b[0;34m\u001b[0m\u001b[0;34m\u001b[0m\u001b[0;34m\u001b[0m\u001b[0m\n\u001b[1;32m    571\u001b[0m         \u001b[0;31m# arguments in memory\u001b[0m\u001b[0;34m\u001b[0m\u001b[0;34m\u001b[0m\u001b[0;34m\u001b[0m\u001b[0m\n\u001b[0;32m--> 572\u001b[0;31m         \u001b[0mself\u001b[0m\u001b[0;34m.\u001b[0m\u001b[0mresults\u001b[0m \u001b[0;34m=\u001b[0m \u001b[0mbatch\u001b[0m\u001b[0;34m(\u001b[0m\u001b[0;34m)\u001b[0m\u001b[0;34m\u001b[0m\u001b[0;34m\u001b[0m\u001b[0m\n\u001b[0m\u001b[1;32m    573\u001b[0m \u001b[0;34m\u001b[0m\u001b[0m\n\u001b[1;32m    574\u001b[0m     \u001b[0;32mdef\u001b[0m \u001b[0mget\u001b[0m\u001b[0;34m(\u001b[0m\u001b[0mself\u001b[0m\u001b[0;34m)\u001b[0m\u001b[0;34m:\u001b[0m\u001b[0;34m\u001b[0m\u001b[0;34m\u001b[0m\u001b[0m\n",
      "\u001b[0;32m/opt/conda/lib/python3.9/site-packages/joblib/parallel.py\u001b[0m in \u001b[0;36m__call__\u001b[0;34m(self)\u001b[0m\n\u001b[1;32m    260\u001b[0m         \u001b[0;31m# change the default number of processes to -1\u001b[0m\u001b[0;34m\u001b[0m\u001b[0;34m\u001b[0m\u001b[0;34m\u001b[0m\u001b[0m\n\u001b[1;32m    261\u001b[0m         \u001b[0;32mwith\u001b[0m \u001b[0mparallel_backend\u001b[0m\u001b[0;34m(\u001b[0m\u001b[0mself\u001b[0m\u001b[0;34m.\u001b[0m\u001b[0m_backend\u001b[0m\u001b[0;34m,\u001b[0m \u001b[0mn_jobs\u001b[0m\u001b[0;34m=\u001b[0m\u001b[0mself\u001b[0m\u001b[0;34m.\u001b[0m\u001b[0m_n_jobs\u001b[0m\u001b[0;34m)\u001b[0m\u001b[0;34m:\u001b[0m\u001b[0;34m\u001b[0m\u001b[0;34m\u001b[0m\u001b[0m\n\u001b[0;32m--> 262\u001b[0;31m             return [func(*args, **kwargs)\n\u001b[0m\u001b[1;32m    263\u001b[0m                     for func, args, kwargs in self.items]\n\u001b[1;32m    264\u001b[0m \u001b[0;34m\u001b[0m\u001b[0m\n",
      "\u001b[0;32m/opt/conda/lib/python3.9/site-packages/joblib/parallel.py\u001b[0m in \u001b[0;36m<listcomp>\u001b[0;34m(.0)\u001b[0m\n\u001b[1;32m    260\u001b[0m         \u001b[0;31m# change the default number of processes to -1\u001b[0m\u001b[0;34m\u001b[0m\u001b[0;34m\u001b[0m\u001b[0;34m\u001b[0m\u001b[0m\n\u001b[1;32m    261\u001b[0m         \u001b[0;32mwith\u001b[0m \u001b[0mparallel_backend\u001b[0m\u001b[0;34m(\u001b[0m\u001b[0mself\u001b[0m\u001b[0;34m.\u001b[0m\u001b[0m_backend\u001b[0m\u001b[0;34m,\u001b[0m \u001b[0mn_jobs\u001b[0m\u001b[0;34m=\u001b[0m\u001b[0mself\u001b[0m\u001b[0;34m.\u001b[0m\u001b[0m_n_jobs\u001b[0m\u001b[0;34m)\u001b[0m\u001b[0;34m:\u001b[0m\u001b[0;34m\u001b[0m\u001b[0;34m\u001b[0m\u001b[0m\n\u001b[0;32m--> 262\u001b[0;31m             return [func(*args, **kwargs)\n\u001b[0m\u001b[1;32m    263\u001b[0m                     for func, args, kwargs in self.items]\n\u001b[1;32m    264\u001b[0m \u001b[0;34m\u001b[0m\u001b[0m\n",
      "\u001b[0;32m/opt/conda/lib/python3.9/site-packages/sklearn/utils/fixes.py\u001b[0m in \u001b[0;36m__call__\u001b[0;34m(self, *args, **kwargs)\u001b[0m\n\u001b[1;32m    220\u001b[0m     \u001b[0;32mdef\u001b[0m \u001b[0m__call__\u001b[0m\u001b[0;34m(\u001b[0m\u001b[0mself\u001b[0m\u001b[0;34m,\u001b[0m \u001b[0;34m*\u001b[0m\u001b[0margs\u001b[0m\u001b[0;34m,\u001b[0m \u001b[0;34m**\u001b[0m\u001b[0mkwargs\u001b[0m\u001b[0;34m)\u001b[0m\u001b[0;34m:\u001b[0m\u001b[0;34m\u001b[0m\u001b[0;34m\u001b[0m\u001b[0m\n\u001b[1;32m    221\u001b[0m         \u001b[0;32mwith\u001b[0m \u001b[0mconfig_context\u001b[0m\u001b[0;34m(\u001b[0m\u001b[0;34m**\u001b[0m\u001b[0mself\u001b[0m\u001b[0;34m.\u001b[0m\u001b[0mconfig\u001b[0m\u001b[0;34m)\u001b[0m\u001b[0;34m:\u001b[0m\u001b[0;34m\u001b[0m\u001b[0;34m\u001b[0m\u001b[0m\n\u001b[0;32m--> 222\u001b[0;31m             \u001b[0;32mreturn\u001b[0m \u001b[0mself\u001b[0m\u001b[0;34m.\u001b[0m\u001b[0mfunction\u001b[0m\u001b[0;34m(\u001b[0m\u001b[0;34m*\u001b[0m\u001b[0margs\u001b[0m\u001b[0;34m,\u001b[0m \u001b[0;34m**\u001b[0m\u001b[0mkwargs\u001b[0m\u001b[0;34m)\u001b[0m\u001b[0;34m\u001b[0m\u001b[0;34m\u001b[0m\u001b[0m\n\u001b[0m",
      "\u001b[0;32m/opt/conda/lib/python3.9/site-packages/sklearn/model_selection/_validation.py\u001b[0m in \u001b[0;36m_fit_and_score\u001b[0;34m(estimator, X, y, scorer, train, test, verbose, parameters, fit_params, return_train_score, return_parameters, return_n_test_samples, return_times, return_estimator, split_progress, candidate_progress, error_score)\u001b[0m\n\u001b[1;32m    584\u001b[0m             \u001b[0mcloned_parameters\u001b[0m\u001b[0;34m[\u001b[0m\u001b[0mk\u001b[0m\u001b[0;34m]\u001b[0m \u001b[0;34m=\u001b[0m \u001b[0mclone\u001b[0m\u001b[0;34m(\u001b[0m\u001b[0mv\u001b[0m\u001b[0;34m,\u001b[0m \u001b[0msafe\u001b[0m\u001b[0;34m=\u001b[0m\u001b[0;32mFalse\u001b[0m\u001b[0;34m)\u001b[0m\u001b[0;34m\u001b[0m\u001b[0;34m\u001b[0m\u001b[0m\n\u001b[1;32m    585\u001b[0m \u001b[0;34m\u001b[0m\u001b[0m\n\u001b[0;32m--> 586\u001b[0;31m         \u001b[0mestimator\u001b[0m \u001b[0;34m=\u001b[0m \u001b[0mestimator\u001b[0m\u001b[0;34m.\u001b[0m\u001b[0mset_params\u001b[0m\u001b[0;34m(\u001b[0m\u001b[0;34m**\u001b[0m\u001b[0mcloned_parameters\u001b[0m\u001b[0;34m)\u001b[0m\u001b[0;34m\u001b[0m\u001b[0;34m\u001b[0m\u001b[0m\n\u001b[0m\u001b[1;32m    587\u001b[0m \u001b[0;34m\u001b[0m\u001b[0m\n\u001b[1;32m    588\u001b[0m     \u001b[0mstart_time\u001b[0m \u001b[0;34m=\u001b[0m \u001b[0mtime\u001b[0m\u001b[0;34m.\u001b[0m\u001b[0mtime\u001b[0m\u001b[0;34m(\u001b[0m\u001b[0;34m)\u001b[0m\u001b[0;34m\u001b[0m\u001b[0;34m\u001b[0m\u001b[0m\n",
      "\u001b[0;32m/opt/conda/lib/python3.9/site-packages/sklearn/pipeline.py\u001b[0m in \u001b[0;36mset_params\u001b[0;34m(self, **kwargs)\u001b[0m\n\u001b[1;32m    148\u001b[0m         \u001b[0mself\u001b[0m\u001b[0;34m\u001b[0m\u001b[0;34m\u001b[0m\u001b[0m\n\u001b[1;32m    149\u001b[0m         \"\"\"\n\u001b[0;32m--> 150\u001b[0;31m         \u001b[0mself\u001b[0m\u001b[0;34m.\u001b[0m\u001b[0m_set_params\u001b[0m\u001b[0;34m(\u001b[0m\u001b[0;34m'steps'\u001b[0m\u001b[0;34m,\u001b[0m \u001b[0;34m**\u001b[0m\u001b[0mkwargs\u001b[0m\u001b[0;34m)\u001b[0m\u001b[0;34m\u001b[0m\u001b[0;34m\u001b[0m\u001b[0m\n\u001b[0m\u001b[1;32m    151\u001b[0m         \u001b[0;32mreturn\u001b[0m \u001b[0mself\u001b[0m\u001b[0;34m\u001b[0m\u001b[0;34m\u001b[0m\u001b[0m\n\u001b[1;32m    152\u001b[0m \u001b[0;34m\u001b[0m\u001b[0m\n",
      "\u001b[0;32m/opt/conda/lib/python3.9/site-packages/sklearn/utils/metaestimators.py\u001b[0m in \u001b[0;36m_set_params\u001b[0;34m(self, attr, **params)\u001b[0m\n\u001b[1;32m     52\u001b[0m                 \u001b[0mself\u001b[0m\u001b[0;34m.\u001b[0m\u001b[0m_replace_estimator\u001b[0m\u001b[0;34m(\u001b[0m\u001b[0mattr\u001b[0m\u001b[0;34m,\u001b[0m \u001b[0mname\u001b[0m\u001b[0;34m,\u001b[0m \u001b[0mparams\u001b[0m\u001b[0;34m.\u001b[0m\u001b[0mpop\u001b[0m\u001b[0;34m(\u001b[0m\u001b[0mname\u001b[0m\u001b[0;34m)\u001b[0m\u001b[0;34m)\u001b[0m\u001b[0;34m\u001b[0m\u001b[0;34m\u001b[0m\u001b[0m\n\u001b[1;32m     53\u001b[0m         \u001b[0;31m# 3. Step parameters and other initialisation arguments\u001b[0m\u001b[0;34m\u001b[0m\u001b[0;34m\u001b[0m\u001b[0;34m\u001b[0m\u001b[0m\n\u001b[0;32m---> 54\u001b[0;31m         \u001b[0msuper\u001b[0m\u001b[0;34m(\u001b[0m\u001b[0;34m)\u001b[0m\u001b[0;34m.\u001b[0m\u001b[0mset_params\u001b[0m\u001b[0;34m(\u001b[0m\u001b[0;34m**\u001b[0m\u001b[0mparams\u001b[0m\u001b[0;34m)\u001b[0m\u001b[0;34m\u001b[0m\u001b[0;34m\u001b[0m\u001b[0m\n\u001b[0m\u001b[1;32m     55\u001b[0m         \u001b[0;32mreturn\u001b[0m \u001b[0mself\u001b[0m\u001b[0;34m\u001b[0m\u001b[0;34m\u001b[0m\u001b[0m\n\u001b[1;32m     56\u001b[0m \u001b[0;34m\u001b[0m\u001b[0m\n",
      "\u001b[0;32m/opt/conda/lib/python3.9/site-packages/sklearn/base.py\u001b[0m in \u001b[0;36mset_params\u001b[0;34m(self, **params)\u001b[0m\n\u001b[1;32m    240\u001b[0m \u001b[0;34m\u001b[0m\u001b[0m\n\u001b[1;32m    241\u001b[0m         \u001b[0;32mfor\u001b[0m \u001b[0mkey\u001b[0m\u001b[0;34m,\u001b[0m \u001b[0msub_params\u001b[0m \u001b[0;32min\u001b[0m \u001b[0mnested_params\u001b[0m\u001b[0;34m.\u001b[0m\u001b[0mitems\u001b[0m\u001b[0;34m(\u001b[0m\u001b[0;34m)\u001b[0m\u001b[0;34m:\u001b[0m\u001b[0;34m\u001b[0m\u001b[0;34m\u001b[0m\u001b[0m\n\u001b[0;32m--> 242\u001b[0;31m             \u001b[0mvalid_params\u001b[0m\u001b[0;34m[\u001b[0m\u001b[0mkey\u001b[0m\u001b[0;34m]\u001b[0m\u001b[0;34m.\u001b[0m\u001b[0mset_params\u001b[0m\u001b[0;34m(\u001b[0m\u001b[0;34m**\u001b[0m\u001b[0msub_params\u001b[0m\u001b[0;34m)\u001b[0m\u001b[0;34m\u001b[0m\u001b[0;34m\u001b[0m\u001b[0m\n\u001b[0m\u001b[1;32m    243\u001b[0m \u001b[0;34m\u001b[0m\u001b[0m\n\u001b[1;32m    244\u001b[0m         \u001b[0;32mreturn\u001b[0m \u001b[0mself\u001b[0m\u001b[0;34m\u001b[0m\u001b[0;34m\u001b[0m\u001b[0m\n",
      "\u001b[0;32m/opt/conda/lib/python3.9/site-packages/sklearn/base.py\u001b[0m in \u001b[0;36mset_params\u001b[0;34m(self, **params)\u001b[0m\n\u001b[1;32m    228\u001b[0m             \u001b[0mkey\u001b[0m\u001b[0;34m,\u001b[0m \u001b[0mdelim\u001b[0m\u001b[0;34m,\u001b[0m \u001b[0msub_key\u001b[0m \u001b[0;34m=\u001b[0m \u001b[0mkey\u001b[0m\u001b[0;34m.\u001b[0m\u001b[0mpartition\u001b[0m\u001b[0;34m(\u001b[0m\u001b[0;34m'__'\u001b[0m\u001b[0;34m)\u001b[0m\u001b[0;34m\u001b[0m\u001b[0;34m\u001b[0m\u001b[0m\n\u001b[1;32m    229\u001b[0m             \u001b[0;32mif\u001b[0m \u001b[0mkey\u001b[0m \u001b[0;32mnot\u001b[0m \u001b[0;32min\u001b[0m \u001b[0mvalid_params\u001b[0m\u001b[0;34m:\u001b[0m\u001b[0;34m\u001b[0m\u001b[0;34m\u001b[0m\u001b[0m\n\u001b[0;32m--> 230\u001b[0;31m                 raise ValueError('Invalid parameter %s for estimator %s. '\n\u001b[0m\u001b[1;32m    231\u001b[0m                                  \u001b[0;34m'Check the list of available parameters '\u001b[0m\u001b[0;34m\u001b[0m\u001b[0;34m\u001b[0m\u001b[0m\n\u001b[1;32m    232\u001b[0m                                  \u001b[0;34m'with `estimator.get_params().keys()`.'\u001b[0m \u001b[0;34m%\u001b[0m\u001b[0;34m\u001b[0m\u001b[0;34m\u001b[0m\u001b[0m\n",
      "\u001b[0;31mValueError\u001b[0m: Invalid parameter criterion for estimator AdaBoostClassifier(base_estimator=DecisionTreeClassifier(max_depth=1,\n                                                         random_state=1),\n                   n_estimators=100). Check the list of available parameters with `estimator.get_params().keys()`."
     ]
    }
   ],
   "source": [
    "clf_GS = GridSearchCV(pipe, parameters)\n",
    "clf_GS.fit(undersampled_X_train, undersampled_y_train)"
   ]
  },
  {
   "cell_type": "code",
   "execution_count": null,
   "id": "41e7d137-b30c-48ca-9b07-d9f4aa5f3ce9",
   "metadata": {},
   "outputs": [],
   "source": [
    "print('Best Criterion:', clf_GS.best_estimator_.get_params(['dec_tree__criterion']))\n"
   ]
  },
  {
   "cell_type": "code",
   "execution_count": null,
   "id": "eee119a1-acb1-4dab-a066-4189cf9bde31",
   "metadata": {},
   "outputs": [],
   "source": []
  }
 ],
 "metadata": {
  "kernelspec": {
   "display_name": "Python 3",
   "language": "python",
   "name": "python3"
  },
  "language_info": {
   "codemirror_mode": {
    "name": "ipython",
    "version": 3
   },
   "file_extension": ".py",
   "mimetype": "text/x-python",
   "name": "python",
   "nbconvert_exporter": "python",
   "pygments_lexer": "ipython3",
   "version": "3.9.2"
  }
 },
 "nbformat": 4,
 "nbformat_minor": 5
}
